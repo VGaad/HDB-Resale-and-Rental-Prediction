{
 "cells": [
  {
   "cell_type": "code",
   "execution_count": 1,
   "id": "2de23ec3",
   "metadata": {},
   "outputs": [],
   "source": [
    "import pandas as pd"
   ]
  },
  {
   "cell_type": "code",
   "execution_count": 103,
   "id": "2f2553d5",
   "metadata": {},
   "outputs": [],
   "source": [
    "rental = pd.read_csv(\"geocoded_data_rental.csv\")"
   ]
  },
  {
   "cell_type": "code",
   "execution_count": 104,
   "id": "1599c00f",
   "metadata": {},
   "outputs": [
    {
     "data": {
      "text/html": [
       "<div>\n",
       "<style scoped>\n",
       "    .dataframe tbody tr th:only-of-type {\n",
       "        vertical-align: middle;\n",
       "    }\n",
       "\n",
       "    .dataframe tbody tr th {\n",
       "        vertical-align: top;\n",
       "    }\n",
       "\n",
       "    .dataframe thead th {\n",
       "        text-align: right;\n",
       "    }\n",
       "</style>\n",
       "<table border=\"1\" class=\"dataframe\">\n",
       "  <thead>\n",
       "    <tr style=\"text-align: right;\">\n",
       "      <th></th>\n",
       "      <th>Year</th>\n",
       "      <th>Month</th>\n",
       "      <th>rent_approval_date</th>\n",
       "      <th>town</th>\n",
       "      <th>block</th>\n",
       "      <th>street_name</th>\n",
       "      <th>flat_type</th>\n",
       "      <th>monthly_rent</th>\n",
       "      <th>latitude</th>\n",
       "      <th>longitude</th>\n",
       "    </tr>\n",
       "  </thead>\n",
       "  <tbody>\n",
       "    <tr>\n",
       "      <th>0</th>\n",
       "      <td>2021</td>\n",
       "      <td>1</td>\n",
       "      <td>2021-01-01</td>\n",
       "      <td>ANG MO KIO</td>\n",
       "      <td>105</td>\n",
       "      <td>ANG MO KIO AVE 4</td>\n",
       "      <td>4-ROOM</td>\n",
       "      <td>2000</td>\n",
       "      <td>1.369208</td>\n",
       "      <td>103.850399</td>\n",
       "    </tr>\n",
       "    <tr>\n",
       "      <th>1</th>\n",
       "      <td>2021</td>\n",
       "      <td>1</td>\n",
       "      <td>2021-01-01</td>\n",
       "      <td>ANG MO KIO</td>\n",
       "      <td>107</td>\n",
       "      <td>ANG MO KIO AVE 4</td>\n",
       "      <td>3-ROOM</td>\n",
       "      <td>1750</td>\n",
       "      <td>1.369208</td>\n",
       "      <td>103.850399</td>\n",
       "    </tr>\n",
       "    <tr>\n",
       "      <th>2</th>\n",
       "      <td>2021</td>\n",
       "      <td>1</td>\n",
       "      <td>2021-01-01</td>\n",
       "      <td>ANG MO KIO</td>\n",
       "      <td>108</td>\n",
       "      <td>ANG MO KIO AVE 4</td>\n",
       "      <td>3-ROOM</td>\n",
       "      <td>1750</td>\n",
       "      <td>1.369208</td>\n",
       "      <td>103.850399</td>\n",
       "    </tr>\n",
       "    <tr>\n",
       "      <th>3</th>\n",
       "      <td>2021</td>\n",
       "      <td>1</td>\n",
       "      <td>2021-01-01</td>\n",
       "      <td>ANG MO KIO</td>\n",
       "      <td>111</td>\n",
       "      <td>ANG MO KIO AVE 4</td>\n",
       "      <td>5-ROOM</td>\n",
       "      <td>2230</td>\n",
       "      <td>1.369208</td>\n",
       "      <td>103.850399</td>\n",
       "    </tr>\n",
       "    <tr>\n",
       "      <th>4</th>\n",
       "      <td>2021</td>\n",
       "      <td>1</td>\n",
       "      <td>2021-01-01</td>\n",
       "      <td>ANG MO KIO</td>\n",
       "      <td>111</td>\n",
       "      <td>ANG MO KIO AVE 4</td>\n",
       "      <td>5-ROOM</td>\n",
       "      <td>2450</td>\n",
       "      <td>1.369208</td>\n",
       "      <td>103.850399</td>\n",
       "    </tr>\n",
       "  </tbody>\n",
       "</table>\n",
       "</div>"
      ],
      "text/plain": [
       "   Year  Month rent_approval_date        town block       street_name  \\\n",
       "0  2021      1         2021-01-01  ANG MO KIO   105  ANG MO KIO AVE 4   \n",
       "1  2021      1         2021-01-01  ANG MO KIO   107  ANG MO KIO AVE 4   \n",
       "2  2021      1         2021-01-01  ANG MO KIO   108  ANG MO KIO AVE 4   \n",
       "3  2021      1         2021-01-01  ANG MO KIO   111  ANG MO KIO AVE 4   \n",
       "4  2021      1         2021-01-01  ANG MO KIO   111  ANG MO KIO AVE 4   \n",
       "\n",
       "  flat_type  monthly_rent  latitude   longitude  \n",
       "0    4-ROOM          2000  1.369208  103.850399  \n",
       "1    3-ROOM          1750  1.369208  103.850399  \n",
       "2    3-ROOM          1750  1.369208  103.850399  \n",
       "3    5-ROOM          2230  1.369208  103.850399  \n",
       "4    5-ROOM          2450  1.369208  103.850399  "
      ]
     },
     "execution_count": 104,
     "metadata": {},
     "output_type": "execute_result"
    }
   ],
   "source": [
    "rental.head()"
   ]
  },
  {
   "cell_type": "code",
   "execution_count": 105,
   "id": "2f3f8cab",
   "metadata": {},
   "outputs": [],
   "source": [
    "rental.drop(columns = [\"rent_approval_date\",'latitude','longitude'],inplace=True)"
   ]
  },
  {
   "cell_type": "code",
   "execution_count": 106,
   "id": "6beb25da",
   "metadata": {},
   "outputs": [
    {
     "data": {
      "text/html": [
       "<div>\n",
       "<style scoped>\n",
       "    .dataframe tbody tr th:only-of-type {\n",
       "        vertical-align: middle;\n",
       "    }\n",
       "\n",
       "    .dataframe tbody tr th {\n",
       "        vertical-align: top;\n",
       "    }\n",
       "\n",
       "    .dataframe thead th {\n",
       "        text-align: right;\n",
       "    }\n",
       "</style>\n",
       "<table border=\"1\" class=\"dataframe\">\n",
       "  <thead>\n",
       "    <tr style=\"text-align: right;\">\n",
       "      <th></th>\n",
       "      <th>Year</th>\n",
       "      <th>Month</th>\n",
       "      <th>town</th>\n",
       "      <th>block</th>\n",
       "      <th>street_name</th>\n",
       "      <th>flat_type</th>\n",
       "      <th>monthly_rent</th>\n",
       "    </tr>\n",
       "  </thead>\n",
       "  <tbody>\n",
       "    <tr>\n",
       "      <th>0</th>\n",
       "      <td>2021</td>\n",
       "      <td>1</td>\n",
       "      <td>ANG MO KIO</td>\n",
       "      <td>105</td>\n",
       "      <td>ANG MO KIO AVE 4</td>\n",
       "      <td>4-ROOM</td>\n",
       "      <td>2000</td>\n",
       "    </tr>\n",
       "    <tr>\n",
       "      <th>1</th>\n",
       "      <td>2021</td>\n",
       "      <td>1</td>\n",
       "      <td>ANG MO KIO</td>\n",
       "      <td>107</td>\n",
       "      <td>ANG MO KIO AVE 4</td>\n",
       "      <td>3-ROOM</td>\n",
       "      <td>1750</td>\n",
       "    </tr>\n",
       "    <tr>\n",
       "      <th>2</th>\n",
       "      <td>2021</td>\n",
       "      <td>1</td>\n",
       "      <td>ANG MO KIO</td>\n",
       "      <td>108</td>\n",
       "      <td>ANG MO KIO AVE 4</td>\n",
       "      <td>3-ROOM</td>\n",
       "      <td>1750</td>\n",
       "    </tr>\n",
       "    <tr>\n",
       "      <th>3</th>\n",
       "      <td>2021</td>\n",
       "      <td>1</td>\n",
       "      <td>ANG MO KIO</td>\n",
       "      <td>111</td>\n",
       "      <td>ANG MO KIO AVE 4</td>\n",
       "      <td>5-ROOM</td>\n",
       "      <td>2230</td>\n",
       "    </tr>\n",
       "    <tr>\n",
       "      <th>4</th>\n",
       "      <td>2021</td>\n",
       "      <td>1</td>\n",
       "      <td>ANG MO KIO</td>\n",
       "      <td>111</td>\n",
       "      <td>ANG MO KIO AVE 4</td>\n",
       "      <td>5-ROOM</td>\n",
       "      <td>2450</td>\n",
       "    </tr>\n",
       "  </tbody>\n",
       "</table>\n",
       "</div>"
      ],
      "text/plain": [
       "   Year  Month        town block       street_name flat_type  monthly_rent\n",
       "0  2021      1  ANG MO KIO   105  ANG MO KIO AVE 4    4-ROOM          2000\n",
       "1  2021      1  ANG MO KIO   107  ANG MO KIO AVE 4    3-ROOM          1750\n",
       "2  2021      1  ANG MO KIO   108  ANG MO KIO AVE 4    3-ROOM          1750\n",
       "3  2021      1  ANG MO KIO   111  ANG MO KIO AVE 4    5-ROOM          2230\n",
       "4  2021      1  ANG MO KIO   111  ANG MO KIO AVE 4    5-ROOM          2450"
      ]
     },
     "execution_count": 106,
     "metadata": {},
     "output_type": "execute_result"
    }
   ],
   "source": [
    "rental.head()"
   ]
  },
  {
   "cell_type": "code",
   "execution_count": 107,
   "id": "ce52a5f9",
   "metadata": {},
   "outputs": [],
   "source": [
    "spi_rental = pd.read_csv(\"rental_spi.csv\")\n",
    "rental = pd.merge(spi_rental, rental, on=['Year', 'Month'])"
   ]
  },
  {
   "cell_type": "code",
   "execution_count": 108,
   "id": "7ad4d37d",
   "metadata": {},
   "outputs": [
    {
     "data": {
      "text/html": [
       "<div>\n",
       "<style scoped>\n",
       "    .dataframe tbody tr th:only-of-type {\n",
       "        vertical-align: middle;\n",
       "    }\n",
       "\n",
       "    .dataframe tbody tr th {\n",
       "        vertical-align: top;\n",
       "    }\n",
       "\n",
       "    .dataframe thead th {\n",
       "        text-align: right;\n",
       "    }\n",
       "</style>\n",
       "<table border=\"1\" class=\"dataframe\">\n",
       "  <thead>\n",
       "    <tr style=\"text-align: right;\">\n",
       "      <th></th>\n",
       "      <th>Month</th>\n",
       "      <th>Year</th>\n",
       "      <th>Index</th>\n",
       "      <th>Q</th>\n",
       "      <th>town</th>\n",
       "      <th>block</th>\n",
       "      <th>street_name</th>\n",
       "      <th>flat_type</th>\n",
       "      <th>monthly_rent</th>\n",
       "    </tr>\n",
       "  </thead>\n",
       "  <tbody>\n",
       "    <tr>\n",
       "      <th>0</th>\n",
       "      <td>12</td>\n",
       "      <td>2023</td>\n",
       "      <td>137.0</td>\n",
       "      <td>1.0</td>\n",
       "      <td>GEYLANG</td>\n",
       "      <td>356A</td>\n",
       "      <td>UBI RD 3</td>\n",
       "      <td>4-ROOM</td>\n",
       "      <td>4200</td>\n",
       "    </tr>\n",
       "    <tr>\n",
       "      <th>1</th>\n",
       "      <td>12</td>\n",
       "      <td>2023</td>\n",
       "      <td>137.0</td>\n",
       "      <td>1.0</td>\n",
       "      <td>CLEMENTI</td>\n",
       "      <td>210B</td>\n",
       "      <td>CLEMENTI AVE 6</td>\n",
       "      <td>4-ROOM</td>\n",
       "      <td>4500</td>\n",
       "    </tr>\n",
       "    <tr>\n",
       "      <th>2</th>\n",
       "      <td>12</td>\n",
       "      <td>2023</td>\n",
       "      <td>137.0</td>\n",
       "      <td>1.0</td>\n",
       "      <td>BUKIT MERAH</td>\n",
       "      <td>95C</td>\n",
       "      <td>HENDERSON RD</td>\n",
       "      <td>4-ROOM</td>\n",
       "      <td>4200</td>\n",
       "    </tr>\n",
       "    <tr>\n",
       "      <th>3</th>\n",
       "      <td>12</td>\n",
       "      <td>2023</td>\n",
       "      <td>137.0</td>\n",
       "      <td>1.0</td>\n",
       "      <td>QUEENSTOWN</td>\n",
       "      <td>21</td>\n",
       "      <td>DOVER CRES</td>\n",
       "      <td>3-ROOM</td>\n",
       "      <td>3500</td>\n",
       "    </tr>\n",
       "    <tr>\n",
       "      <th>4</th>\n",
       "      <td>12</td>\n",
       "      <td>2023</td>\n",
       "      <td>137.0</td>\n",
       "      <td>1.0</td>\n",
       "      <td>KALLANG/WHAMPOA</td>\n",
       "      <td>20B</td>\n",
       "      <td>LOR 3 GEYLANG</td>\n",
       "      <td>4-ROOM</td>\n",
       "      <td>4550</td>\n",
       "    </tr>\n",
       "  </tbody>\n",
       "</table>\n",
       "</div>"
      ],
      "text/plain": [
       "   Month  Year  Index    Q             town block     street_name flat_type  \\\n",
       "0     12  2023  137.0  1.0          GEYLANG  356A        UBI RD 3    4-ROOM   \n",
       "1     12  2023  137.0  1.0         CLEMENTI  210B  CLEMENTI AVE 6    4-ROOM   \n",
       "2     12  2023  137.0  1.0      BUKIT MERAH   95C    HENDERSON RD    4-ROOM   \n",
       "3     12  2023  137.0  1.0       QUEENSTOWN    21      DOVER CRES    3-ROOM   \n",
       "4     12  2023  137.0  1.0  KALLANG/WHAMPOA   20B   LOR 3 GEYLANG    4-ROOM   \n",
       "\n",
       "   monthly_rent  \n",
       "0          4200  \n",
       "1          4500  \n",
       "2          4200  \n",
       "3          3500  \n",
       "4          4550  "
      ]
     },
     "execution_count": 108,
     "metadata": {},
     "output_type": "execute_result"
    }
   ],
   "source": [
    "rental.head()"
   ]
  },
  {
   "cell_type": "code",
   "execution_count": 109,
   "id": "35deee31",
   "metadata": {},
   "outputs": [],
   "source": [
    "rental.drop(columns=['Q'],inplace=True)"
   ]
  },
  {
   "cell_type": "code",
   "execution_count": 110,
   "id": "18e2f125",
   "metadata": {},
   "outputs": [
    {
     "data": {
      "text/html": [
       "<div>\n",
       "<style scoped>\n",
       "    .dataframe tbody tr th:only-of-type {\n",
       "        vertical-align: middle;\n",
       "    }\n",
       "\n",
       "    .dataframe tbody tr th {\n",
       "        vertical-align: top;\n",
       "    }\n",
       "\n",
       "    .dataframe thead th {\n",
       "        text-align: right;\n",
       "    }\n",
       "</style>\n",
       "<table border=\"1\" class=\"dataframe\">\n",
       "  <thead>\n",
       "    <tr style=\"text-align: right;\">\n",
       "      <th></th>\n",
       "      <th>Month</th>\n",
       "      <th>Year</th>\n",
       "      <th>Index</th>\n",
       "      <th>town</th>\n",
       "      <th>block</th>\n",
       "      <th>street_name</th>\n",
       "      <th>flat_type</th>\n",
       "      <th>monthly_rent</th>\n",
       "    </tr>\n",
       "  </thead>\n",
       "  <tbody>\n",
       "    <tr>\n",
       "      <th>0</th>\n",
       "      <td>12</td>\n",
       "      <td>2023</td>\n",
       "      <td>137.0</td>\n",
       "      <td>GEYLANG</td>\n",
       "      <td>356A</td>\n",
       "      <td>UBI RD 3</td>\n",
       "      <td>4-ROOM</td>\n",
       "      <td>4200</td>\n",
       "    </tr>\n",
       "    <tr>\n",
       "      <th>1</th>\n",
       "      <td>12</td>\n",
       "      <td>2023</td>\n",
       "      <td>137.0</td>\n",
       "      <td>CLEMENTI</td>\n",
       "      <td>210B</td>\n",
       "      <td>CLEMENTI AVE 6</td>\n",
       "      <td>4-ROOM</td>\n",
       "      <td>4500</td>\n",
       "    </tr>\n",
       "    <tr>\n",
       "      <th>2</th>\n",
       "      <td>12</td>\n",
       "      <td>2023</td>\n",
       "      <td>137.0</td>\n",
       "      <td>BUKIT MERAH</td>\n",
       "      <td>95C</td>\n",
       "      <td>HENDERSON RD</td>\n",
       "      <td>4-ROOM</td>\n",
       "      <td>4200</td>\n",
       "    </tr>\n",
       "    <tr>\n",
       "      <th>3</th>\n",
       "      <td>12</td>\n",
       "      <td>2023</td>\n",
       "      <td>137.0</td>\n",
       "      <td>QUEENSTOWN</td>\n",
       "      <td>21</td>\n",
       "      <td>DOVER CRES</td>\n",
       "      <td>3-ROOM</td>\n",
       "      <td>3500</td>\n",
       "    </tr>\n",
       "    <tr>\n",
       "      <th>4</th>\n",
       "      <td>12</td>\n",
       "      <td>2023</td>\n",
       "      <td>137.0</td>\n",
       "      <td>KALLANG/WHAMPOA</td>\n",
       "      <td>20B</td>\n",
       "      <td>LOR 3 GEYLANG</td>\n",
       "      <td>4-ROOM</td>\n",
       "      <td>4550</td>\n",
       "    </tr>\n",
       "  </tbody>\n",
       "</table>\n",
       "</div>"
      ],
      "text/plain": [
       "   Month  Year  Index             town block     street_name flat_type  \\\n",
       "0     12  2023  137.0          GEYLANG  356A        UBI RD 3    4-ROOM   \n",
       "1     12  2023  137.0         CLEMENTI  210B  CLEMENTI AVE 6    4-ROOM   \n",
       "2     12  2023  137.0      BUKIT MERAH   95C    HENDERSON RD    4-ROOM   \n",
       "3     12  2023  137.0       QUEENSTOWN    21      DOVER CRES    3-ROOM   \n",
       "4     12  2023  137.0  KALLANG/WHAMPOA   20B   LOR 3 GEYLANG    4-ROOM   \n",
       "\n",
       "   monthly_rent  \n",
       "0          4200  \n",
       "1          4500  \n",
       "2          4200  \n",
       "3          3500  \n",
       "4          4550  "
      ]
     },
     "execution_count": 110,
     "metadata": {},
     "output_type": "execute_result"
    }
   ],
   "source": [
    "rental.head()"
   ]
  },
  {
   "cell_type": "code",
   "execution_count": 111,
   "id": "96878a60",
   "metadata": {},
   "outputs": [
    {
     "data": {
      "text/html": [
       "<div>\n",
       "<style scoped>\n",
       "    .dataframe tbody tr th:only-of-type {\n",
       "        vertical-align: middle;\n",
       "    }\n",
       "\n",
       "    .dataframe tbody tr th {\n",
       "        vertical-align: top;\n",
       "    }\n",
       "\n",
       "    .dataframe thead th {\n",
       "        text-align: right;\n",
       "    }\n",
       "</style>\n",
       "<table border=\"1\" class=\"dataframe\">\n",
       "  <thead>\n",
       "    <tr style=\"text-align: right;\">\n",
       "      <th></th>\n",
       "      <th>Month</th>\n",
       "      <th>Year</th>\n",
       "      <th>Index</th>\n",
       "      <th>town</th>\n",
       "      <th>flat_type</th>\n",
       "      <th>monthly_rent</th>\n",
       "    </tr>\n",
       "  </thead>\n",
       "  <tbody>\n",
       "    <tr>\n",
       "      <th>0</th>\n",
       "      <td>12</td>\n",
       "      <td>2023</td>\n",
       "      <td>137.0</td>\n",
       "      <td>GEYLANG</td>\n",
       "      <td>4-ROOM</td>\n",
       "      <td>4200</td>\n",
       "    </tr>\n",
       "    <tr>\n",
       "      <th>1</th>\n",
       "      <td>12</td>\n",
       "      <td>2023</td>\n",
       "      <td>137.0</td>\n",
       "      <td>CLEMENTI</td>\n",
       "      <td>4-ROOM</td>\n",
       "      <td>4500</td>\n",
       "    </tr>\n",
       "    <tr>\n",
       "      <th>2</th>\n",
       "      <td>12</td>\n",
       "      <td>2023</td>\n",
       "      <td>137.0</td>\n",
       "      <td>BUKIT MERAH</td>\n",
       "      <td>4-ROOM</td>\n",
       "      <td>4200</td>\n",
       "    </tr>\n",
       "    <tr>\n",
       "      <th>3</th>\n",
       "      <td>12</td>\n",
       "      <td>2023</td>\n",
       "      <td>137.0</td>\n",
       "      <td>QUEENSTOWN</td>\n",
       "      <td>3-ROOM</td>\n",
       "      <td>3500</td>\n",
       "    </tr>\n",
       "    <tr>\n",
       "      <th>4</th>\n",
       "      <td>12</td>\n",
       "      <td>2023</td>\n",
       "      <td>137.0</td>\n",
       "      <td>KALLANG/WHAMPOA</td>\n",
       "      <td>4-ROOM</td>\n",
       "      <td>4550</td>\n",
       "    </tr>\n",
       "  </tbody>\n",
       "</table>\n",
       "</div>"
      ],
      "text/plain": [
       "   Month  Year  Index             town flat_type  monthly_rent\n",
       "0     12  2023  137.0          GEYLANG    4-ROOM          4200\n",
       "1     12  2023  137.0         CLEMENTI    4-ROOM          4500\n",
       "2     12  2023  137.0      BUKIT MERAH    4-ROOM          4200\n",
       "3     12  2023  137.0       QUEENSTOWN    3-ROOM          3500\n",
       "4     12  2023  137.0  KALLANG/WHAMPOA    4-ROOM          4550"
      ]
     },
     "execution_count": 111,
     "metadata": {},
     "output_type": "execute_result"
    }
   ],
   "source": [
    "rental.drop(columns=['block','street_name'],inplace=True)\n",
    "rental.head()"
   ]
  },
  {
   "cell_type": "code",
   "execution_count": 112,
   "id": "ccfc47df",
   "metadata": {},
   "outputs": [],
   "source": [
    "rental.to_csv(\"rental_spi_encoded.csv\")"
   ]
  },
  {
   "cell_type": "code",
   "execution_count": 114,
   "id": "4285316b",
   "metadata": {},
   "outputs": [
    {
     "data": {
      "text/plain": [
       "Index(['town_ANG MO KIO', 'town_BEDOK', 'town_BISHAN', 'town_BUKIT BATOK',\n",
       "       'town_BUKIT MERAH', 'town_BUKIT PANJANG', 'town_BUKIT TIMAH',\n",
       "       'town_CENTRAL', 'town_CHOA CHU KANG', 'town_CLEMENTI', 'town_GEYLANG',\n",
       "       'town_HOUGANG', 'town_JURONG EAST', 'town_JURONG WEST',\n",
       "       'town_KALLANG/WHAMPOA', 'town_MARINE PARADE', 'town_PASIR RIS',\n",
       "       'town_PUNGGOL', 'town_QUEENSTOWN', 'town_SEMBAWANG', 'town_SENGKANG',\n",
       "       'town_SERANGOON', 'town_TAMPINES', 'town_TOA PAYOH', 'town_WOODLANDS',\n",
       "       'town_YISHUN'],\n",
       "      dtype='object')"
      ]
     },
     "execution_count": 114,
     "metadata": {},
     "output_type": "execute_result"
    }
   ],
   "source": [
    "town_encoded = pd.get_dummies(rental['town'], prefix='town')\n",
    "\n",
    "#rental = pd.concat([rental, town_encoded], axis=1)\n",
    "\n",
    "town_encoded.columns"
   ]
  },
  {
   "cell_type": "code",
   "execution_count": null,
   "id": "67ceafe6",
   "metadata": {},
   "outputs": [],
   "source": [
    "y = rental['monthly_rent']\n",
    "\n",
    "X = rental.drop(columns=['monthly_rent'])\n",
    "\n",
    "X_train, X_test, y_train, y_test = train_test_split(X, y, test_size=0.2)"
   ]
  },
  {
   "cell_type": "code",
   "execution_count": null,
   "id": "f8d6c1b7",
   "metadata": {
    "scrolled": false
   },
   "outputs": [],
   "source": [
    "**\n",
    "import xgboost as xgb\n",
    "from sklearn.model_selection import KFold\n",
    "from sklearn.metrics import mean_squared_error\n",
    "from hyperopt import hp, fmin, tpe, Trials, STATUS_OK, rand\n",
    "import numpy as np\n",
    "\n",
    "# Define search space for hyperparameters\n",
    "space = {\n",
    "    'n_estimators': hp.quniform('n_estimators', 100, 1500, 1),\n",
    "    'learning_rate': hp.loguniform('learning_rate', -3, 0),\n",
    "    'max_depth': hp.quniform('max_depth', 1, 10, 1),\n",
    "    'min_child_weight': hp.uniform('min_child_weight', 0, 10),\n",
    "    'subsample': hp.uniform('subsample', 0.1, 1),\n",
    "    'reg_lambda': hp.loguniform('reg_lambda', -3, 3),\n",
    "    'reg_alpha': hp.loguniform('reg_alpha', -3, 3),\n",
    "}\n",
    "\n",
    "# Define categorical features\n",
    "categorical_features = ['town', 'flat_type','block','street_name']\n",
    "\n",
    "def objective(params):\n",
    "    # Initialize params dictionary\n",
    "    params = {\n",
    "        'objective': 'reg:squarederror',  # Set the objective function\n",
    "        'eval_metric': 'rmse',            # Set the evaluation metric\n",
    "        'n_estimators': int(params['n_estimators']),  # Number of boosting rounds\n",
    "        'learning_rate': params['learning_rate'],     # Learning rate\n",
    "        'max_depth': int(params['max_depth']),        # Maximum tree depth\n",
    "        'min_child_weight': params['min_child_weight'],   # Minimum sum of instance weight needed in a child\n",
    "        'subsample': params['subsample'],                # Subsample ratio of the training instances\n",
    "        'reg_lambda': params['reg_lambda'],              # L2 regularization term on weights\n",
    "        'reg_alpha': params['reg_alpha'],                # L1 regularization term on weights\n",
    "    }\n",
    "    \n",
    "    # Perform stratified k-fold cross-validation\n",
    "    skf = KFold(n_splits=5, shuffle=True, random_state=42)\n",
    "    rmse_scores = []\n",
    "    for train_index, test_index in skf.split(X, y):\n",
    "        X_train, X_test = X.iloc[train_index], X.iloc[test_index]\n",
    "        y_train, y_test = y.iloc[train_index], y.iloc[test_index]\n",
    "\n",
    "        # Convert categorical columns to category dtype\n",
    "        for col in categorical_features:\n",
    "            X_train[col] = X_train[col].astype('category')\n",
    "            X_test[col] = X_test[col].astype('category')\n",
    "\n",
    "        # Create DMatrix\n",
    "        dtrain = xgb.DMatrix(X_train, label=y_train, feature_names=X_train.columns.tolist(), enable_categorical=True)\n",
    "        dtest = xgb.DMatrix(X_test, label=y_test, feature_names=X_test.columns.tolist(), enable_categorical=True)\n",
    "        \n",
    "        # Train XGBoost model\n",
    "        model = xgb.train(params, dtrain, num_boost_round=params['n_estimators'], evals=[(dtest, 'test')],\n",
    "                          early_stopping_rounds=10)\n",
    "    \n",
    "\n",
    "        # Make predictions\n",
    "        y_pred = model.predict(dtest)\n",
    "\n",
    "        # Calculate RMSE\n",
    "        rmse = mean_squared_error(y_test, y_pred, squared=False)\n",
    "        rmse_scores.append(rmse)\n",
    "    \n",
    "    mean_rmse = np.mean(rmse_scores)\n",
    "\n",
    "    global best_model\n",
    "    if best_model is None or mean_rmse < best_model['rmse']:\n",
    "        best_model = {\n",
    "            'model': model,  # Store the model itself\n",
    "            'rmse': mean_rmse\n",
    "        }\n",
    "    \n",
    "    return {'loss': mean_rmse, 'status': STATUS_OK}\n",
    "\n",
    "# Initialize best_model\n",
    "best_model = None\n",
    "\n",
    "# Use TPE algorithm to find the best hyperparameters\n",
    "trials = Trials()\n",
    "best = fmin(objective, space, algo=tpe.suggest, max_evals=10, trials=trials)\n",
    "\n",
    "# Retrieve the best model\n",
    "best_model = best_model['model']\n",
    "\n",
    "# Print the best hyperparameters\n",
    "print(\"Best Hyperparameters:\", best)\n"
   ]
  },
  {
   "cell_type": "code",
   "execution_count": 11,
   "id": "b2d2d350",
   "metadata": {},
   "outputs": [],
   "source": [
    "rental.drop(columns=['block','street_name'],inplace=True)"
   ]
  },
  {
   "cell_type": "code",
   "execution_count": 130,
   "id": "bf979461",
   "metadata": {},
   "outputs": [],
   "source": [
    "# Define the mapping dictionary\n",
    "flat_type_mapping = {\n",
    "    '1-ROOM': 1,\n",
    "    '2-ROOM': 2,\n",
    "    '3-ROOM': 3,\n",
    "    '4-ROOM': 4,\n",
    "    '5-ROOM': 5,\n",
    "    'EXECUTIVE': 6\n",
    "}\n",
    "\n",
    "\n",
    "rental['flat_type_encoded'] = rental['flat_type'].map(flat_type_mapping)"
   ]
  },
  {
   "cell_type": "code",
   "execution_count": 131,
   "id": "a42adcaa",
   "metadata": {},
   "outputs": [],
   "source": [
    "rental.drop(columns=['flat_type'],inplace=True)"
   ]
  },
  {
   "cell_type": "code",
   "execution_count": 129,
   "id": "74e8acf4",
   "metadata": {},
   "outputs": [],
   "source": [
    "town_encoded = pd.get_dummies(rental['town'], prefix='town')\n",
    "\n",
    "rental = pd.concat([rental, town_encoded], axis=1)"
   ]
  },
  {
   "cell_type": "code",
   "execution_count": 132,
   "id": "5b031715",
   "metadata": {},
   "outputs": [],
   "source": [
    "rental.drop(columns=['town'],inplace=True)"
   ]
  },
  {
   "cell_type": "code",
   "execution_count": 133,
   "id": "aef97908",
   "metadata": {},
   "outputs": [],
   "source": [
    "from sklearn.model_selection import train_test_split\n",
    "\n",
    "y = rental['monthly_rent']\n",
    "\n",
    "X = rental.drop(columns=['monthly_rent'])\n"
   ]
  },
  {
   "cell_type": "code",
   "execution_count": 35,
   "id": "52e1923c",
   "metadata": {},
   "outputs": [
    {
     "name": "stdout",
     "output_type": "stream",
     "text": [
      "Fold 1 RMSE: 648.4116328343829\n",
      "Fold 2 RMSE: 678.1578532248085\n",
      "Fold 3 RMSE: 505.8724280509126\n",
      "Fold 4 RMSE: 357.1490886864843\n",
      "Fold 5 RMSE: 327.9340024145354\n",
      "\n",
      "Mean RMSE for linear Regression: 503.50500104222476\n",
      "Standard Deviation of RMSE: 144.05025794083556\n"
     ]
    }
   ],
   "source": [
    "from sklearn.linear_model import LinearRegression\n",
    "from sklearn.model_selection import cross_val_score, train_test_split\n",
    "from sklearn.metrics import mean_squared_error\n",
    "import numpy as np\n",
    "\n",
    "np.random.seed(42)\n",
    "\n",
    "model = LinearRegression()\n",
    "\n",
    "scores = cross_val_score(model, X, y, cv=5, scoring='neg_mean_squared_error')\n",
    "\n",
    "mse_scores = np.sqrt(-scores)\n",
    "\n",
    "for fold, score in enumerate(mse_scores, start=1):\n",
    "    print(f\"Fold {fold} RMSE: {score}\")\n",
    "\n",
    "# Calculate mean and standard deviation of RMSE scores\n",
    "mean_rmse = np.mean(mse_scores)\n",
    "std_rmse = np.std(mse_scores)\n",
    "print(f\"\\nMean RMSE for linear Regression: {mean_rmse}\")\n",
    "print(f\"Standard Deviation of RMSE: {std_rmse}\")"
   ]
  },
  {
   "cell_type": "code",
   "execution_count": 20,
   "id": "c8e0789b",
   "metadata": {},
   "outputs": [
    {
     "name": "stdout",
     "output_type": "stream",
     "text": [
      "Fold 1 RMSE: 628.4624355715431\n",
      "Fold 2 RMSE: 678.136882471187\n",
      "Fold 3 RMSE: 526.7329756412445\n",
      "Fold 4 RMSE: 342.9125503560264\n",
      "Fold 5 RMSE: 300.17465448078104\n",
      "\n",
      "Mean RMSE for DecisionTree Regressor: 495.2838997041564\n",
      "Standard Deviation of RMSE: 150.628965191747\n"
     ]
    }
   ],
   "source": [
    "from sklearn.tree import DecisionTreeRegressor\n",
    "from sklearn.model_selection import cross_val_score\n",
    "from sklearn.metrics import mean_squared_error\n",
    "import numpy as np\n",
    "\n",
    "np.random.seed(42)\n",
    "\n",
    "model = DecisionTreeRegressor()\n",
    "\n",
    "scores = cross_val_score(model, X, y, cv=5, scoring='neg_mean_squared_error')\n",
    "\n",
    "mse_scores = np.sqrt(-scores)\n",
    "\n",
    "for fold, score in enumerate(mse_scores, start=1):\n",
    "    print(f\"Fold {fold} RMSE: {score}\")\n",
    "\n",
    "# Calculate mean and standard deviation of RMSE scores\n",
    "mean_rmse = np.mean(mse_scores)\n",
    "std_rmse = np.std(mse_scores)\n",
    "print(f\"\\nMean RMSE for DecisionTree Regressor: {mean_rmse}\")\n",
    "print(f\"Standard Deviation of RMSE: {std_rmse}\")"
   ]
  },
  {
   "cell_type": "code",
   "execution_count": 21,
   "id": "14410a9a",
   "metadata": {},
   "outputs": [
    {
     "name": "stdout",
     "output_type": "stream",
     "text": [
      "Fold 1 RMSE: 621.4805507294295\n",
      "Fold 2 RMSE: 664.4660216236692\n",
      "Fold 3 RMSE: 536.6549601683762\n",
      "Fold 4 RMSE: 341.8289995794465\n",
      "Fold 5 RMSE: 305.4980623584612\n",
      "\n",
      "Mean RMSE for XGBoost: 493.9857188918765\n",
      "Standard Deviation of RMSE: 145.47741667578657\n"
     ]
    }
   ],
   "source": [
    "import xgboost as xgb\n",
    "from sklearn.model_selection import cross_val_score\n",
    "from sklearn.metrics import mean_squared_error\n",
    "import numpy as np\n",
    "\n",
    "np.random.seed(42)\n",
    "\n",
    "model = xgb.XGBRegressor()\n",
    "\n",
    "scores = cross_val_score(model, X, y, cv=5, scoring='neg_mean_squared_error')\n",
    "\n",
    "mse_scores = np.sqrt(-scores)\n",
    "\n",
    "for fold, score in enumerate(mse_scores, start=1):\n",
    "    print(f\"Fold {fold} RMSE: {score}\")\n",
    "\n",
    "# Calculate mean and standard deviation of RMSE scores\n",
    "mean_rmse = np.mean(mse_scores)\n",
    "std_rmse = np.std(mse_scores)\n",
    "print(f\"\\nMean RMSE for XGBoost: {mean_rmse}\")\n",
    "print(f\"Standard Deviation of RMSE: {std_rmse}\")"
   ]
  },
  {
   "cell_type": "code",
   "execution_count": 22,
   "id": "e1eede3d",
   "metadata": {},
   "outputs": [
    {
     "name": "stdout",
     "output_type": "stream",
     "text": [
      "Fold 1 RMSE: 626.1774501769909\n",
      "Fold 2 RMSE: 665.8233294753501\n",
      "Fold 3 RMSE: 521.115315556005\n",
      "Fold 4 RMSE: 338.21009954538266\n",
      "Fold 5 RMSE: 302.79336708259115\n",
      "\n",
      "Mean RMSE for XGBoost: 490.8239123672639\n",
      "Standard Deviation of RMSE: 147.31558445528128\n"
     ]
    }
   ],
   "source": [
    "from sklearn.ensemble import RandomForestRegressor\n",
    "from sklearn.model_selection import cross_val_score\n",
    "from sklearn.metrics import mean_squared_error\n",
    "import numpy as np\n",
    "\n",
    "np.random.seed(42)\n",
    "\n",
    "model = RandomForestRegressor()\n",
    "\n",
    "scores = cross_val_score(model, X, y, cv=5, scoring='neg_mean_squared_error')\n",
    "\n",
    "mse_scores = np.sqrt(-scores)\n",
    "\n",
    "for fold, score in enumerate(mse_scores, start=1):\n",
    "    print(f\"Fold {fold} RMSE: {score}\")\n",
    "\n",
    "# Calculate mean and standard deviation of RMSE scores\n",
    "mean_rmse = np.mean(mse_scores)\n",
    "std_rmse = np.std(mse_scores)\n",
    "print(f\"\\nMean RMSE for XGBoost: {mean_rmse}\")\n",
    "print(f\"Standard Deviation of RMSE: {std_rmse}\")"
   ]
  },
  {
   "cell_type": "code",
   "execution_count": 60,
   "id": "757d5731",
   "metadata": {},
   "outputs": [],
   "source": [
    "y = rental['monthly_rent']\n",
    "\n",
    "X = rental.drop(columns=['monthly_rent'])"
   ]
  },
  {
   "cell_type": "code",
   "execution_count": 61,
   "id": "a4db0df5",
   "metadata": {},
   "outputs": [
    {
     "name": "stdout",
     "output_type": "stream",
     "text": [
      "519.0672629557604\n",
      "519.0031550446492\n",
      "513.8689203484789\n",
      "517.6551733353355\n",
      "516.679956384311\n",
      "mean_rmse of linear regression 517.254893613707\n"
     ]
    }
   ],
   "source": [
    "num_folds = 5\n",
    "kf = KFold(n_splits=num_folds, shuffle=True, random_state=42)\n",
    "rmse_values_l = []\n",
    "    \n",
    "    # Iterate through each fold\n",
    "for train_index, test_index in kf.split(X.values, y.values):  # Convert DataFrame to NumPy array\n",
    "    X_train, X_test = X.values[train_index], X.values[test_index]  # Convert DataFrame to NumPy array\n",
    "    y_train, y_test = y.values[train_index], y.values[test_index]\n",
    "        \n",
    "    model_l =LinearRegression().fit(X_train, y_train)\n",
    "        \n",
    "    y_pred_test_l = model_l.predict(X_test)\n",
    "    rmse_fold_l = np.sqrt(mean_squared_error(y_test, y_pred_test_l))\n",
    "    print(rmse_fold_l)\n",
    "    rmse_values_l.append(rmse_fold_l)\n",
    "mean_rmse = np.mean(rmse_values_l)\n",
    "print(\"mean_rmse of linear regression\",mean_rmse)"
   ]
  },
  {
   "cell_type": "code",
   "execution_count": 62,
   "id": "5224972f",
   "metadata": {},
   "outputs": [
    {
     "name": "stdout",
     "output_type": "stream",
     "text": [
      "509.6116647106338\n",
      "512.04606891135\n",
      "507.92184802004766\n",
      "507.8666949722436\n",
      "508.38054884575126\n",
      "mean_rmse of DecisionTreeRegressor 509.16536509200523\n"
     ]
    }
   ],
   "source": [
    "num_folds = 5\n",
    "kf = KFold(n_splits=num_folds, shuffle=True, random_state=42)\n",
    "rmse_values_dt = []\n",
    "    \n",
    "    # Iterate through each fold\n",
    "for train_index, test_index in kf.split(X.values, y.values):  # Convert DataFrame to NumPy array\n",
    "    X_train, X_test = X.values[train_index], X.values[test_index]  # Convert DataFrame to NumPy array\n",
    "    y_train, y_test = y.values[train_index], y.values[test_index]\n",
    "        \n",
    "    model_dt =DecisionTreeRegressor().fit(X_train, y_train)\n",
    "        \n",
    "    y_pred_test_dt = model_dt.predict(X_test)\n",
    "    rmse_fold_dt = np.sqrt(mean_squared_error(y_test, y_pred_test_dt))\n",
    "    print(rmse_fold_dt)\n",
    "    rmse_values_dt.append(rmse_fold_dt)\n",
    "mean_rmse = np.mean(rmse_values_dt)\n",
    "print(\"mean_rmse of DecisionTreeRegressor\",mean_rmse)"
   ]
  },
  {
   "cell_type": "code",
   "execution_count": 63,
   "id": "84e9d4a6",
   "metadata": {},
   "outputs": [
    {
     "name": "stdout",
     "output_type": "stream",
     "text": [
      "508.11629149416757\n",
      "510.49664087272066\n",
      "506.57174991368953\n",
      "506.6035849484755\n",
      "506.62814928855914\n",
      "mean_rmse of RandomForest 507.6832833035225\n"
     ]
    }
   ],
   "source": [
    "num_folds = 5\n",
    "kf = KFold(n_splits=num_folds, shuffle=True, random_state=42)\n",
    "rmse_values_rf = []\n",
    "    \n",
    "    # Iterate through each fold\n",
    "for train_index, test_index in kf.split(X.values, y.values):  # Convert DataFrame to NumPy array\n",
    "    X_train, X_test = X.values[train_index], X.values[test_index]  # Convert DataFrame to NumPy array\n",
    "    y_train, y_test = y.values[train_index], y.values[test_index]\n",
    "        \n",
    "    model_rf =RandomForestRegressor().fit(X_train, y_train)\n",
    "        \n",
    "    y_pred_test_rf = model_rf.predict(X_test)\n",
    "    rmse_fold_rf = np.sqrt(mean_squared_error(y_test, y_pred_test_rf))\n",
    "    print(rmse_fold_rf)\n",
    "    rmse_values_rf.append(rmse_fold_rf)\n",
    "mean_rmse = np.mean(rmse_values_rf)\n",
    "print(\"mean_rmse of RandomForest\",mean_rmse)"
   ]
  },
  {
   "cell_type": "code",
   "execution_count": 64,
   "id": "cc0c984f",
   "metadata": {},
   "outputs": [
    {
     "name": "stdout",
     "output_type": "stream",
     "text": [
      "500.7605040551768\n",
      "502.8559593866753\n",
      "497.84399169756944\n",
      "498.9189283768533\n",
      "498.6840508487261\n",
      "mean_rmse of xgb 499.8126868730002\n"
     ]
    }
   ],
   "source": [
    "num_folds = 5\n",
    "kf = KFold(n_splits=num_folds, shuffle=True, random_state=42)\n",
    "rmse_values_xgb = []\n",
    "    \n",
    "\n",
    "for train_index, test_index in kf.split(X.values, y.values):  \n",
    "    X_train, X_test = X.values[train_index], X.values[test_index] \n",
    "    y_train, y_test = y.values[train_index], y.values[test_index]\n",
    "        \n",
    "    model_xgb = xgb.XGBRegressor().fit(X_train, y_train)\n",
    "        \n",
    "    y_pred_test_xgb = model_xgb.predict(X_test)\n",
    "    rmse_fold_xgb = np.sqrt(mean_squared_error(y_test, y_pred_test_xgb))\n",
    "    print(rmse_fold_xgb)\n",
    "    rmse_values_xgb.append(rmse_fold_xgb)\n",
    "mean_rmse = np.mean(rmse_values_xgb)\n",
    "print(\"mean_rmse of xgb\",mean_rmse)"
   ]
  },
  {
   "cell_type": "code",
   "execution_count": 65,
   "id": "6a6a444f",
   "metadata": {},
   "outputs": [],
   "source": [
    "rental_cp = pd.read_csv(\"geocoded_data_rental.csv\")"
   ]
  },
  {
   "cell_type": "code",
   "execution_count": 66,
   "id": "55af36fd",
   "metadata": {},
   "outputs": [
    {
     "data": {
      "text/html": [
       "<div>\n",
       "<style scoped>\n",
       "    .dataframe tbody tr th:only-of-type {\n",
       "        vertical-align: middle;\n",
       "    }\n",
       "\n",
       "    .dataframe tbody tr th {\n",
       "        vertical-align: top;\n",
       "    }\n",
       "\n",
       "    .dataframe thead th {\n",
       "        text-align: right;\n",
       "    }\n",
       "</style>\n",
       "<table border=\"1\" class=\"dataframe\">\n",
       "  <thead>\n",
       "    <tr style=\"text-align: right;\">\n",
       "      <th></th>\n",
       "      <th>Year</th>\n",
       "      <th>Month</th>\n",
       "      <th>rent_approval_date</th>\n",
       "      <th>town</th>\n",
       "      <th>block</th>\n",
       "      <th>street_name</th>\n",
       "      <th>flat_type</th>\n",
       "      <th>monthly_rent</th>\n",
       "      <th>latitude</th>\n",
       "      <th>longitude</th>\n",
       "    </tr>\n",
       "  </thead>\n",
       "  <tbody>\n",
       "    <tr>\n",
       "      <th>0</th>\n",
       "      <td>2021</td>\n",
       "      <td>1</td>\n",
       "      <td>2021-01-01</td>\n",
       "      <td>ANG MO KIO</td>\n",
       "      <td>105</td>\n",
       "      <td>ANG MO KIO AVE 4</td>\n",
       "      <td>4-ROOM</td>\n",
       "      <td>2000</td>\n",
       "      <td>1.369208</td>\n",
       "      <td>103.850399</td>\n",
       "    </tr>\n",
       "    <tr>\n",
       "      <th>1</th>\n",
       "      <td>2021</td>\n",
       "      <td>1</td>\n",
       "      <td>2021-01-01</td>\n",
       "      <td>ANG MO KIO</td>\n",
       "      <td>107</td>\n",
       "      <td>ANG MO KIO AVE 4</td>\n",
       "      <td>3-ROOM</td>\n",
       "      <td>1750</td>\n",
       "      <td>1.369208</td>\n",
       "      <td>103.850399</td>\n",
       "    </tr>\n",
       "    <tr>\n",
       "      <th>2</th>\n",
       "      <td>2021</td>\n",
       "      <td>1</td>\n",
       "      <td>2021-01-01</td>\n",
       "      <td>ANG MO KIO</td>\n",
       "      <td>108</td>\n",
       "      <td>ANG MO KIO AVE 4</td>\n",
       "      <td>3-ROOM</td>\n",
       "      <td>1750</td>\n",
       "      <td>1.369208</td>\n",
       "      <td>103.850399</td>\n",
       "    </tr>\n",
       "    <tr>\n",
       "      <th>3</th>\n",
       "      <td>2021</td>\n",
       "      <td>1</td>\n",
       "      <td>2021-01-01</td>\n",
       "      <td>ANG MO KIO</td>\n",
       "      <td>111</td>\n",
       "      <td>ANG MO KIO AVE 4</td>\n",
       "      <td>5-ROOM</td>\n",
       "      <td>2230</td>\n",
       "      <td>1.369208</td>\n",
       "      <td>103.850399</td>\n",
       "    </tr>\n",
       "    <tr>\n",
       "      <th>4</th>\n",
       "      <td>2021</td>\n",
       "      <td>1</td>\n",
       "      <td>2021-01-01</td>\n",
       "      <td>ANG MO KIO</td>\n",
       "      <td>111</td>\n",
       "      <td>ANG MO KIO AVE 4</td>\n",
       "      <td>5-ROOM</td>\n",
       "      <td>2450</td>\n",
       "      <td>1.369208</td>\n",
       "      <td>103.850399</td>\n",
       "    </tr>\n",
       "  </tbody>\n",
       "</table>\n",
       "</div>"
      ],
      "text/plain": [
       "   Year  Month rent_approval_date        town block       street_name  \\\n",
       "0  2021      1         2021-01-01  ANG MO KIO   105  ANG MO KIO AVE 4   \n",
       "1  2021      1         2021-01-01  ANG MO KIO   107  ANG MO KIO AVE 4   \n",
       "2  2021      1         2021-01-01  ANG MO KIO   108  ANG MO KIO AVE 4   \n",
       "3  2021      1         2021-01-01  ANG MO KIO   111  ANG MO KIO AVE 4   \n",
       "4  2021      1         2021-01-01  ANG MO KIO   111  ANG MO KIO AVE 4   \n",
       "\n",
       "  flat_type  monthly_rent  latitude   longitude  \n",
       "0    4-ROOM          2000  1.369208  103.850399  \n",
       "1    3-ROOM          1750  1.369208  103.850399  \n",
       "2    3-ROOM          1750  1.369208  103.850399  \n",
       "3    5-ROOM          2230  1.369208  103.850399  \n",
       "4    5-ROOM          2450  1.369208  103.850399  "
      ]
     },
     "execution_count": 66,
     "metadata": {},
     "output_type": "execute_result"
    }
   ],
   "source": [
    "rental_cp.head()"
   ]
  },
  {
   "cell_type": "code",
   "execution_count": 67,
   "id": "472dad48",
   "metadata": {},
   "outputs": [],
   "source": [
    "rental_cp.drop(columns=['rent_approval_date','block','street_name','latitude','longitude'],inplace=True)"
   ]
  },
  {
   "cell_type": "code",
   "execution_count": 68,
   "id": "dc2f8b43",
   "metadata": {},
   "outputs": [
    {
     "data": {
      "text/html": [
       "<div>\n",
       "<style scoped>\n",
       "    .dataframe tbody tr th:only-of-type {\n",
       "        vertical-align: middle;\n",
       "    }\n",
       "\n",
       "    .dataframe tbody tr th {\n",
       "        vertical-align: top;\n",
       "    }\n",
       "\n",
       "    .dataframe thead th {\n",
       "        text-align: right;\n",
       "    }\n",
       "</style>\n",
       "<table border=\"1\" class=\"dataframe\">\n",
       "  <thead>\n",
       "    <tr style=\"text-align: right;\">\n",
       "      <th></th>\n",
       "      <th>Year</th>\n",
       "      <th>Month</th>\n",
       "      <th>town</th>\n",
       "      <th>flat_type</th>\n",
       "      <th>monthly_rent</th>\n",
       "    </tr>\n",
       "  </thead>\n",
       "  <tbody>\n",
       "    <tr>\n",
       "      <th>0</th>\n",
       "      <td>2021</td>\n",
       "      <td>1</td>\n",
       "      <td>ANG MO KIO</td>\n",
       "      <td>4-ROOM</td>\n",
       "      <td>2000</td>\n",
       "    </tr>\n",
       "    <tr>\n",
       "      <th>1</th>\n",
       "      <td>2021</td>\n",
       "      <td>1</td>\n",
       "      <td>ANG MO KIO</td>\n",
       "      <td>3-ROOM</td>\n",
       "      <td>1750</td>\n",
       "    </tr>\n",
       "    <tr>\n",
       "      <th>2</th>\n",
       "      <td>2021</td>\n",
       "      <td>1</td>\n",
       "      <td>ANG MO KIO</td>\n",
       "      <td>3-ROOM</td>\n",
       "      <td>1750</td>\n",
       "    </tr>\n",
       "    <tr>\n",
       "      <th>3</th>\n",
       "      <td>2021</td>\n",
       "      <td>1</td>\n",
       "      <td>ANG MO KIO</td>\n",
       "      <td>5-ROOM</td>\n",
       "      <td>2230</td>\n",
       "    </tr>\n",
       "    <tr>\n",
       "      <th>4</th>\n",
       "      <td>2021</td>\n",
       "      <td>1</td>\n",
       "      <td>ANG MO KIO</td>\n",
       "      <td>5-ROOM</td>\n",
       "      <td>2450</td>\n",
       "    </tr>\n",
       "  </tbody>\n",
       "</table>\n",
       "</div>"
      ],
      "text/plain": [
       "   Year  Month        town flat_type  monthly_rent\n",
       "0  2021      1  ANG MO KIO    4-ROOM          2000\n",
       "1  2021      1  ANG MO KIO    3-ROOM          1750\n",
       "2  2021      1  ANG MO KIO    3-ROOM          1750\n",
       "3  2021      1  ANG MO KIO    5-ROOM          2230\n",
       "4  2021      1  ANG MO KIO    5-ROOM          2450"
      ]
     },
     "execution_count": 68,
     "metadata": {},
     "output_type": "execute_result"
    }
   ],
   "source": [
    "rental_cp.head()"
   ]
  },
  {
   "cell_type": "code",
   "execution_count": 73,
   "id": "6a3b32d0",
   "metadata": {},
   "outputs": [
    {
     "ename": "ValueError",
     "evalue": "could not convert string to float: 'ANG MO KIO'",
     "output_type": "error",
     "traceback": [
      "\u001b[0;31m---------------------------------------------------------------------------\u001b[0m",
      "\u001b[0;31mValueError\u001b[0m                                Traceback (most recent call last)",
      "Cell \u001b[0;32mIn[73], line 17\u001b[0m\n\u001b[1;32m     14\u001b[0m X_train, X_test \u001b[38;5;241m=\u001b[39m X\u001b[38;5;241m.\u001b[39mvalues[train_index], X\u001b[38;5;241m.\u001b[39mvalues[test_index] \n\u001b[1;32m     15\u001b[0m y_train, y_test \u001b[38;5;241m=\u001b[39m y\u001b[38;5;241m.\u001b[39mvalues[train_index], y\u001b[38;5;241m.\u001b[39mvalues[test_index]\n\u001b[0;32m---> 17\u001b[0m \u001b[43mmodel_xgb\u001b[49m\u001b[38;5;241;43m.\u001b[39;49m\u001b[43mfit\u001b[49m\u001b[43m(\u001b[49m\u001b[43mX_train\u001b[49m\u001b[43m,\u001b[49m\u001b[43m \u001b[49m\u001b[43my_train\u001b[49m\u001b[43m)\u001b[49m\n\u001b[1;32m     19\u001b[0m y_pred_test_xgb \u001b[38;5;241m=\u001b[39m model_xgb\u001b[38;5;241m.\u001b[39mpredict(X_test)\n\u001b[1;32m     20\u001b[0m rmse_fold_xgb \u001b[38;5;241m=\u001b[39m np\u001b[38;5;241m.\u001b[39msqrt(mean_squared_error(y_test, y_pred_test_xgb))\n",
      "File \u001b[0;32m/opt/homebrew/Caskroom/miniconda/base/envs/tf_m2/lib/python3.8/site-packages/xgboost/core.py:729\u001b[0m, in \u001b[0;36mrequire_keyword_args.<locals>.throw_if.<locals>.inner_f\u001b[0;34m(*args, **kwargs)\u001b[0m\n\u001b[1;32m    727\u001b[0m \u001b[38;5;28;01mfor\u001b[39;00m k, arg \u001b[38;5;129;01min\u001b[39;00m \u001b[38;5;28mzip\u001b[39m(sig\u001b[38;5;241m.\u001b[39mparameters, args):\n\u001b[1;32m    728\u001b[0m     kwargs[k] \u001b[38;5;241m=\u001b[39m arg\n\u001b[0;32m--> 729\u001b[0m \u001b[38;5;28;01mreturn\u001b[39;00m \u001b[43mfunc\u001b[49m\u001b[43m(\u001b[49m\u001b[38;5;241;43m*\u001b[39;49m\u001b[38;5;241;43m*\u001b[39;49m\u001b[43mkwargs\u001b[49m\u001b[43m)\u001b[49m\n",
      "File \u001b[0;32m/opt/homebrew/Caskroom/miniconda/base/envs/tf_m2/lib/python3.8/site-packages/xgboost/sklearn.py:1051\u001b[0m, in \u001b[0;36mXGBModel.fit\u001b[0;34m(self, X, y, sample_weight, base_margin, eval_set, eval_metric, early_stopping_rounds, verbose, xgb_model, sample_weight_eval_set, base_margin_eval_set, feature_weights, callbacks)\u001b[0m\n\u001b[1;32m   1049\u001b[0m \u001b[38;5;28;01mwith\u001b[39;00m config_context(verbosity\u001b[38;5;241m=\u001b[39m\u001b[38;5;28mself\u001b[39m\u001b[38;5;241m.\u001b[39mverbosity):\n\u001b[1;32m   1050\u001b[0m     evals_result: TrainingCallback\u001b[38;5;241m.\u001b[39mEvalsLog \u001b[38;5;241m=\u001b[39m {}\n\u001b[0;32m-> 1051\u001b[0m     train_dmatrix, evals \u001b[38;5;241m=\u001b[39m \u001b[43m_wrap_evaluation_matrices\u001b[49m\u001b[43m(\u001b[49m\n\u001b[1;32m   1052\u001b[0m \u001b[43m        \u001b[49m\u001b[43mmissing\u001b[49m\u001b[38;5;241;43m=\u001b[39;49m\u001b[38;5;28;43mself\u001b[39;49m\u001b[38;5;241;43m.\u001b[39;49m\u001b[43mmissing\u001b[49m\u001b[43m,\u001b[49m\n\u001b[1;32m   1053\u001b[0m \u001b[43m        \u001b[49m\u001b[43mX\u001b[49m\u001b[38;5;241;43m=\u001b[39;49m\u001b[43mX\u001b[49m\u001b[43m,\u001b[49m\n\u001b[1;32m   1054\u001b[0m \u001b[43m        \u001b[49m\u001b[43my\u001b[49m\u001b[38;5;241;43m=\u001b[39;49m\u001b[43my\u001b[49m\u001b[43m,\u001b[49m\n\u001b[1;32m   1055\u001b[0m \u001b[43m        \u001b[49m\u001b[43mgroup\u001b[49m\u001b[38;5;241;43m=\u001b[39;49m\u001b[38;5;28;43;01mNone\u001b[39;49;00m\u001b[43m,\u001b[49m\n\u001b[1;32m   1056\u001b[0m \u001b[43m        \u001b[49m\u001b[43mqid\u001b[49m\u001b[38;5;241;43m=\u001b[39;49m\u001b[38;5;28;43;01mNone\u001b[39;49;00m\u001b[43m,\u001b[49m\n\u001b[1;32m   1057\u001b[0m \u001b[43m        \u001b[49m\u001b[43msample_weight\u001b[49m\u001b[38;5;241;43m=\u001b[39;49m\u001b[43msample_weight\u001b[49m\u001b[43m,\u001b[49m\n\u001b[1;32m   1058\u001b[0m \u001b[43m        \u001b[49m\u001b[43mbase_margin\u001b[49m\u001b[38;5;241;43m=\u001b[39;49m\u001b[43mbase_margin\u001b[49m\u001b[43m,\u001b[49m\n\u001b[1;32m   1059\u001b[0m \u001b[43m        \u001b[49m\u001b[43mfeature_weights\u001b[49m\u001b[38;5;241;43m=\u001b[39;49m\u001b[43mfeature_weights\u001b[49m\u001b[43m,\u001b[49m\n\u001b[1;32m   1060\u001b[0m \u001b[43m        \u001b[49m\u001b[43meval_set\u001b[49m\u001b[38;5;241;43m=\u001b[39;49m\u001b[43meval_set\u001b[49m\u001b[43m,\u001b[49m\n\u001b[1;32m   1061\u001b[0m \u001b[43m        \u001b[49m\u001b[43msample_weight_eval_set\u001b[49m\u001b[38;5;241;43m=\u001b[39;49m\u001b[43msample_weight_eval_set\u001b[49m\u001b[43m,\u001b[49m\n\u001b[1;32m   1062\u001b[0m \u001b[43m        \u001b[49m\u001b[43mbase_margin_eval_set\u001b[49m\u001b[38;5;241;43m=\u001b[39;49m\u001b[43mbase_margin_eval_set\u001b[49m\u001b[43m,\u001b[49m\n\u001b[1;32m   1063\u001b[0m \u001b[43m        \u001b[49m\u001b[43meval_group\u001b[49m\u001b[38;5;241;43m=\u001b[39;49m\u001b[38;5;28;43;01mNone\u001b[39;49;00m\u001b[43m,\u001b[49m\n\u001b[1;32m   1064\u001b[0m \u001b[43m        \u001b[49m\u001b[43meval_qid\u001b[49m\u001b[38;5;241;43m=\u001b[39;49m\u001b[38;5;28;43;01mNone\u001b[39;49;00m\u001b[43m,\u001b[49m\n\u001b[1;32m   1065\u001b[0m \u001b[43m        \u001b[49m\u001b[43mcreate_dmatrix\u001b[49m\u001b[38;5;241;43m=\u001b[39;49m\u001b[38;5;28;43mself\u001b[39;49m\u001b[38;5;241;43m.\u001b[39;49m\u001b[43m_create_dmatrix\u001b[49m\u001b[43m,\u001b[49m\n\u001b[1;32m   1066\u001b[0m \u001b[43m        \u001b[49m\u001b[43menable_categorical\u001b[49m\u001b[38;5;241;43m=\u001b[39;49m\u001b[38;5;28;43mself\u001b[39;49m\u001b[38;5;241;43m.\u001b[39;49m\u001b[43menable_categorical\u001b[49m\u001b[43m,\u001b[49m\n\u001b[1;32m   1067\u001b[0m \u001b[43m        \u001b[49m\u001b[43mfeature_types\u001b[49m\u001b[38;5;241;43m=\u001b[39;49m\u001b[38;5;28;43mself\u001b[39;49m\u001b[38;5;241;43m.\u001b[39;49m\u001b[43mfeature_types\u001b[49m\u001b[43m,\u001b[49m\n\u001b[1;32m   1068\u001b[0m \u001b[43m    \u001b[49m\u001b[43m)\u001b[49m\n\u001b[1;32m   1069\u001b[0m     params \u001b[38;5;241m=\u001b[39m \u001b[38;5;28mself\u001b[39m\u001b[38;5;241m.\u001b[39mget_xgb_params()\n\u001b[1;32m   1071\u001b[0m     \u001b[38;5;28;01mif\u001b[39;00m callable(\u001b[38;5;28mself\u001b[39m\u001b[38;5;241m.\u001b[39mobjective):\n",
      "File \u001b[0;32m/opt/homebrew/Caskroom/miniconda/base/envs/tf_m2/lib/python3.8/site-packages/xgboost/sklearn.py:534\u001b[0m, in \u001b[0;36m_wrap_evaluation_matrices\u001b[0;34m(missing, X, y, group, qid, sample_weight, base_margin, feature_weights, eval_set, sample_weight_eval_set, base_margin_eval_set, eval_group, eval_qid, create_dmatrix, enable_categorical, feature_types)\u001b[0m\n\u001b[1;32m    514\u001b[0m \u001b[38;5;28;01mdef\u001b[39;00m \u001b[38;5;21m_wrap_evaluation_matrices\u001b[39m(\n\u001b[1;32m    515\u001b[0m     missing: \u001b[38;5;28mfloat\u001b[39m,\n\u001b[1;32m    516\u001b[0m     X: Any,\n\u001b[0;32m   (...)\u001b[0m\n\u001b[1;32m    530\u001b[0m     feature_types: Optional[FeatureTypes],\n\u001b[1;32m    531\u001b[0m ) \u001b[38;5;241m-\u001b[39m\u001b[38;5;241m>\u001b[39m Tuple[Any, List[Tuple[Any, \u001b[38;5;28mstr\u001b[39m]]]:\n\u001b[1;32m    532\u001b[0m \u001b[38;5;250m    \u001b[39m\u001b[38;5;124;03m\"\"\"Convert array_like evaluation matrices into DMatrix.  Perform validation on the\u001b[39;00m\n\u001b[1;32m    533\u001b[0m \u001b[38;5;124;03m    way.\"\"\"\u001b[39;00m\n\u001b[0;32m--> 534\u001b[0m     train_dmatrix \u001b[38;5;241m=\u001b[39m \u001b[43mcreate_dmatrix\u001b[49m\u001b[43m(\u001b[49m\n\u001b[1;32m    535\u001b[0m \u001b[43m        \u001b[49m\u001b[43mdata\u001b[49m\u001b[38;5;241;43m=\u001b[39;49m\u001b[43mX\u001b[49m\u001b[43m,\u001b[49m\n\u001b[1;32m    536\u001b[0m \u001b[43m        \u001b[49m\u001b[43mlabel\u001b[49m\u001b[38;5;241;43m=\u001b[39;49m\u001b[43my\u001b[49m\u001b[43m,\u001b[49m\n\u001b[1;32m    537\u001b[0m \u001b[43m        \u001b[49m\u001b[43mgroup\u001b[49m\u001b[38;5;241;43m=\u001b[39;49m\u001b[43mgroup\u001b[49m\u001b[43m,\u001b[49m\n\u001b[1;32m    538\u001b[0m \u001b[43m        \u001b[49m\u001b[43mqid\u001b[49m\u001b[38;5;241;43m=\u001b[39;49m\u001b[43mqid\u001b[49m\u001b[43m,\u001b[49m\n\u001b[1;32m    539\u001b[0m \u001b[43m        \u001b[49m\u001b[43mweight\u001b[49m\u001b[38;5;241;43m=\u001b[39;49m\u001b[43msample_weight\u001b[49m\u001b[43m,\u001b[49m\n\u001b[1;32m    540\u001b[0m \u001b[43m        \u001b[49m\u001b[43mbase_margin\u001b[49m\u001b[38;5;241;43m=\u001b[39;49m\u001b[43mbase_margin\u001b[49m\u001b[43m,\u001b[49m\n\u001b[1;32m    541\u001b[0m \u001b[43m        \u001b[49m\u001b[43mfeature_weights\u001b[49m\u001b[38;5;241;43m=\u001b[39;49m\u001b[43mfeature_weights\u001b[49m\u001b[43m,\u001b[49m\n\u001b[1;32m    542\u001b[0m \u001b[43m        \u001b[49m\u001b[43mmissing\u001b[49m\u001b[38;5;241;43m=\u001b[39;49m\u001b[43mmissing\u001b[49m\u001b[43m,\u001b[49m\n\u001b[1;32m    543\u001b[0m \u001b[43m        \u001b[49m\u001b[43menable_categorical\u001b[49m\u001b[38;5;241;43m=\u001b[39;49m\u001b[43menable_categorical\u001b[49m\u001b[43m,\u001b[49m\n\u001b[1;32m    544\u001b[0m \u001b[43m        \u001b[49m\u001b[43mfeature_types\u001b[49m\u001b[38;5;241;43m=\u001b[39;49m\u001b[43mfeature_types\u001b[49m\u001b[43m,\u001b[49m\n\u001b[1;32m    545\u001b[0m \u001b[43m        \u001b[49m\u001b[43mref\u001b[49m\u001b[38;5;241;43m=\u001b[39;49m\u001b[38;5;28;43;01mNone\u001b[39;49;00m\u001b[43m,\u001b[49m\n\u001b[1;32m    546\u001b[0m \u001b[43m    \u001b[49m\u001b[43m)\u001b[49m\n\u001b[1;32m    548\u001b[0m     n_validation \u001b[38;5;241m=\u001b[39m \u001b[38;5;241m0\u001b[39m \u001b[38;5;28;01mif\u001b[39;00m eval_set \u001b[38;5;129;01mis\u001b[39;00m \u001b[38;5;28;01mNone\u001b[39;00m \u001b[38;5;28;01melse\u001b[39;00m \u001b[38;5;28mlen\u001b[39m(eval_set)\n\u001b[1;32m    550\u001b[0m     \u001b[38;5;28;01mdef\u001b[39;00m \u001b[38;5;21mvalidate_or_none\u001b[39m(meta: Optional[Sequence], name: \u001b[38;5;28mstr\u001b[39m) \u001b[38;5;241m-\u001b[39m\u001b[38;5;241m>\u001b[39m Sequence:\n",
      "File \u001b[0;32m/opt/homebrew/Caskroom/miniconda/base/envs/tf_m2/lib/python3.8/site-packages/xgboost/sklearn.py:954\u001b[0m, in \u001b[0;36mXGBModel._create_dmatrix\u001b[0;34m(self, ref, **kwargs)\u001b[0m\n\u001b[1;32m    952\u001b[0m \u001b[38;5;28;01mif\u001b[39;00m _can_use_qdm(\u001b[38;5;28mself\u001b[39m\u001b[38;5;241m.\u001b[39mtree_method) \u001b[38;5;129;01mand\u001b[39;00m \u001b[38;5;28mself\u001b[39m\u001b[38;5;241m.\u001b[39mbooster \u001b[38;5;241m!=\u001b[39m \u001b[38;5;124m\"\u001b[39m\u001b[38;5;124mgblinear\u001b[39m\u001b[38;5;124m\"\u001b[39m:\n\u001b[1;32m    953\u001b[0m     \u001b[38;5;28;01mtry\u001b[39;00m:\n\u001b[0;32m--> 954\u001b[0m         \u001b[38;5;28;01mreturn\u001b[39;00m \u001b[43mQuantileDMatrix\u001b[49m\u001b[43m(\u001b[49m\n\u001b[1;32m    955\u001b[0m \u001b[43m            \u001b[49m\u001b[38;5;241;43m*\u001b[39;49m\u001b[38;5;241;43m*\u001b[39;49m\u001b[43mkwargs\u001b[49m\u001b[43m,\u001b[49m\u001b[43m \u001b[49m\u001b[43mref\u001b[49m\u001b[38;5;241;43m=\u001b[39;49m\u001b[43mref\u001b[49m\u001b[43m,\u001b[49m\u001b[43m \u001b[49m\u001b[43mnthread\u001b[49m\u001b[38;5;241;43m=\u001b[39;49m\u001b[38;5;28;43mself\u001b[39;49m\u001b[38;5;241;43m.\u001b[39;49m\u001b[43mn_jobs\u001b[49m\u001b[43m,\u001b[49m\u001b[43m \u001b[49m\u001b[43mmax_bin\u001b[49m\u001b[38;5;241;43m=\u001b[39;49m\u001b[38;5;28;43mself\u001b[39;49m\u001b[38;5;241;43m.\u001b[39;49m\u001b[43mmax_bin\u001b[49m\n\u001b[1;32m    956\u001b[0m \u001b[43m        \u001b[49m\u001b[43m)\u001b[49m\n\u001b[1;32m    957\u001b[0m     \u001b[38;5;28;01mexcept\u001b[39;00m \u001b[38;5;167;01mTypeError\u001b[39;00m:  \u001b[38;5;66;03m# `QuantileDMatrix` supports lesser types than DMatrix\u001b[39;00m\n\u001b[1;32m    958\u001b[0m         \u001b[38;5;28;01mpass\u001b[39;00m\n",
      "File \u001b[0;32m/opt/homebrew/Caskroom/miniconda/base/envs/tf_m2/lib/python3.8/site-packages/xgboost/core.py:729\u001b[0m, in \u001b[0;36mrequire_keyword_args.<locals>.throw_if.<locals>.inner_f\u001b[0;34m(*args, **kwargs)\u001b[0m\n\u001b[1;32m    727\u001b[0m \u001b[38;5;28;01mfor\u001b[39;00m k, arg \u001b[38;5;129;01min\u001b[39;00m \u001b[38;5;28mzip\u001b[39m(sig\u001b[38;5;241m.\u001b[39mparameters, args):\n\u001b[1;32m    728\u001b[0m     kwargs[k] \u001b[38;5;241m=\u001b[39m arg\n\u001b[0;32m--> 729\u001b[0m \u001b[38;5;28;01mreturn\u001b[39;00m \u001b[43mfunc\u001b[49m\u001b[43m(\u001b[49m\u001b[38;5;241;43m*\u001b[39;49m\u001b[38;5;241;43m*\u001b[39;49m\u001b[43mkwargs\u001b[49m\u001b[43m)\u001b[49m\n",
      "File \u001b[0;32m/opt/homebrew/Caskroom/miniconda/base/envs/tf_m2/lib/python3.8/site-packages/xgboost/core.py:1528\u001b[0m, in \u001b[0;36mQuantileDMatrix.__init__\u001b[0;34m(self, data, label, weight, base_margin, missing, silent, feature_names, feature_types, nthread, max_bin, ref, group, qid, label_lower_bound, label_upper_bound, feature_weights, enable_categorical, data_split_mode)\u001b[0m\n\u001b[1;32m   1508\u001b[0m     \u001b[38;5;28;01mif\u001b[39;00m \u001b[38;5;28many\u001b[39m(\n\u001b[1;32m   1509\u001b[0m         info \u001b[38;5;129;01mis\u001b[39;00m \u001b[38;5;129;01mnot\u001b[39;00m \u001b[38;5;28;01mNone\u001b[39;00m\n\u001b[1;32m   1510\u001b[0m         \u001b[38;5;28;01mfor\u001b[39;00m info \u001b[38;5;129;01min\u001b[39;00m (\n\u001b[0;32m   (...)\u001b[0m\n\u001b[1;32m   1521\u001b[0m         )\n\u001b[1;32m   1522\u001b[0m     ):\n\u001b[1;32m   1523\u001b[0m         \u001b[38;5;28;01mraise\u001b[39;00m \u001b[38;5;167;01mValueError\u001b[39;00m(\n\u001b[1;32m   1524\u001b[0m             \u001b[38;5;124m\"\u001b[39m\u001b[38;5;124mIf data iterator is used as input, data like label should be \u001b[39m\u001b[38;5;124m\"\u001b[39m\n\u001b[1;32m   1525\u001b[0m             \u001b[38;5;124m\"\u001b[39m\u001b[38;5;124mspecified as batch argument.\u001b[39m\u001b[38;5;124m\"\u001b[39m\n\u001b[1;32m   1526\u001b[0m         )\n\u001b[0;32m-> 1528\u001b[0m \u001b[38;5;28;43mself\u001b[39;49m\u001b[38;5;241;43m.\u001b[39;49m\u001b[43m_init\u001b[49m\u001b[43m(\u001b[49m\n\u001b[1;32m   1529\u001b[0m \u001b[43m    \u001b[49m\u001b[43mdata\u001b[49m\u001b[43m,\u001b[49m\n\u001b[1;32m   1530\u001b[0m \u001b[43m    \u001b[49m\u001b[43mref\u001b[49m\u001b[38;5;241;43m=\u001b[39;49m\u001b[43mref\u001b[49m\u001b[43m,\u001b[49m\n\u001b[1;32m   1531\u001b[0m \u001b[43m    \u001b[49m\u001b[43mlabel\u001b[49m\u001b[38;5;241;43m=\u001b[39;49m\u001b[43mlabel\u001b[49m\u001b[43m,\u001b[49m\n\u001b[1;32m   1532\u001b[0m \u001b[43m    \u001b[49m\u001b[43mweight\u001b[49m\u001b[38;5;241;43m=\u001b[39;49m\u001b[43mweight\u001b[49m\u001b[43m,\u001b[49m\n\u001b[1;32m   1533\u001b[0m \u001b[43m    \u001b[49m\u001b[43mbase_margin\u001b[49m\u001b[38;5;241;43m=\u001b[39;49m\u001b[43mbase_margin\u001b[49m\u001b[43m,\u001b[49m\n\u001b[1;32m   1534\u001b[0m \u001b[43m    \u001b[49m\u001b[43mgroup\u001b[49m\u001b[38;5;241;43m=\u001b[39;49m\u001b[43mgroup\u001b[49m\u001b[43m,\u001b[49m\n\u001b[1;32m   1535\u001b[0m \u001b[43m    \u001b[49m\u001b[43mqid\u001b[49m\u001b[38;5;241;43m=\u001b[39;49m\u001b[43mqid\u001b[49m\u001b[43m,\u001b[49m\n\u001b[1;32m   1536\u001b[0m \u001b[43m    \u001b[49m\u001b[43mlabel_lower_bound\u001b[49m\u001b[38;5;241;43m=\u001b[39;49m\u001b[43mlabel_lower_bound\u001b[49m\u001b[43m,\u001b[49m\n\u001b[1;32m   1537\u001b[0m \u001b[43m    \u001b[49m\u001b[43mlabel_upper_bound\u001b[49m\u001b[38;5;241;43m=\u001b[39;49m\u001b[43mlabel_upper_bound\u001b[49m\u001b[43m,\u001b[49m\n\u001b[1;32m   1538\u001b[0m \u001b[43m    \u001b[49m\u001b[43mfeature_weights\u001b[49m\u001b[38;5;241;43m=\u001b[39;49m\u001b[43mfeature_weights\u001b[49m\u001b[43m,\u001b[49m\n\u001b[1;32m   1539\u001b[0m \u001b[43m    \u001b[49m\u001b[43mfeature_names\u001b[49m\u001b[38;5;241;43m=\u001b[39;49m\u001b[43mfeature_names\u001b[49m\u001b[43m,\u001b[49m\n\u001b[1;32m   1540\u001b[0m \u001b[43m    \u001b[49m\u001b[43mfeature_types\u001b[49m\u001b[38;5;241;43m=\u001b[39;49m\u001b[43mfeature_types\u001b[49m\u001b[43m,\u001b[49m\n\u001b[1;32m   1541\u001b[0m \u001b[43m    \u001b[49m\u001b[43menable_categorical\u001b[49m\u001b[38;5;241;43m=\u001b[39;49m\u001b[43menable_categorical\u001b[49m\u001b[43m,\u001b[49m\n\u001b[1;32m   1542\u001b[0m \u001b[43m\u001b[49m\u001b[43m)\u001b[49m\n",
      "File \u001b[0;32m/opt/homebrew/Caskroom/miniconda/base/envs/tf_m2/lib/python3.8/site-packages/xgboost/core.py:1587\u001b[0m, in \u001b[0;36mQuantileDMatrix._init\u001b[0;34m(self, data, ref, enable_categorical, **meta)\u001b[0m\n\u001b[1;32m   1575\u001b[0m config \u001b[38;5;241m=\u001b[39m make_jcargs(\n\u001b[1;32m   1576\u001b[0m     nthread\u001b[38;5;241m=\u001b[39m\u001b[38;5;28mself\u001b[39m\u001b[38;5;241m.\u001b[39mnthread, missing\u001b[38;5;241m=\u001b[39m\u001b[38;5;28mself\u001b[39m\u001b[38;5;241m.\u001b[39mmissing, max_bin\u001b[38;5;241m=\u001b[39m\u001b[38;5;28mself\u001b[39m\u001b[38;5;241m.\u001b[39mmax_bin\n\u001b[1;32m   1577\u001b[0m )\n\u001b[1;32m   1578\u001b[0m ret \u001b[38;5;241m=\u001b[39m _LIB\u001b[38;5;241m.\u001b[39mXGQuantileDMatrixCreateFromCallback(\n\u001b[1;32m   1579\u001b[0m     \u001b[38;5;28;01mNone\u001b[39;00m,\n\u001b[1;32m   1580\u001b[0m     it\u001b[38;5;241m.\u001b[39mproxy\u001b[38;5;241m.\u001b[39mhandle,\n\u001b[0;32m   (...)\u001b[0m\n\u001b[1;32m   1585\u001b[0m     ctypes\u001b[38;5;241m.\u001b[39mbyref(handle),\n\u001b[1;32m   1586\u001b[0m )\n\u001b[0;32m-> 1587\u001b[0m \u001b[43mit\u001b[49m\u001b[38;5;241;43m.\u001b[39;49m\u001b[43mreraise\u001b[49m\u001b[43m(\u001b[49m\u001b[43m)\u001b[49m\n\u001b[1;32m   1588\u001b[0m \u001b[38;5;66;03m# delay check_call to throw intermediate exception first\u001b[39;00m\n\u001b[1;32m   1589\u001b[0m _check_call(ret)\n",
      "File \u001b[0;32m/opt/homebrew/Caskroom/miniconda/base/envs/tf_m2/lib/python3.8/site-packages/xgboost/core.py:575\u001b[0m, in \u001b[0;36mDataIter.reraise\u001b[0;34m(self)\u001b[0m\n\u001b[1;32m    573\u001b[0m exc \u001b[38;5;241m=\u001b[39m \u001b[38;5;28mself\u001b[39m\u001b[38;5;241m.\u001b[39m_exception\n\u001b[1;32m    574\u001b[0m \u001b[38;5;28mself\u001b[39m\u001b[38;5;241m.\u001b[39m_exception \u001b[38;5;241m=\u001b[39m \u001b[38;5;28;01mNone\u001b[39;00m\n\u001b[0;32m--> 575\u001b[0m \u001b[38;5;28;01mraise\u001b[39;00m exc\n",
      "File \u001b[0;32m/opt/homebrew/Caskroom/miniconda/base/envs/tf_m2/lib/python3.8/site-packages/xgboost/core.py:556\u001b[0m, in \u001b[0;36mDataIter._handle_exception\u001b[0;34m(self, fn, dft_ret)\u001b[0m\n\u001b[1;32m    553\u001b[0m     \u001b[38;5;28;01mreturn\u001b[39;00m dft_ret\n\u001b[1;32m    555\u001b[0m \u001b[38;5;28;01mtry\u001b[39;00m:\n\u001b[0;32m--> 556\u001b[0m     \u001b[38;5;28;01mreturn\u001b[39;00m \u001b[43mfn\u001b[49m\u001b[43m(\u001b[49m\u001b[43m)\u001b[49m\n\u001b[1;32m    557\u001b[0m \u001b[38;5;28;01mexcept\u001b[39;00m \u001b[38;5;167;01mException\u001b[39;00m \u001b[38;5;28;01mas\u001b[39;00m e:  \u001b[38;5;66;03m# pylint: disable=broad-except\u001b[39;00m\n\u001b[1;32m    558\u001b[0m     \u001b[38;5;66;03m# Defer the exception in order to return 0 and stop the iteration.\u001b[39;00m\n\u001b[1;32m    559\u001b[0m     \u001b[38;5;66;03m# Exception inside a ctype callback function has no effect except\u001b[39;00m\n\u001b[1;32m    560\u001b[0m     \u001b[38;5;66;03m# for printing to stderr (doesn't stop the execution).\u001b[39;00m\n\u001b[1;32m    561\u001b[0m     tb \u001b[38;5;241m=\u001b[39m sys\u001b[38;5;241m.\u001b[39mexc_info()[\u001b[38;5;241m2\u001b[39m]\n",
      "File \u001b[0;32m/opt/homebrew/Caskroom/miniconda/base/envs/tf_m2/lib/python3.8/site-packages/xgboost/core.py:640\u001b[0m, in \u001b[0;36mDataIter._next_wrapper.<locals>.<lambda>\u001b[0;34m()\u001b[0m\n\u001b[1;32m    637\u001b[0m     \u001b[38;5;28mself\u001b[39m\u001b[38;5;241m.\u001b[39m_data_ref \u001b[38;5;241m=\u001b[39m ref\n\u001b[1;32m    639\u001b[0m \u001b[38;5;66;03m# pylint: disable=not-callable\u001b[39;00m\n\u001b[0;32m--> 640\u001b[0m \u001b[38;5;28;01mreturn\u001b[39;00m \u001b[38;5;28mself\u001b[39m\u001b[38;5;241m.\u001b[39m_handle_exception(\u001b[38;5;28;01mlambda\u001b[39;00m: \u001b[38;5;28;43mself\u001b[39;49m\u001b[38;5;241;43m.\u001b[39;49m\u001b[43mnext\u001b[49m\u001b[43m(\u001b[49m\u001b[43minput_data\u001b[49m\u001b[43m)\u001b[49m, \u001b[38;5;241m0\u001b[39m)\n",
      "File \u001b[0;32m/opt/homebrew/Caskroom/miniconda/base/envs/tf_m2/lib/python3.8/site-packages/xgboost/data.py:1260\u001b[0m, in \u001b[0;36mSingleBatchInternalIter.next\u001b[0;34m(self, input_data)\u001b[0m\n\u001b[1;32m   1258\u001b[0m     \u001b[38;5;28;01mreturn\u001b[39;00m \u001b[38;5;241m0\u001b[39m\n\u001b[1;32m   1259\u001b[0m \u001b[38;5;28mself\u001b[39m\u001b[38;5;241m.\u001b[39mit \u001b[38;5;241m+\u001b[39m\u001b[38;5;241m=\u001b[39m \u001b[38;5;241m1\u001b[39m\n\u001b[0;32m-> 1260\u001b[0m \u001b[43minput_data\u001b[49m\u001b[43m(\u001b[49m\u001b[38;5;241;43m*\u001b[39;49m\u001b[38;5;241;43m*\u001b[39;49m\u001b[38;5;28;43mself\u001b[39;49m\u001b[38;5;241;43m.\u001b[39;49m\u001b[43mkwargs\u001b[49m\u001b[43m)\u001b[49m\n\u001b[1;32m   1261\u001b[0m \u001b[38;5;28;01mreturn\u001b[39;00m \u001b[38;5;241m1\u001b[39m\n",
      "File \u001b[0;32m/opt/homebrew/Caskroom/miniconda/base/envs/tf_m2/lib/python3.8/site-packages/xgboost/core.py:729\u001b[0m, in \u001b[0;36mrequire_keyword_args.<locals>.throw_if.<locals>.inner_f\u001b[0;34m(*args, **kwargs)\u001b[0m\n\u001b[1;32m    727\u001b[0m \u001b[38;5;28;01mfor\u001b[39;00m k, arg \u001b[38;5;129;01min\u001b[39;00m \u001b[38;5;28mzip\u001b[39m(sig\u001b[38;5;241m.\u001b[39mparameters, args):\n\u001b[1;32m    728\u001b[0m     kwargs[k] \u001b[38;5;241m=\u001b[39m arg\n\u001b[0;32m--> 729\u001b[0m \u001b[38;5;28;01mreturn\u001b[39;00m \u001b[43mfunc\u001b[49m\u001b[43m(\u001b[49m\u001b[38;5;241;43m*\u001b[39;49m\u001b[38;5;241;43m*\u001b[39;49m\u001b[43mkwargs\u001b[49m\u001b[43m)\u001b[49m\n",
      "File \u001b[0;32m/opt/homebrew/Caskroom/miniconda/base/envs/tf_m2/lib/python3.8/site-packages/xgboost/core.py:623\u001b[0m, in \u001b[0;36mDataIter._next_wrapper.<locals>.input_data\u001b[0;34m(data, feature_names, feature_types, **kwargs)\u001b[0m\n\u001b[1;32m    621\u001b[0m     new, cat_codes, feature_names, feature_types \u001b[38;5;241m=\u001b[39m \u001b[38;5;28mself\u001b[39m\u001b[38;5;241m.\u001b[39m_temporary_data\n\u001b[1;32m    622\u001b[0m \u001b[38;5;28;01melse\u001b[39;00m:\n\u001b[0;32m--> 623\u001b[0m     new, cat_codes, feature_names, feature_types \u001b[38;5;241m=\u001b[39m \u001b[43m_proxy_transform\u001b[49m\u001b[43m(\u001b[49m\n\u001b[1;32m    624\u001b[0m \u001b[43m        \u001b[49m\u001b[43mdata\u001b[49m\u001b[43m,\u001b[49m\n\u001b[1;32m    625\u001b[0m \u001b[43m        \u001b[49m\u001b[43mfeature_names\u001b[49m\u001b[43m,\u001b[49m\n\u001b[1;32m    626\u001b[0m \u001b[43m        \u001b[49m\u001b[43mfeature_types\u001b[49m\u001b[43m,\u001b[49m\n\u001b[1;32m    627\u001b[0m \u001b[43m        \u001b[49m\u001b[38;5;28;43mself\u001b[39;49m\u001b[38;5;241;43m.\u001b[39;49m\u001b[43m_enable_categorical\u001b[49m\u001b[43m,\u001b[49m\n\u001b[1;32m    628\u001b[0m \u001b[43m    \u001b[49m\u001b[43m)\u001b[49m\n\u001b[1;32m    629\u001b[0m \u001b[38;5;66;03m# Stage the data, meta info are copied inside C++ MetaInfo.\u001b[39;00m\n\u001b[1;32m    630\u001b[0m \u001b[38;5;28mself\u001b[39m\u001b[38;5;241m.\u001b[39m_temporary_data \u001b[38;5;241m=\u001b[39m (new, cat_codes, feature_names, feature_types)\n",
      "File \u001b[0;32m/opt/homebrew/Caskroom/miniconda/base/envs/tf_m2/lib/python3.8/site-packages/xgboost/data.py:1285\u001b[0m, in \u001b[0;36m_proxy_transform\u001b[0;34m(data, feature_names, feature_types, enable_categorical)\u001b[0m\n\u001b[1;32m   1283\u001b[0m     data \u001b[38;5;241m=\u001b[39m np\u001b[38;5;241m.\u001b[39marray(data)\n\u001b[1;32m   1284\u001b[0m \u001b[38;5;28;01mif\u001b[39;00m _is_numpy_array(data):\n\u001b[0;32m-> 1285\u001b[0m     data, _ \u001b[38;5;241m=\u001b[39m \u001b[43m_ensure_np_dtype\u001b[49m\u001b[43m(\u001b[49m\u001b[43mdata\u001b[49m\u001b[43m,\u001b[49m\u001b[43m \u001b[49m\u001b[43mdata\u001b[49m\u001b[38;5;241;43m.\u001b[39;49m\u001b[43mdtype\u001b[49m\u001b[43m)\u001b[49m\n\u001b[1;32m   1286\u001b[0m     \u001b[38;5;28;01mreturn\u001b[39;00m data, \u001b[38;5;28;01mNone\u001b[39;00m, feature_names, feature_types\n\u001b[1;32m   1287\u001b[0m \u001b[38;5;28;01mif\u001b[39;00m _is_scipy_csr(data):\n",
      "File \u001b[0;32m/opt/homebrew/Caskroom/miniconda/base/envs/tf_m2/lib/python3.8/site-packages/xgboost/data.py:176\u001b[0m, in \u001b[0;36m_ensure_np_dtype\u001b[0;34m(data, dtype)\u001b[0m\n\u001b[1;32m    174\u001b[0m \u001b[38;5;28;01mif\u001b[39;00m data\u001b[38;5;241m.\u001b[39mdtype\u001b[38;5;241m.\u001b[39mhasobject \u001b[38;5;129;01mor\u001b[39;00m data\u001b[38;5;241m.\u001b[39mdtype \u001b[38;5;129;01min\u001b[39;00m [np\u001b[38;5;241m.\u001b[39mfloat16, np\u001b[38;5;241m.\u001b[39mbool_]:\n\u001b[1;32m    175\u001b[0m     dtype \u001b[38;5;241m=\u001b[39m np\u001b[38;5;241m.\u001b[39mfloat32\n\u001b[0;32m--> 176\u001b[0m     data \u001b[38;5;241m=\u001b[39m \u001b[43mdata\u001b[49m\u001b[38;5;241;43m.\u001b[39;49m\u001b[43mastype\u001b[49m\u001b[43m(\u001b[49m\u001b[43mdtype\u001b[49m\u001b[43m,\u001b[49m\u001b[43m \u001b[49m\u001b[43mcopy\u001b[49m\u001b[38;5;241;43m=\u001b[39;49m\u001b[38;5;28;43;01mFalse\u001b[39;49;00m\u001b[43m)\u001b[49m\n\u001b[1;32m    177\u001b[0m \u001b[38;5;28;01mif\u001b[39;00m \u001b[38;5;129;01mnot\u001b[39;00m data\u001b[38;5;241m.\u001b[39mflags\u001b[38;5;241m.\u001b[39maligned:\n\u001b[1;32m    178\u001b[0m     data \u001b[38;5;241m=\u001b[39m np\u001b[38;5;241m.\u001b[39mrequire(data, requirements\u001b[38;5;241m=\u001b[39m\u001b[38;5;124m\"\u001b[39m\u001b[38;5;124mA\u001b[39m\u001b[38;5;124m\"\u001b[39m)\n",
      "\u001b[0;31mValueError\u001b[0m: could not convert string to float: 'ANG MO KIO'"
     ]
    }
   ],
   "source": [
    "y = rental_cp['monthly_rent']\n",
    "\n",
    "X = rental_cp.drop(columns=['monthly_rent'])\n",
    "\n",
    "rental_cp['town'] = rental_cp['town'].astype('category')\n",
    "rental_cp['flat_type'] = rental_cp['flat_type'].astype('category')\n",
    "\n",
    "num_folds = 5\n",
    "kf = KFold(n_splits=num_folds, shuffle=True, random_state=42)\n",
    "rmse_values_xgb = []\n",
    "model_xgb = xgb.XGBRegressor(enable_categorical=True)   \n",
    "\n",
    "for train_index, test_index in kf.split(X.values, y.values):  \n",
    "    X_train, X_test = X.values[train_index], X.values[test_index] \n",
    "    y_train, y_test = y.values[train_index], y.values[test_index]\n",
    "        \n",
    "    model_xgb.fit(X_train, y_train)\n",
    "        \n",
    "    y_pred_test_xgb = model_xgb.predict(X_test)\n",
    "    rmse_fold_xgb = np.sqrt(mean_squared_error(y_test, y_pred_test_xgb))\n",
    "    print(rmse_fold_xgb)\n",
    "    rmse_values_xgb.append(rmse_fold_xgb)\n",
    "mean_rmse = np.mean(rmse_values_xgb)\n",
    "print(\"mean_rmse of xgb\",mean_rmse)"
   ]
  },
  {
   "cell_type": "code",
   "execution_count": 36,
   "id": "8b7c4621",
   "metadata": {},
   "outputs": [
    {
     "name": "stdout",
     "output_type": "stream",
     "text": [
      "548.6527518781868                                                               \n",
      "548.4480103874864                                                               \n",
      "543.2992263019291                                                               \n",
      "548.05357543399                                                                 \n",
      "541.8354967382994                                                               \n",
      "562.8527257148812                                                               \n",
      "560.607173930046                                                                \n",
      "557.856807400717                                                                \n",
      "563.0021962775905                                                               \n",
      "558.1812374324647                                                               \n",
      "516.1549514228291                                                               \n",
      "516.5057862922262                                                               \n",
      "510.3858435493623                                                               \n",
      "513.4040229224842                                                               \n",
      "509.60710175946815                                                              \n",
      "519.4351316450345                                                               \n",
      "519.8717511505075                                                               \n",
      "513.759075197198                                                                \n",
      "516.9516939109712                                                               \n",
      "512.6130512548324                                                               \n",
      "509.91248500045816                                                              \n",
      "511.7577900369956                                                               \n",
      "505.55105306178115                                                              \n",
      "508.2736975118755                                                               \n",
      "505.6162249247949                                                               \n",
      "510.0167472090014                                                               \n",
      "511.8810295217786                                                               \n",
      "505.62656489180586                                                              \n",
      "508.22668925155114                                                              \n",
      "505.4821592970232                                                               \n",
      "548.5045521260862                                                               \n",
      "548.5582235127938                                                               \n",
      "543.2471082687832                                                               \n",
      "548.0681775801471                                                               \n",
      "541.74355575114                                                                 \n",
      "512.7030754284402                                                               \n",
      "513.6189810748585                                                               \n",
      "507.7042742087677                                                               \n",
      "510.56754411245254                                                              \n",
      "507.3272682276664                                                               \n",
      "516.1251619659549                                                               \n",
      "516.4677578732709                                                               \n",
      "510.39643504698756                                                              \n",
      "513.4369394541201                                                               \n",
      "509.6014316442195                                                               \n",
      "548.4870784062932                                                               \n",
      "548.432430649354                                                                \n",
      "543.3378868183923                                                               \n",
      "548.1991847535528                                                               \n",
      "541.6734652505395                                                               \n",
      "100%|██████████| 10/10 [36:27<00:00, 218.75s/trial, best loss: 508.222250107181]\n",
      "Best Hyperparameters:\n",
      "{'max_depth': 10.0, 'min_samples_leaf': 5.0, 'min_samples_split': 7.0, 'n_estimators': 377.0}\n"
     ]
    }
   ],
   "source": [
    "from sklearn.model_selection import KFold\n",
    "from sklearn.ensemble import RandomForestRegressor\n",
    "from sklearn.metrics import mean_squared_error\n",
    "import numpy as np\n",
    "from hyperopt import fmin, tpe, hp, STATUS_OK, Trials\n",
    "\n",
    "best_rmse = float(\"inf\")\n",
    "best_model = None\n",
    "\n",
    "def objective(params):\n",
    "    # Define the number of folds for cross-validation\n",
    "    num_folds = 5\n",
    "    kf = KFold(n_splits=num_folds, shuffle=True, random_state=42)\n",
    "    rmse_values = []\n",
    "    \n",
    "    # Iterate through each fold\n",
    "    for train_index, test_index in kf.split(X.values, y.values):  # Convert DataFrame to NumPy array\n",
    "        X_train, X_test = X.values[train_index], X.values[test_index]  # Convert DataFrame to NumPy array\n",
    "        y_train, y_test = y.values[train_index], y.values[test_index]\n",
    "        \n",
    "        model = RandomForestRegressor(\n",
    "            n_estimators=int(params['n_estimators']),\n",
    "            max_depth=int(params['max_depth']),\n",
    "            min_samples_split=int(params['min_samples_split']),\n",
    "            min_samples_leaf=int(params['min_samples_leaf']),\n",
    "            #max_features=params['max_features']\n",
    "        ).fit(X_train, y_train)\n",
    "        \n",
    "        y_pred_test = model.predict(X_test)\n",
    "        rmse_fold = np.sqrt(mean_squared_error(y_test, y_pred_test))\n",
    "        print(rmse_fold)\n",
    "        rmse_values.append(rmse_fold)\n",
    "    \n",
    "    # Calculate the mean RMSE over all folds\n",
    "    mean_rmse = np.mean(rmse_values)\n",
    "\n",
    "    global best_model\n",
    "    if best_model is None or mean_rmse < best_model['rmse']:\n",
    "        best_model = {\n",
    "            'model': model,  # Store the model itself\n",
    "            'rmse': mean_rmse\n",
    "        }\n",
    "    \n",
    "    return {'loss': best_model['rmse'], 'status': STATUS_OK}\n",
    "\n",
    "space = {\n",
    "    'n_estimators': hp.quniform('n_estimators', 100, 1500, 1),\n",
    "    'max_depth': hp.quniform('max_depth', 1, 10, 1),\n",
    "    'min_samples_split': hp.quniform('min_samples_split', 2, 10, 1),\n",
    "    'min_samples_leaf': hp.quniform('min_samples_leaf', 1, 10, 1),\n",
    "    #'max_features': hp.choice('max_features', ['auto', 'sqrt', 'log2'])\n",
    "}\n",
    "\n",
    "# Create a trials object to keep track of the optimization process\n",
    "trials = Trials()\n",
    "\n",
    "# Run the hyperparameter optimization using the TPE algorithm\n",
    "best = fmin(fn=objective, space=space, algo=tpe.suggest, max_evals=10, trials=trials)\n",
    "best_model = best_model['model']\n",
    "\n",
    "# Print the best hyperparameters found by Hyperopt\n",
    "print(\"Best Hyperparameters:\")\n",
    "print(best)\n"
   ]
  },
  {
   "cell_type": "code",
   "execution_count": 134,
   "id": "8f366d91",
   "metadata": {},
   "outputs": [
    {
     "data": {
      "text/html": [
       "<div>\n",
       "<style scoped>\n",
       "    .dataframe tbody tr th:only-of-type {\n",
       "        vertical-align: middle;\n",
       "    }\n",
       "\n",
       "    .dataframe tbody tr th {\n",
       "        vertical-align: top;\n",
       "    }\n",
       "\n",
       "    .dataframe thead th {\n",
       "        text-align: right;\n",
       "    }\n",
       "</style>\n",
       "<table border=\"1\" class=\"dataframe\">\n",
       "  <thead>\n",
       "    <tr style=\"text-align: right;\">\n",
       "      <th></th>\n",
       "      <th>Month</th>\n",
       "      <th>Year</th>\n",
       "      <th>Index</th>\n",
       "      <th>monthly_rent</th>\n",
       "      <th>town_ANG MO KIO</th>\n",
       "      <th>town_BEDOK</th>\n",
       "      <th>town_BISHAN</th>\n",
       "      <th>town_BUKIT BATOK</th>\n",
       "      <th>town_BUKIT MERAH</th>\n",
       "      <th>town_BUKIT PANJANG</th>\n",
       "      <th>...</th>\n",
       "      <th>town_PUNGGOL</th>\n",
       "      <th>town_QUEENSTOWN</th>\n",
       "      <th>town_SEMBAWANG</th>\n",
       "      <th>town_SENGKANG</th>\n",
       "      <th>town_SERANGOON</th>\n",
       "      <th>town_TAMPINES</th>\n",
       "      <th>town_TOA PAYOH</th>\n",
       "      <th>town_WOODLANDS</th>\n",
       "      <th>town_YISHUN</th>\n",
       "      <th>flat_type_encoded</th>\n",
       "    </tr>\n",
       "  </thead>\n",
       "  <tbody>\n",
       "    <tr>\n",
       "      <th>0</th>\n",
       "      <td>12</td>\n",
       "      <td>2023</td>\n",
       "      <td>137.0</td>\n",
       "      <td>4200</td>\n",
       "      <td>0</td>\n",
       "      <td>0</td>\n",
       "      <td>0</td>\n",
       "      <td>0</td>\n",
       "      <td>0</td>\n",
       "      <td>0</td>\n",
       "      <td>...</td>\n",
       "      <td>0</td>\n",
       "      <td>0</td>\n",
       "      <td>0</td>\n",
       "      <td>0</td>\n",
       "      <td>0</td>\n",
       "      <td>0</td>\n",
       "      <td>0</td>\n",
       "      <td>0</td>\n",
       "      <td>0</td>\n",
       "      <td>4</td>\n",
       "    </tr>\n",
       "    <tr>\n",
       "      <th>1</th>\n",
       "      <td>12</td>\n",
       "      <td>2023</td>\n",
       "      <td>137.0</td>\n",
       "      <td>4500</td>\n",
       "      <td>0</td>\n",
       "      <td>0</td>\n",
       "      <td>0</td>\n",
       "      <td>0</td>\n",
       "      <td>0</td>\n",
       "      <td>0</td>\n",
       "      <td>...</td>\n",
       "      <td>0</td>\n",
       "      <td>0</td>\n",
       "      <td>0</td>\n",
       "      <td>0</td>\n",
       "      <td>0</td>\n",
       "      <td>0</td>\n",
       "      <td>0</td>\n",
       "      <td>0</td>\n",
       "      <td>0</td>\n",
       "      <td>4</td>\n",
       "    </tr>\n",
       "    <tr>\n",
       "      <th>2</th>\n",
       "      <td>12</td>\n",
       "      <td>2023</td>\n",
       "      <td>137.0</td>\n",
       "      <td>4200</td>\n",
       "      <td>0</td>\n",
       "      <td>0</td>\n",
       "      <td>0</td>\n",
       "      <td>0</td>\n",
       "      <td>1</td>\n",
       "      <td>0</td>\n",
       "      <td>...</td>\n",
       "      <td>0</td>\n",
       "      <td>0</td>\n",
       "      <td>0</td>\n",
       "      <td>0</td>\n",
       "      <td>0</td>\n",
       "      <td>0</td>\n",
       "      <td>0</td>\n",
       "      <td>0</td>\n",
       "      <td>0</td>\n",
       "      <td>4</td>\n",
       "    </tr>\n",
       "    <tr>\n",
       "      <th>3</th>\n",
       "      <td>12</td>\n",
       "      <td>2023</td>\n",
       "      <td>137.0</td>\n",
       "      <td>3500</td>\n",
       "      <td>0</td>\n",
       "      <td>0</td>\n",
       "      <td>0</td>\n",
       "      <td>0</td>\n",
       "      <td>0</td>\n",
       "      <td>0</td>\n",
       "      <td>...</td>\n",
       "      <td>0</td>\n",
       "      <td>1</td>\n",
       "      <td>0</td>\n",
       "      <td>0</td>\n",
       "      <td>0</td>\n",
       "      <td>0</td>\n",
       "      <td>0</td>\n",
       "      <td>0</td>\n",
       "      <td>0</td>\n",
       "      <td>3</td>\n",
       "    </tr>\n",
       "    <tr>\n",
       "      <th>4</th>\n",
       "      <td>12</td>\n",
       "      <td>2023</td>\n",
       "      <td>137.0</td>\n",
       "      <td>4550</td>\n",
       "      <td>0</td>\n",
       "      <td>0</td>\n",
       "      <td>0</td>\n",
       "      <td>0</td>\n",
       "      <td>0</td>\n",
       "      <td>0</td>\n",
       "      <td>...</td>\n",
       "      <td>0</td>\n",
       "      <td>0</td>\n",
       "      <td>0</td>\n",
       "      <td>0</td>\n",
       "      <td>0</td>\n",
       "      <td>0</td>\n",
       "      <td>0</td>\n",
       "      <td>0</td>\n",
       "      <td>0</td>\n",
       "      <td>4</td>\n",
       "    </tr>\n",
       "  </tbody>\n",
       "</table>\n",
       "<p>5 rows × 31 columns</p>\n",
       "</div>"
      ],
      "text/plain": [
       "   Month  Year  Index  monthly_rent  town_ANG MO KIO  town_BEDOK  town_BISHAN  \\\n",
       "0     12  2023  137.0          4200                0           0            0   \n",
       "1     12  2023  137.0          4500                0           0            0   \n",
       "2     12  2023  137.0          4200                0           0            0   \n",
       "3     12  2023  137.0          3500                0           0            0   \n",
       "4     12  2023  137.0          4550                0           0            0   \n",
       "\n",
       "   town_BUKIT BATOK  town_BUKIT MERAH  town_BUKIT PANJANG  ...  town_PUNGGOL  \\\n",
       "0                 0                 0                   0  ...             0   \n",
       "1                 0                 0                   0  ...             0   \n",
       "2                 0                 1                   0  ...             0   \n",
       "3                 0                 0                   0  ...             0   \n",
       "4                 0                 0                   0  ...             0   \n",
       "\n",
       "   town_QUEENSTOWN  town_SEMBAWANG  town_SENGKANG  town_SERANGOON  \\\n",
       "0                0               0              0               0   \n",
       "1                0               0              0               0   \n",
       "2                0               0              0               0   \n",
       "3                1               0              0               0   \n",
       "4                0               0              0               0   \n",
       "\n",
       "   town_TAMPINES  town_TOA PAYOH  town_WOODLANDS  town_YISHUN  \\\n",
       "0              0               0               0            0   \n",
       "1              0               0               0            0   \n",
       "2              0               0               0            0   \n",
       "3              0               0               0            0   \n",
       "4              0               0               0            0   \n",
       "\n",
       "   flat_type_encoded  \n",
       "0                  4  \n",
       "1                  4  \n",
       "2                  4  \n",
       "3                  3  \n",
       "4                  4  \n",
       "\n",
       "[5 rows x 31 columns]"
      ]
     },
     "execution_count": 134,
     "metadata": {},
     "output_type": "execute_result"
    }
   ],
   "source": [
    "rental.head()"
   ]
  },
  {
   "cell_type": "code",
   "execution_count": 135,
   "id": "dc418b00",
   "metadata": {},
   "outputs": [],
   "source": [
    "X_train,X_test,y_train,y_test = train_test_split(X, y, test_size=0.2, random_state=42)"
   ]
  },
  {
   "cell_type": "code",
   "execution_count": 166,
   "id": "76c36cf6",
   "metadata": {},
   "outputs": [
    {
     "name": "stdout",
     "output_type": "stream",
     "text": [
      "[2666.3044]\n"
     ]
    }
   ],
   "source": [
    "import numpy as np\n",
    "\n",
    "data = {\n",
    "    'Month': 1,\n",
    "    'Year': 2024,\n",
    "    'Index': 137,\n",
    "    'flat_type_encoded': 3,\n",
    "    'town_BEDOK': 1\n",
    "}\n",
    "\n",
    "# Convert the dictionary to a numpy array\n",
    "X_pred = np.array([[data['Month'], data['Year'], data['Index'],  data['town_BEDOK'],0,0,0,0,0,0,0,0,0,0,0,0,0,0,0,0,0,0,0,0,0,0,0,0,0,data['flat_type_encoded']]])\n",
    "\n",
    "# Make the prediction\n",
    "prediction = best_model.predict(X_pred)\n",
    "\n",
    "print(prediction)\n"
   ]
  },
  {
   "cell_type": "code",
   "execution_count": 159,
   "id": "41c03d0e",
   "metadata": {},
   "outputs": [
    {
     "name": "stdout",
     "output_type": "stream",
     "text": [
      "\r",
      "  0%|                                    | 0/70 [00:00<?, ?trial/s, best loss=?]"
     ]
    },
    {
     "name": "stderr",
     "output_type": "stream",
     "text": [
      "/opt/homebrew/Caskroom/miniconda/base/envs/tf_m2/lib/python3.8/site-packages/sklearn/model_selection/_split.py:700: UserWarning: The least populated class in y has only 1 members, which is less than n_splits=5.\n",
      "  warnings.warn(\n",
      "\n"
     ]
    },
    {
     "name": "stdout",
     "output_type": "stream",
     "text": [
      "513.223647446847                                                                \n",
      "509.96222488732025                                                              \n",
      "514.1416204276514                                                               \n",
      "510.4591443244767                                                               \n",
      "512.3791164129885                                                               \n",
      "  1%|▏          | 1/70 [00:45<52:53, 46.00s/trial, best loss: 512.0331506998567]"
     ]
    },
    {
     "name": "stderr",
     "output_type": "stream",
     "text": [
      "/opt/homebrew/Caskroom/miniconda/base/envs/tf_m2/lib/python3.8/site-packages/sklearn/model_selection/_split.py:700: UserWarning: The least populated class in y has only 1 members, which is less than n_splits=5.\n",
      "  warnings.warn(\n",
      "\n"
     ]
    },
    {
     "name": "stdout",
     "output_type": "stream",
     "text": [
      "502.80394422692274                                                              \n",
      "499.91137828019737                                                              \n",
      "503.96034807331586                                                              \n",
      "500.71211488403753                                                              \n",
      "501.0887967112374                                                               \n",
      "  3%|▎          | 2/70 [00:50<24:37, 21.73s/trial, best loss: 501.6953164351422]"
     ]
    },
    {
     "name": "stderr",
     "output_type": "stream",
     "text": [
      "/opt/homebrew/Caskroom/miniconda/base/envs/tf_m2/lib/python3.8/site-packages/sklearn/model_selection/_split.py:700: UserWarning: The least populated class in y has only 1 members, which is less than n_splits=5.\n",
      "  warnings.warn(\n",
      "\n"
     ]
    },
    {
     "name": "stdout",
     "output_type": "stream",
     "text": [
      "506.7861114048995                                                               \n",
      "504.09819271993365                                                              \n",
      "510.028500620807                                                                \n",
      "505.1669518326664                                                               \n",
      "505.8178448543008                                                               \n",
      "  4%|▍          | 3/70 [01:16<26:21, 23.61s/trial, best loss: 501.6953164351422]"
     ]
    },
    {
     "name": "stderr",
     "output_type": "stream",
     "text": [
      "/opt/homebrew/Caskroom/miniconda/base/envs/tf_m2/lib/python3.8/site-packages/sklearn/model_selection/_split.py:700: UserWarning: The least populated class in y has only 1 members, which is less than n_splits=5.\n",
      "  warnings.warn(\n",
      "\n"
     ]
    },
    {
     "name": "stdout",
     "output_type": "stream",
     "text": [
      "505.1443405324593                                                               \n",
      "502.3913542103487                                                               \n",
      "508.154582850449                                                                \n",
      "503.0243199281193                                                               \n",
      "504.6045860421498                                                               \n",
      "  6%|▋          | 4/70 [01:33<23:07, 21.02s/trial, best loss: 501.6953164351422]"
     ]
    },
    {
     "name": "stderr",
     "output_type": "stream",
     "text": [
      "/opt/homebrew/Caskroom/miniconda/base/envs/tf_m2/lib/python3.8/site-packages/sklearn/model_selection/_split.py:700: UserWarning: The least populated class in y has only 1 members, which is less than n_splits=5.\n",
      "  warnings.warn(\n",
      "\n"
     ]
    },
    {
     "name": "stdout",
     "output_type": "stream",
     "text": [
      "508.1354189130513                                                               \n",
      "506.09231639730433                                                              \n",
      "511.2273830149582                                                               \n",
      "505.7501394583976                                                               \n",
      "507.5964414061665                                                               \n",
      "  7%|▊          | 5/70 [01:46<19:44, 18.23s/trial, best loss: 501.6953164351422]"
     ]
    },
    {
     "name": "stderr",
     "output_type": "stream",
     "text": [
      "/opt/homebrew/Caskroom/miniconda/base/envs/tf_m2/lib/python3.8/site-packages/sklearn/model_selection/_split.py:700: UserWarning: The least populated class in y has only 1 members, which is less than n_splits=5.\n",
      "  warnings.warn(\n",
      "\n"
     ]
    },
    {
     "name": "stdout",
     "output_type": "stream",
     "text": [
      "502.7301326087238                                                               \n",
      "500.66314593750263                                                              \n",
      "506.040670944219                                                                \n",
      "501.9127210959277                                                               \n",
      "502.39473705657593                                                              \n",
      "  9%|▉          | 6/70 [02:04<19:09, 17.96s/trial, best loss: 501.6953164351422]"
     ]
    },
    {
     "name": "stderr",
     "output_type": "stream",
     "text": [
      "/opt/homebrew/Caskroom/miniconda/base/envs/tf_m2/lib/python3.8/site-packages/sklearn/model_selection/_split.py:700: UserWarning: The least populated class in y has only 1 members, which is less than n_splits=5.\n",
      "  warnings.warn(\n",
      "\n"
     ]
    },
    {
     "name": "stdout",
     "output_type": "stream",
     "text": [
      "502.8261531901513                                                               \n",
      "500.30859777684896                                                              \n",
      "505.5488621484135                                                               \n",
      "501.4005158878517                                                               \n",
      "501.9958197858785                                                               \n",
      " 10%|█          | 7/70 [02:12<15:30, 14.77s/trial, best loss: 501.6953164351422]"
     ]
    },
    {
     "name": "stderr",
     "output_type": "stream",
     "text": [
      "/opt/homebrew/Caskroom/miniconda/base/envs/tf_m2/lib/python3.8/site-packages/sklearn/model_selection/_split.py:700: UserWarning: The least populated class in y has only 1 members, which is less than n_splits=5.\n",
      "  warnings.warn(\n",
      "\n"
     ]
    },
    {
     "name": "stdout",
     "output_type": "stream",
     "text": [
      "503.48127109818046                                                              \n",
      "501.65057193081                                                                 \n",
      "506.97551010348946                                                              \n",
      "502.1676510246468                                                               \n",
      "503.029028023885                                                                \n",
      " 11%|█▎         | 8/70 [02:18<12:29, 12.09s/trial, best loss: 501.6953164351422]"
     ]
    },
    {
     "name": "stderr",
     "output_type": "stream",
     "text": [
      "/opt/homebrew/Caskroom/miniconda/base/envs/tf_m2/lib/python3.8/site-packages/sklearn/model_selection/_split.py:700: UserWarning: The least populated class in y has only 1 members, which is less than n_splits=5.\n",
      "  warnings.warn(\n",
      "\n"
     ]
    },
    {
     "name": "stdout",
     "output_type": "stream",
     "text": [
      "505.3459786720759                                                               \n",
      "502.2638086984736                                                               \n",
      "508.06125589708364                                                              \n",
      "502.9850369159767                                                               \n",
      "504.4847043663665                                                               \n",
      " 13%|█▍         | 9/70 [02:30<12:00, 11.82s/trial, best loss: 501.6953164351422]"
     ]
    },
    {
     "name": "stderr",
     "output_type": "stream",
     "text": [
      "/opt/homebrew/Caskroom/miniconda/base/envs/tf_m2/lib/python3.8/site-packages/sklearn/model_selection/_split.py:700: UserWarning: The least populated class in y has only 1 members, which is less than n_splits=5.\n",
      "  warnings.warn(\n",
      "\n"
     ]
    },
    {
     "name": "stdout",
     "output_type": "stream",
     "text": [
      "498.90816239603515                                                              \n",
      "497.0312905701787                                                               \n",
      "502.567868074052                                                                \n",
      "498.7347341141113                                                               \n",
      "497.80242954758927                                                              \n",
      " 14%|█▎       | 10/70 [02:31<08:44,  8.74s/trial, best loss: 499.00889694039324]"
     ]
    },
    {
     "name": "stderr",
     "output_type": "stream",
     "text": [
      "/opt/homebrew/Caskroom/miniconda/base/envs/tf_m2/lib/python3.8/site-packages/sklearn/model_selection/_split.py:700: UserWarning: The least populated class in y has only 1 members, which is less than n_splits=5.\n",
      "  warnings.warn(\n",
      "\n"
     ]
    },
    {
     "name": "stdout",
     "output_type": "stream",
     "text": [
      "503.42984832495                                                                 \n",
      "501.0022330077822                                                               \n",
      "506.38835047801723                                                              \n",
      "501.716798134152                                                                \n",
      "502.87732453956806                                                              \n",
      " 16%|█▍       | 11/70 [02:46<10:19, 10.50s/trial, best loss: 499.00889694039324]"
     ]
    },
    {
     "name": "stderr",
     "output_type": "stream",
     "text": [
      "/opt/homebrew/Caskroom/miniconda/base/envs/tf_m2/lib/python3.8/site-packages/sklearn/model_selection/_split.py:700: UserWarning: The least populated class in y has only 1 members, which is less than n_splits=5.\n",
      "  warnings.warn(\n",
      "\n"
     ]
    },
    {
     "name": "stdout",
     "output_type": "stream",
     "text": [
      "497.2207169950315                                                               \n",
      "495.1129180680622                                                               \n",
      "500.00501122247044                                                              \n",
      "496.2335265521032                                                               \n",
      "495.70949054410613                                                              \n",
      " 17%|█▋        | 12/70 [02:56<10:09, 10.51s/trial, best loss: 496.8563326763548]"
     ]
    },
    {
     "name": "stderr",
     "output_type": "stream",
     "text": [
      "/opt/homebrew/Caskroom/miniconda/base/envs/tf_m2/lib/python3.8/site-packages/sklearn/model_selection/_split.py:700: UserWarning: The least populated class in y has only 1 members, which is less than n_splits=5.\n",
      "  warnings.warn(\n",
      "\n"
     ]
    },
    {
     "name": "stdout",
     "output_type": "stream",
     "text": [
      "509.4048421123391                                                               \n",
      "506.9323251766929                                                               \n",
      "512.5502173739812                                                               \n",
      "506.5735885386909                                                               \n",
      "508.3565181123763                                                               \n",
      " 19%|█▊        | 13/70 [03:11<11:14, 11.84s/trial, best loss: 496.8563326763548]"
     ]
    },
    {
     "name": "stderr",
     "output_type": "stream",
     "text": [
      "/opt/homebrew/Caskroom/miniconda/base/envs/tf_m2/lib/python3.8/site-packages/sklearn/model_selection/_split.py:700: UserWarning: The least populated class in y has only 1 members, which is less than n_splits=5.\n",
      "  warnings.warn(\n",
      "\n"
     ]
    },
    {
     "name": "stdout",
     "output_type": "stream",
     "text": [
      "499.9147831938901                                                               \n",
      "497.7876218711911                                                               \n",
      "502.7473749217799                                                               \n",
      "498.51845506291164                                                              \n",
      "499.1426178849636                                                               \n",
      " 20%|██        | 14/70 [03:28<12:28, 13.36s/trial, best loss: 496.8563326763548]"
     ]
    },
    {
     "name": "stderr",
     "output_type": "stream",
     "text": [
      "/opt/homebrew/Caskroom/miniconda/base/envs/tf_m2/lib/python3.8/site-packages/sklearn/model_selection/_split.py:700: UserWarning: The least populated class in y has only 1 members, which is less than n_splits=5.\n",
      "  warnings.warn(\n",
      "\n"
     ]
    },
    {
     "name": "stdout",
     "output_type": "stream",
     "text": [
      "498.428604982683                                                                \n",
      "496.6560887193328                                                               \n",
      "501.8782694643065                                                               \n",
      "497.4980779849621                                                               \n",
      "497.8447500060169                                                               \n",
      " 21%|██▏       | 15/70 [03:53<15:26, 16.84s/trial, best loss: 496.8563326763548]"
     ]
    },
    {
     "name": "stderr",
     "output_type": "stream",
     "text": [
      "/opt/homebrew/Caskroom/miniconda/base/envs/tf_m2/lib/python3.8/site-packages/sklearn/model_selection/_split.py:700: UserWarning: The least populated class in y has only 1 members, which is less than n_splits=5.\n",
      "  warnings.warn(\n",
      "\n"
     ]
    },
    {
     "name": "stdout",
     "output_type": "stream",
     "text": [
      "497.91277666724                                                                 \n",
      "495.60534210633773                                                              \n",
      "500.36262897931346                                                              \n",
      "496.6341105173323                                                               \n",
      "496.3887548138362                                                               \n",
      " 23%|██▎       | 16/70 [04:13<15:58, 17.75s/trial, best loss: 496.8563326763548]"
     ]
    },
    {
     "name": "stderr",
     "output_type": "stream",
     "text": [
      "/opt/homebrew/Caskroom/miniconda/base/envs/tf_m2/lib/python3.8/site-packages/sklearn/model_selection/_split.py:700: UserWarning: The least populated class in y has only 1 members, which is less than n_splits=5.\n",
      "  warnings.warn(\n",
      "\n"
     ]
    },
    {
     "name": "stdout",
     "output_type": "stream",
     "text": [
      "502.3177629936703                                                               \n",
      "499.967250536342                                                                \n",
      "505.2714375666836                                                               \n",
      "501.069722702608                                                                \n",
      "501.63495696268006                                                              \n",
      " 24%|██▍       | 17/70 [04:25<14:02, 15.89s/trial, best loss: 496.8563326763548]"
     ]
    },
    {
     "name": "stderr",
     "output_type": "stream",
     "text": [
      "/opt/homebrew/Caskroom/miniconda/base/envs/tf_m2/lib/python3.8/site-packages/sklearn/model_selection/_split.py:700: UserWarning: The least populated class in y has only 1 members, which is less than n_splits=5.\n",
      "  warnings.warn(\n",
      "\n"
     ]
    },
    {
     "name": "stdout",
     "output_type": "stream",
     "text": [
      "498.70973689106756                                                              \n",
      "495.92192496311924                                                              \n",
      "500.987985958042                                                                \n",
      "497.4822511428575                                                               \n",
      "496.76058538724686                                                              \n",
      " 26%|██▌       | 18/70 [04:38<13:11, 15.23s/trial, best loss: 496.8563326763548]"
     ]
    },
    {
     "name": "stderr",
     "output_type": "stream",
     "text": [
      "/opt/homebrew/Caskroom/miniconda/base/envs/tf_m2/lib/python3.8/site-packages/sklearn/model_selection/_split.py:700: UserWarning: The least populated class in y has only 1 members, which is less than n_splits=5.\n",
      "  warnings.warn(\n",
      "\n"
     ]
    },
    {
     "name": "stdout",
     "output_type": "stream",
     "text": [
      "509.4709407425808                                                               \n",
      "507.62214321135116                                                              \n",
      "512.5484911151882                                                               \n",
      "506.3311227361456                                                               \n",
      "508.6381771789998                                                               \n",
      " 27%|██▋       | 19/70 [04:49<11:52, 13.97s/trial, best loss: 496.8563326763548]"
     ]
    },
    {
     "name": "stderr",
     "output_type": "stream",
     "text": [
      "/opt/homebrew/Caskroom/miniconda/base/envs/tf_m2/lib/python3.8/site-packages/sklearn/model_selection/_split.py:700: UserWarning: The least populated class in y has only 1 members, which is less than n_splits=5.\n",
      "  warnings.warn(\n",
      "\n"
     ]
    },
    {
     "name": "stdout",
     "output_type": "stream",
     "text": [
      "497.8316848715427                                                               \n",
      "496.0573997760659                                                               \n",
      "501.30584157072366                                                              \n",
      "496.989617588251                                                                \n",
      "497.0091641102629                                                               \n",
      " 29%|██▊       | 20/70 [05:12<13:54, 16.70s/trial, best loss: 496.8563326763548]"
     ]
    },
    {
     "name": "stderr",
     "output_type": "stream",
     "text": [
      "/opt/homebrew/Caskroom/miniconda/base/envs/tf_m2/lib/python3.8/site-packages/sklearn/model_selection/_split.py:700: UserWarning: The least populated class in y has only 1 members, which is less than n_splits=5.\n",
      "  warnings.warn(\n",
      "\n"
     ]
    },
    {
     "name": "stdout",
     "output_type": "stream",
     "text": [
      "499.1137304893977                                                               \n",
      "496.3205168687817                                                               \n",
      "500.86260422670637                                                              \n",
      "497.88187996015324                                                              \n",
      "497.1899268232569                                                               \n",
      " 30%|███       | 21/70 [05:23<12:07, 14.86s/trial, best loss: 496.8563326763548]"
     ]
    },
    {
     "name": "stderr",
     "output_type": "stream",
     "text": [
      "/opt/homebrew/Caskroom/miniconda/base/envs/tf_m2/lib/python3.8/site-packages/sklearn/model_selection/_split.py:700: UserWarning: The least populated class in y has only 1 members, which is less than n_splits=5.\n",
      "  warnings.warn(\n",
      "\n"
     ]
    },
    {
     "name": "stdout",
     "output_type": "stream",
     "text": [
      "500.22271835417126                                                              \n",
      "498.2863591860347                                                               \n",
      "503.62152724808686                                                              \n",
      "499.717453501601                                                                \n",
      "500.0654757434645                                                               \n",
      " 31%|███▏      | 22/70 [05:38<11:52, 14.84s/trial, best loss: 496.8563326763548]"
     ]
    },
    {
     "name": "stderr",
     "output_type": "stream",
     "text": [
      "/opt/homebrew/Caskroom/miniconda/base/envs/tf_m2/lib/python3.8/site-packages/sklearn/model_selection/_split.py:700: UserWarning: The least populated class in y has only 1 members, which is less than n_splits=5.\n",
      "  warnings.warn(\n",
      "\n"
     ]
    },
    {
     "name": "stdout",
     "output_type": "stream",
     "text": [
      "497.4154541753246                                                               \n",
      "495.2818602312868                                                               \n",
      "500.5482917899109                                                               \n",
      "496.57883336217077                                                              \n",
      "496.113278094842                                                                \n",
      " 33%|███▎      | 23/70 [05:54<12:00, 15.33s/trial, best loss: 496.8563326763548]"
     ]
    },
    {
     "name": "stderr",
     "output_type": "stream",
     "text": [
      "/opt/homebrew/Caskroom/miniconda/base/envs/tf_m2/lib/python3.8/site-packages/sklearn/model_selection/_split.py:700: UserWarning: The least populated class in y has only 1 members, which is less than n_splits=5.\n",
      "  warnings.warn(\n",
      "\n"
     ]
    },
    {
     "name": "stdout",
     "output_type": "stream",
     "text": [
      "502.62425497775985                                                              \n",
      "499.6465202971128                                                               \n",
      "503.73091356779094                                                              \n",
      "500.6067706366566                                                               \n",
      "500.7937984640284                                                               \n",
      " 34%|███▍      | 24/70 [06:10<11:53, 15.52s/trial, best loss: 496.8563326763548]"
     ]
    },
    {
     "name": "stderr",
     "output_type": "stream",
     "text": [
      "/opt/homebrew/Caskroom/miniconda/base/envs/tf_m2/lib/python3.8/site-packages/sklearn/model_selection/_split.py:700: UserWarning: The least populated class in y has only 1 members, which is less than n_splits=5.\n",
      "  warnings.warn(\n",
      "\n"
     ]
    },
    {
     "name": "stdout",
     "output_type": "stream",
     "text": [
      "497.7917531200617                                                               \n",
      "495.5750629448835                                                               \n",
      "499.8974107932615                                                               \n",
      "496.94099175397787                                                              \n",
      "496.482894199492                                                                \n",
      " 36%|███▌      | 25/70 [06:21<10:41, 14.25s/trial, best loss: 496.8563326763548]"
     ]
    },
    {
     "name": "stderr",
     "output_type": "stream",
     "text": [
      "/opt/homebrew/Caskroom/miniconda/base/envs/tf_m2/lib/python3.8/site-packages/sklearn/model_selection/_split.py:700: UserWarning: The least populated class in y has only 1 members, which is less than n_splits=5.\n",
      "  warnings.warn(\n",
      "\n"
     ]
    },
    {
     "name": "stdout",
     "output_type": "stream",
     "text": [
      "499.47419961754025                                                              \n",
      "497.43747180197204                                                              \n",
      "502.08061221120386                                                              \n",
      "497.9209571693538                                                               \n",
      "498.2047381309301                                                               \n",
      " 37%|███▋      | 26/70 [06:34<10:01, 13.67s/trial, best loss: 496.8563326763548]"
     ]
    },
    {
     "name": "stderr",
     "output_type": "stream",
     "text": [
      "/opt/homebrew/Caskroom/miniconda/base/envs/tf_m2/lib/python3.8/site-packages/sklearn/model_selection/_split.py:700: UserWarning: The least populated class in y has only 1 members, which is less than n_splits=5.\n",
      "  warnings.warn(\n",
      "\n"
     ]
    },
    {
     "name": "stdout",
     "output_type": "stream",
     "text": [
      "519.9739819789486                                                               \n",
      "518.6814596863782                                                               \n",
      "522.6346531176863                                                               \n",
      "516.748548725602                                                                \n",
      "519.330044577449                                                                \n",
      " 39%|███▊      | 27/70 [06:57<11:45, 16.41s/trial, best loss: 496.8563326763548]"
     ]
    },
    {
     "name": "stderr",
     "output_type": "stream",
     "text": [
      "/opt/homebrew/Caskroom/miniconda/base/envs/tf_m2/lib/python3.8/site-packages/sklearn/model_selection/_split.py:700: UserWarning: The least populated class in y has only 1 members, which is less than n_splits=5.\n",
      "  warnings.warn(\n",
      "\n"
     ]
    },
    {
     "name": "stdout",
     "output_type": "stream",
     "text": [
      "501.82560363026465                                                              \n",
      "499.97047334940254                                                              \n",
      "504.98703139323544                                                              \n",
      "500.7681355411413                                                               \n",
      "501.6918498163383                                                               \n",
      " 40%|████      | 28/70 [07:10<10:57, 15.65s/trial, best loss: 496.8563326763548]"
     ]
    },
    {
     "name": "stderr",
     "output_type": "stream",
     "text": [
      "/opt/homebrew/Caskroom/miniconda/base/envs/tf_m2/lib/python3.8/site-packages/sklearn/model_selection/_split.py:700: UserWarning: The least populated class in y has only 1 members, which is less than n_splits=5.\n",
      "  warnings.warn(\n",
      "\n"
     ]
    },
    {
     "name": "stdout",
     "output_type": "stream",
     "text": [
      "500.8524560270998                                                               \n",
      "497.7502052569678                                                               \n",
      "503.0129286377495                                                               \n",
      "499.3156955022409                                                               \n",
      "499.15974020180215                                                              \n",
      " 41%|████▏     | 29/70 [07:17<08:46, 12.85s/trial, best loss: 496.8563326763548]"
     ]
    },
    {
     "name": "stderr",
     "output_type": "stream",
     "text": [
      "/opt/homebrew/Caskroom/miniconda/base/envs/tf_m2/lib/python3.8/site-packages/sklearn/model_selection/_split.py:700: UserWarning: The least populated class in y has only 1 members, which is less than n_splits=5.\n",
      "  warnings.warn(\n",
      "\n"
     ]
    },
    {
     "name": "stdout",
     "output_type": "stream",
     "text": [
      "499.28444197769346                                                              \n",
      "497.737699513466                                                                \n",
      "502.9079736816429                                                               \n",
      "498.73795685101277                                                              \n",
      "498.66660085890356                                                              \n",
      " 43%|████▎     | 30/70 [07:30<08:41, 13.05s/trial, best loss: 496.8563326763548]"
     ]
    },
    {
     "name": "stderr",
     "output_type": "stream",
     "text": [
      "/opt/homebrew/Caskroom/miniconda/base/envs/tf_m2/lib/python3.8/site-packages/sklearn/model_selection/_split.py:700: UserWarning: The least populated class in y has only 1 members, which is less than n_splits=5.\n",
      "  warnings.warn(\n",
      "\n"
     ]
    },
    {
     "name": "stdout",
     "output_type": "stream",
     "text": [
      "500.97630501938977                                                              \n",
      "498.84718278533427                                                              \n",
      "503.9223131570298                                                               \n",
      "499.4994391681291                                                               \n",
      "500.26794137864226                                                              \n",
      " 44%|████▍     | 31/70 [07:41<07:58, 12.27s/trial, best loss: 496.8563326763548]"
     ]
    },
    {
     "name": "stderr",
     "output_type": "stream",
     "text": [
      "/opt/homebrew/Caskroom/miniconda/base/envs/tf_m2/lib/python3.8/site-packages/sklearn/model_selection/_split.py:700: UserWarning: The least populated class in y has only 1 members, which is less than n_splits=5.\n",
      "  warnings.warn(\n",
      "\n"
     ]
    },
    {
     "name": "stdout",
     "output_type": "stream",
     "text": [
      "503.6030476996986                                                               \n",
      "500.09110229562964                                                              \n",
      "504.54223217836915                                                              \n",
      "501.2450892384463                                                               \n",
      "501.7360239243011                                                               \n",
      " 46%|████▌     | 32/70 [07:43<05:53,  9.30s/trial, best loss: 496.8563326763548]"
     ]
    },
    {
     "name": "stderr",
     "output_type": "stream",
     "text": [
      "/opt/homebrew/Caskroom/miniconda/base/envs/tf_m2/lib/python3.8/site-packages/sklearn/model_selection/_split.py:700: UserWarning: The least populated class in y has only 1 members, which is less than n_splits=5.\n",
      "  warnings.warn(\n",
      "\n"
     ]
    },
    {
     "name": "stdout",
     "output_type": "stream",
     "text": [
      "498.25869695765164                                                              \n",
      "495.7877402976369                                                               \n",
      "500.7794961793526                                                               \n",
      "497.3125948183076                                                               \n",
      "497.0632036006596                                                               \n",
      " 47%|████▋     | 33/70 [07:52<05:35,  9.08s/trial, best loss: 496.8563326763548]"
     ]
    },
    {
     "name": "stderr",
     "output_type": "stream",
     "text": [
      "/opt/homebrew/Caskroom/miniconda/base/envs/tf_m2/lib/python3.8/site-packages/sklearn/model_selection/_split.py:700: UserWarning: The least populated class in y has only 1 members, which is less than n_splits=5.\n",
      "  warnings.warn(\n",
      "\n"
     ]
    },
    {
     "name": "stdout",
     "output_type": "stream",
     "text": [
      "498.7686729979381                                                               \n",
      "497.4503986978634                                                               \n",
      "502.7554567898481                                                               \n",
      "498.5900846005201                                                               \n",
      "498.6532087542948                                                               \n",
      " 49%|████▊     | 34/70 [07:59<05:06,  8.51s/trial, best loss: 496.8563326763548]"
     ]
    },
    {
     "name": "stderr",
     "output_type": "stream",
     "text": [
      "/opt/homebrew/Caskroom/miniconda/base/envs/tf_m2/lib/python3.8/site-packages/sklearn/model_selection/_split.py:700: UserWarning: The least populated class in y has only 1 members, which is less than n_splits=5.\n",
      "  warnings.warn(\n",
      "\n"
     ]
    },
    {
     "name": "stdout",
     "output_type": "stream",
     "text": [
      "498.1853370063658                                                               \n",
      "496.6194044780871                                                               \n",
      "501.93904468792664                                                              \n",
      "498.49750207499176                                                              \n",
      "497.9244468506978                                                               \n",
      " 50%|█████     | 35/70 [08:01<03:55,  6.73s/trial, best loss: 496.8563326763548]"
     ]
    },
    {
     "name": "stderr",
     "output_type": "stream",
     "text": [
      "/opt/homebrew/Caskroom/miniconda/base/envs/tf_m2/lib/python3.8/site-packages/sklearn/model_selection/_split.py:700: UserWarning: The least populated class in y has only 1 members, which is less than n_splits=5.\n",
      "  warnings.warn(\n",
      "\n"
     ]
    },
    {
     "name": "stdout",
     "output_type": "stream",
     "text": [
      "497.89270401810353                                                              \n",
      "495.2783430760198                                                               \n",
      "500.4277308750949                                                               \n",
      "496.49045783126877                                                              \n",
      "496.20675583426606                                                              \n",
      " 51%|█████▏    | 36/70 [08:15<04:53,  8.63s/trial, best loss: 496.8563326763548]"
     ]
    },
    {
     "name": "stderr",
     "output_type": "stream",
     "text": [
      "/opt/homebrew/Caskroom/miniconda/base/envs/tf_m2/lib/python3.8/site-packages/sklearn/model_selection/_split.py:700: UserWarning: The least populated class in y has only 1 members, which is less than n_splits=5.\n",
      "  warnings.warn(\n",
      "\n"
     ]
    },
    {
     "name": "stdout",
     "output_type": "stream",
     "text": [
      "499.1810936658787                                                               \n",
      "496.0833712140735                                                               \n",
      "501.0425372798047                                                               \n",
      "498.0382607408069                                                               \n",
      "497.4173284786636                                                               \n",
      " 53%|█████▎    | 37/70 [08:19<04:05,  7.43s/trial, best loss: 496.8563326763548]"
     ]
    },
    {
     "name": "stderr",
     "output_type": "stream",
     "text": [
      "/opt/homebrew/Caskroom/miniconda/base/envs/tf_m2/lib/python3.8/site-packages/sklearn/model_selection/_split.py:700: UserWarning: The least populated class in y has only 1 members, which is less than n_splits=5.\n",
      "  warnings.warn(\n",
      "\n"
     ]
    },
    {
     "name": "stdout",
     "output_type": "stream",
     "text": [
      "509.8490340182641                                                               \n",
      "507.8502099317396                                                               \n",
      "512.9818051972261                                                               \n",
      "506.9124931422421                                                               \n",
      "508.79587424860205                                                              \n",
      " 54%|█████▍    | 38/70 [08:31<04:36,  8.65s/trial, best loss: 496.8563326763548]"
     ]
    },
    {
     "name": "stderr",
     "output_type": "stream",
     "text": [
      "/opt/homebrew/Caskroom/miniconda/base/envs/tf_m2/lib/python3.8/site-packages/sklearn/model_selection/_split.py:700: UserWarning: The least populated class in y has only 1 members, which is less than n_splits=5.\n",
      "  warnings.warn(\n",
      "\n"
     ]
    },
    {
     "name": "stdout",
     "output_type": "stream",
     "text": [
      "501.0388315551405                                                               \n",
      "499.88675187526457                                                              \n",
      "504.36486119965974                                                              \n",
      "500.5990233081084                                                               \n",
      "500.6296985199486                                                               \n",
      " 56%|█████▌    | 39/70 [08:35<03:46,  7.32s/trial, best loss: 496.8563326763548]"
     ]
    },
    {
     "name": "stderr",
     "output_type": "stream",
     "text": [
      "/opt/homebrew/Caskroom/miniconda/base/envs/tf_m2/lib/python3.8/site-packages/sklearn/model_selection/_split.py:700: UserWarning: The least populated class in y has only 1 members, which is less than n_splits=5.\n",
      "  warnings.warn(\n",
      "\n"
     ]
    },
    {
     "name": "stdout",
     "output_type": "stream",
     "text": [
      "501.45579732564687                                                              \n",
      "499.2895157896736                                                               \n",
      "504.5819337071887                                                               \n",
      "500.18216455417587                                                              \n",
      "500.9876991007348                                                               \n",
      " 57%|█████▋    | 40/70 [09:02<06:33, 13.13s/trial, best loss: 496.8563326763548]"
     ]
    },
    {
     "name": "stderr",
     "output_type": "stream",
     "text": [
      "/opt/homebrew/Caskroom/miniconda/base/envs/tf_m2/lib/python3.8/site-packages/sklearn/model_selection/_split.py:700: UserWarning: The least populated class in y has only 1 members, which is less than n_splits=5.\n",
      "  warnings.warn(\n",
      "\n"
     ]
    },
    {
     "name": "stdout",
     "output_type": "stream",
     "text": [
      "498.10735571358106                                                              \n",
      "495.31318526067304                                                              \n",
      "500.7598133794568                                                               \n",
      "497.14793399484057                                                              \n",
      "496.57591549664056                                                              \n",
      " 59%|█████▊    | 41/70 [09:18<06:48, 14.09s/trial, best loss: 496.8563326763548]"
     ]
    },
    {
     "name": "stderr",
     "output_type": "stream",
     "text": [
      "/opt/homebrew/Caskroom/miniconda/base/envs/tf_m2/lib/python3.8/site-packages/sklearn/model_selection/_split.py:700: UserWarning: The least populated class in y has only 1 members, which is less than n_splits=5.\n",
      "  warnings.warn(\n",
      "\n"
     ]
    },
    {
     "name": "stdout",
     "output_type": "stream",
     "text": [
      "498.5618731538952                                                               \n",
      "495.5074815131063                                                               \n",
      "501.08073492523414                                                              \n",
      "497.27687565533535                                                              \n",
      "496.66624095571507                                                              \n",
      " 60%|██████    | 42/70 [09:28<06:03, 12.98s/trial, best loss: 496.8563326763548]"
     ]
    },
    {
     "name": "stderr",
     "output_type": "stream",
     "text": [
      "/opt/homebrew/Caskroom/miniconda/base/envs/tf_m2/lib/python3.8/site-packages/sklearn/model_selection/_split.py:700: UserWarning: The least populated class in y has only 1 members, which is less than n_splits=5.\n",
      "  warnings.warn(\n",
      "\n"
     ]
    },
    {
     "name": "stdout",
     "output_type": "stream",
     "text": [
      "502.5281529526824                                                               \n",
      "499.66379574343694                                                              \n",
      "503.6482655886751                                                               \n",
      "500.43884529568106                                                              \n",
      "500.82448942440794                                                              \n",
      " 61%|██████▏   | 43/70 [09:46<06:27, 14.33s/trial, best loss: 496.8563326763548]"
     ]
    },
    {
     "name": "stderr",
     "output_type": "stream",
     "text": [
      "/opt/homebrew/Caskroom/miniconda/base/envs/tf_m2/lib/python3.8/site-packages/sklearn/model_selection/_split.py:700: UserWarning: The least populated class in y has only 1 members, which is less than n_splits=5.\n",
      "  warnings.warn(\n",
      "\n"
     ]
    },
    {
     "name": "stdout",
     "output_type": "stream",
     "text": [
      "502.5553061833051                                                               \n",
      "499.6682531832716                                                               \n",
      "503.67491249968936                                                              \n",
      "500.49147727639615                                                              \n",
      "500.73739331285407                                                              \n",
      " 63%|██████▎   | 44/70 [09:55<05:34, 12.85s/trial, best loss: 496.8563326763548]"
     ]
    },
    {
     "name": "stderr",
     "output_type": "stream",
     "text": [
      "/opt/homebrew/Caskroom/miniconda/base/envs/tf_m2/lib/python3.8/site-packages/sklearn/model_selection/_split.py:700: UserWarning: The least populated class in y has only 1 members, which is less than n_splits=5.\n",
      "  warnings.warn(\n",
      "\n"
     ]
    },
    {
     "name": "stdout",
     "output_type": "stream",
     "text": [
      "497.0494645559741                                                               \n",
      "495.2920730948933                                                               \n",
      "500.16249598918773                                                              \n",
      "496.35114493959236                                                              \n",
      "495.91893181710265                                                              \n",
      " 64%|██████▍   | 45/70 [10:08<05:21, 12.86s/trial, best loss: 496.8563326763548]"
     ]
    },
    {
     "name": "stderr",
     "output_type": "stream",
     "text": [
      "/opt/homebrew/Caskroom/miniconda/base/envs/tf_m2/lib/python3.8/site-packages/sklearn/model_selection/_split.py:700: UserWarning: The least populated class in y has only 1 members, which is less than n_splits=5.\n",
      "  warnings.warn(\n",
      "\n"
     ]
    },
    {
     "name": "stdout",
     "output_type": "stream",
     "text": [
      "497.8805830005081                                                               \n",
      "495.41687434659354                                                              \n",
      "500.1876728783853                                                               \n",
      "497.1255273542883                                                               \n",
      "496.4180108198345                                                               \n",
      " 66%|██████▌   | 46/70 [10:17<04:41, 11.72s/trial, best loss: 496.8563326763548]"
     ]
    },
    {
     "name": "stderr",
     "output_type": "stream",
     "text": [
      "/opt/homebrew/Caskroom/miniconda/base/envs/tf_m2/lib/python3.8/site-packages/sklearn/model_selection/_split.py:700: UserWarning: The least populated class in y has only 1 members, which is less than n_splits=5.\n",
      "  warnings.warn(\n",
      "\n"
     ]
    },
    {
     "name": "stdout",
     "output_type": "stream",
     "text": [
      "499.68641210854014                                                              \n",
      "497.7947153908133                                                               \n",
      "502.7748546709893                                                               \n",
      "498.49012433650176                                                              \n",
      "499.36732495428777                                                              \n",
      " 67%|██████▋   | 47/70 [10:39<05:40, 14.79s/trial, best loss: 496.8563326763548]"
     ]
    },
    {
     "name": "stderr",
     "output_type": "stream",
     "text": [
      "/opt/homebrew/Caskroom/miniconda/base/envs/tf_m2/lib/python3.8/site-packages/sklearn/model_selection/_split.py:700: UserWarning: The least populated class in y has only 1 members, which is less than n_splits=5.\n",
      "  warnings.warn(\n",
      "\n"
     ]
    },
    {
     "name": "stdout",
     "output_type": "stream",
     "text": [
      "500.9197478436591                                                               \n",
      "499.11233929871605                                                              \n",
      "504.0239728147084                                                               \n",
      "499.6565406531356                                                               \n",
      "500.2416155177247                                                               \n",
      " 69%|██████▊   | 48/70 [11:01<06:12, 16.92s/trial, best loss: 496.8563326763548]"
     ]
    },
    {
     "name": "stderr",
     "output_type": "stream",
     "text": [
      "/opt/homebrew/Caskroom/miniconda/base/envs/tf_m2/lib/python3.8/site-packages/sklearn/model_selection/_split.py:700: UserWarning: The least populated class in y has only 1 members, which is less than n_splits=5.\n",
      "  warnings.warn(\n",
      "\n"
     ]
    },
    {
     "name": "stdout",
     "output_type": "stream",
     "text": [
      "521.2415300874493                                                               \n",
      "515.0362493874626                                                               \n",
      "526.0998614588354                                                               \n",
      "513.5925349892057                                                               \n",
      "514.5262283446801                                                               \n",
      " 70%|███████   | 49/70 [11:22<06:22, 18.23s/trial, best loss: 496.8563326763548]"
     ]
    },
    {
     "name": "stderr",
     "output_type": "stream",
     "text": [
      "/opt/homebrew/Caskroom/miniconda/base/envs/tf_m2/lib/python3.8/site-packages/sklearn/model_selection/_split.py:700: UserWarning: The least populated class in y has only 1 members, which is less than n_splits=5.\n",
      "  warnings.warn(\n",
      "\n"
     ]
    },
    {
     "name": "stdout",
     "output_type": "stream",
     "text": [
      "518.2973200399232                                                               \n",
      "515.419326262291                                                                \n",
      "522.093544911032                                                                \n",
      "517.3589102213724                                                               \n",
      "519.182878241805                                                                \n",
      " 71%|███████▏  | 50/70 [11:24<04:28, 13.41s/trial, best loss: 496.8563326763548]"
     ]
    },
    {
     "name": "stderr",
     "output_type": "stream",
     "text": [
      "/opt/homebrew/Caskroom/miniconda/base/envs/tf_m2/lib/python3.8/site-packages/sklearn/model_selection/_split.py:700: UserWarning: The least populated class in y has only 1 members, which is less than n_splits=5.\n",
      "  warnings.warn(\n",
      "\n"
     ]
    },
    {
     "name": "stdout",
     "output_type": "stream",
     "text": [
      "500.7257085941205                                                               \n",
      "498.92705706076265                                                              \n",
      "503.3918945857418                                                               \n",
      "499.1773098070796                                                               \n",
      "500.1844498928154                                                               \n",
      " 73%|███████▎  | 51/70 [11:36<04:04, 12.89s/trial, best loss: 496.8563326763548]"
     ]
    },
    {
     "name": "stderr",
     "output_type": "stream",
     "text": [
      "/opt/homebrew/Caskroom/miniconda/base/envs/tf_m2/lib/python3.8/site-packages/sklearn/model_selection/_split.py:700: UserWarning: The least populated class in y has only 1 members, which is less than n_splits=5.\n",
      "  warnings.warn(\n",
      "\n"
     ]
    },
    {
     "name": "stdout",
     "output_type": "stream",
     "text": [
      "498.9520098394637                                                               \n",
      "497.18907980431317                                                              \n",
      "502.13208763312605                                                              \n",
      "498.01281985053924                                                              \n",
      "498.3189384104996                                                               \n",
      " 74%|███████▍  | 52/70 [11:50<03:55, 13.09s/trial, best loss: 496.8563326763548]"
     ]
    },
    {
     "name": "stderr",
     "output_type": "stream",
     "text": [
      "/opt/homebrew/Caskroom/miniconda/base/envs/tf_m2/lib/python3.8/site-packages/sklearn/model_selection/_split.py:700: UserWarning: The least populated class in y has only 1 members, which is less than n_splits=5.\n",
      "  warnings.warn(\n",
      "\n"
     ]
    },
    {
     "name": "stdout",
     "output_type": "stream",
     "text": [
      "504.1627345985832                                                               \n",
      "502.0926964126068                                                               \n",
      "508.06710062527367                                                              \n",
      "502.91438766327633                                                              \n",
      "504.5163083622851                                                               \n",
      " 76%|███████▌  | 53/70 [11:56<03:10, 11.21s/trial, best loss: 496.8563326763548]"
     ]
    },
    {
     "name": "stderr",
     "output_type": "stream",
     "text": [
      "/opt/homebrew/Caskroom/miniconda/base/envs/tf_m2/lib/python3.8/site-packages/sklearn/model_selection/_split.py:700: UserWarning: The least populated class in y has only 1 members, which is less than n_splits=5.\n",
      "  warnings.warn(\n",
      "\n"
     ]
    },
    {
     "name": "stdout",
     "output_type": "stream",
     "text": [
      "518.3228096428171                                                               \n",
      "516.9563277274104                                                               \n",
      "520.138830476234                                                                \n",
      "516.2888918700792                                                               \n",
      "517.0976603262526                                                               \n",
      " 77%|███████▋  | 54/70 [12:02<02:34,  9.65s/trial, best loss: 496.8563326763548]"
     ]
    },
    {
     "name": "stderr",
     "output_type": "stream",
     "text": [
      "/opt/homebrew/Caskroom/miniconda/base/envs/tf_m2/lib/python3.8/site-packages/sklearn/model_selection/_split.py:700: UserWarning: The least populated class in y has only 1 members, which is less than n_splits=5.\n",
      "  warnings.warn(\n",
      "\n"
     ]
    },
    {
     "name": "stdout",
     "output_type": "stream",
     "text": [
      "499.5724491645073                                                               \n",
      "497.66419876583757                                                              \n",
      "503.0162505257555                                                               \n",
      "499.09575045866075                                                              \n",
      "498.60065584573914                                                              \n",
      " 79%|███████▊  | 55/70 [12:15<02:39, 10.64s/trial, best loss: 496.8563326763548]"
     ]
    },
    {
     "name": "stderr",
     "output_type": "stream",
     "text": [
      "/opt/homebrew/Caskroom/miniconda/base/envs/tf_m2/lib/python3.8/site-packages/sklearn/model_selection/_split.py:700: UserWarning: The least populated class in y has only 1 members, which is less than n_splits=5.\n",
      "  warnings.warn(\n",
      "\n"
     ]
    },
    {
     "name": "stdout",
     "output_type": "stream",
     "text": [
      "497.9152313765858                                                               \n",
      "496.1068815169258                                                               \n",
      "501.3069693004834                                                               \n",
      "497.08797144815475                                                              \n",
      "496.98896892385403                                                              \n",
      " 80%|████████  | 56/70 [12:25<02:23, 10.27s/trial, best loss: 496.8563326763548]"
     ]
    },
    {
     "name": "stderr",
     "output_type": "stream",
     "text": [
      "/opt/homebrew/Caskroom/miniconda/base/envs/tf_m2/lib/python3.8/site-packages/sklearn/model_selection/_split.py:700: UserWarning: The least populated class in y has only 1 members, which is less than n_splits=5.\n",
      "  warnings.warn(\n",
      "\n"
     ]
    },
    {
     "name": "stdout",
     "output_type": "stream",
     "text": [
      "502.46211261278813                                                              \n",
      "500.1103444329665                                                               \n",
      "505.291249991575                                                                \n",
      "500.69602823678633                                                              \n",
      "502.13148556388103                                                              \n",
      " 81%|████████▏ | 57/70 [12:38<02:25, 11.16s/trial, best loss: 496.8563326763548]"
     ]
    },
    {
     "name": "stderr",
     "output_type": "stream",
     "text": [
      "/opt/homebrew/Caskroom/miniconda/base/envs/tf_m2/lib/python3.8/site-packages/sklearn/model_selection/_split.py:700: UserWarning: The least populated class in y has only 1 members, which is less than n_splits=5.\n",
      "  warnings.warn(\n",
      "\n"
     ]
    },
    {
     "name": "stdout",
     "output_type": "stream",
     "text": [
      "498.7261399264184                                                               \n",
      "496.2389242583097                                                               \n",
      "501.12708052869885                                                              \n",
      "497.6643666771852                                                               \n",
      "497.22826068742023                                                              \n",
      " 83%|████████▎ | 58/70 [12:41<01:42,  8.58s/trial, best loss: 496.8563326763548]"
     ]
    },
    {
     "name": "stderr",
     "output_type": "stream",
     "text": [
      "/opt/homebrew/Caskroom/miniconda/base/envs/tf_m2/lib/python3.8/site-packages/sklearn/model_selection/_split.py:700: UserWarning: The least populated class in y has only 1 members, which is less than n_splits=5.\n",
      "  warnings.warn(\n",
      "\n"
     ]
    },
    {
     "name": "stdout",
     "output_type": "stream",
     "text": [
      "498.96750286001657                                                              \n",
      "496.9914117429287                                                               \n",
      "501.8334037784744                                                               \n",
      "498.1938783114919                                                               \n",
      "498.1567412745062                                                               \n",
      "523.1489041442827                                                               \n",
      " 84%|████████▍ | 59/70 [12:45<01:19,  7.22s/trial, best loss: 496.8563326763548]"
     ]
    },
    {
     "name": "stderr",
     "output_type": "stream",
     "text": [
      "/opt/homebrew/Caskroom/miniconda/base/envs/tf_m2/lib/python3.8/site-packages/sklearn/model_selection/_split.py:700: UserWarning: The least populated class in y has only 1 members, which is less than n_splits=5.\n",
      "  warnings.warn(\n",
      "\n"
     ]
    },
    {
     "name": "stdout",
     "output_type": "stream",
     "text": [
      "518.801577554719                                                                \n",
      "523.8902936365854                                                               \n",
      "520.1003433655391                                                               \n",
      "521.5723960874284                                                               \n",
      " 86%|████████▌ | 60/70 [12:45<00:53,  5.32s/trial, best loss: 496.8563326763548]"
     ]
    },
    {
     "name": "stderr",
     "output_type": "stream",
     "text": [
      "/opt/homebrew/Caskroom/miniconda/base/envs/tf_m2/lib/python3.8/site-packages/sklearn/model_selection/_split.py:700: UserWarning: The least populated class in y has only 1 members, which is less than n_splits=5.\n",
      "  warnings.warn(\n",
      "\n"
     ]
    },
    {
     "name": "stdout",
     "output_type": "stream",
     "text": [
      "498.37072136521476                                                              \n",
      "495.7743077384193                                                               \n",
      "500.790720116319                                                                \n",
      "497.3309175161369                                                               \n",
      "497.0088978704677                                                               \n",
      " 87%|████████▋ | 61/70 [12:56<01:01,  6.84s/trial, best loss: 496.8563326763548]"
     ]
    },
    {
     "name": "stderr",
     "output_type": "stream",
     "text": [
      "/opt/homebrew/Caskroom/miniconda/base/envs/tf_m2/lib/python3.8/site-packages/sklearn/model_selection/_split.py:700: UserWarning: The least populated class in y has only 1 members, which is less than n_splits=5.\n",
      "  warnings.warn(\n",
      "\n"
     ]
    },
    {
     "name": "stdout",
     "output_type": "stream",
     "text": [
      "497.001331614551                                                                \n",
      "495.1073759659646                                                               \n",
      "500.03809063173645                                                              \n",
      "496.0464156046844                                                               \n",
      "495.6511618754197                                                               \n",
      " 89%|███████▉ | 62/70 [13:12<01:16,  9.53s/trial, best loss: 496.76887513847123]"
     ]
    },
    {
     "name": "stderr",
     "output_type": "stream",
     "text": [
      "/opt/homebrew/Caskroom/miniconda/base/envs/tf_m2/lib/python3.8/site-packages/sklearn/model_selection/_split.py:700: UserWarning: The least populated class in y has only 1 members, which is less than n_splits=5.\n",
      "  warnings.warn(\n",
      "\n"
     ]
    },
    {
     "name": "stdout",
     "output_type": "stream",
     "text": [
      "498.33293045184803                                                              \n",
      "496.5510935535303                                                               \n",
      "501.79056446980456                                                              \n",
      "497.70672395301807                                                              \n",
      "497.5875888655645                                                               \n",
      " 90%|████████ | 63/70 [13:27<01:18, 11.20s/trial, best loss: 496.76887513847123]"
     ]
    },
    {
     "name": "stderr",
     "output_type": "stream",
     "text": [
      "/opt/homebrew/Caskroom/miniconda/base/envs/tf_m2/lib/python3.8/site-packages/sklearn/model_selection/_split.py:700: UserWarning: The least populated class in y has only 1 members, which is less than n_splits=5.\n",
      "  warnings.warn(\n",
      "\n"
     ]
    },
    {
     "name": "stdout",
     "output_type": "stream",
     "text": [
      "497.4898822550297                                                               \n",
      "495.6732203618285                                                               \n",
      "500.9127220635345                                                               \n",
      "497.2436962428891                                                               \n",
      "496.7196923380639                                                               \n",
      " 91%|████████▏| 64/70 [13:46<01:21, 13.56s/trial, best loss: 496.76887513847123]"
     ]
    },
    {
     "name": "stderr",
     "output_type": "stream",
     "text": [
      "/opt/homebrew/Caskroom/miniconda/base/envs/tf_m2/lib/python3.8/site-packages/sklearn/model_selection/_split.py:700: UserWarning: The least populated class in y has only 1 members, which is less than n_splits=5.\n",
      "  warnings.warn(\n",
      "\n"
     ]
    },
    {
     "name": "stdout",
     "output_type": "stream",
     "text": [
      "497.4536229676563                                                               \n",
      "495.441711855077                                                                \n",
      "500.9111954874313                                                               \n",
      "497.28462528753323                                                              \n",
      "496.77281101302094                                                              \n",
      " 93%|████████▎| 65/70 [14:02<01:11, 14.36s/trial, best loss: 496.76887513847123]"
     ]
    },
    {
     "name": "stderr",
     "output_type": "stream",
     "text": [
      "/opt/homebrew/Caskroom/miniconda/base/envs/tf_m2/lib/python3.8/site-packages/sklearn/model_selection/_split.py:700: UserWarning: The least populated class in y has only 1 members, which is less than n_splits=5.\n",
      "  warnings.warn(\n",
      "\n"
     ]
    },
    {
     "name": "stdout",
     "output_type": "stream",
     "text": [
      "496.778694041423                                                                \n",
      "494.9772123240501                                                               \n",
      "499.8599868228916                                                               \n",
      "496.2325683084925                                                               \n",
      "495.67374587802124                                                              \n",
      " 94%|█████████▍| 66/70 [14:19<00:59, 14.98s/trial, best loss: 496.7044414749756]"
     ]
    },
    {
     "name": "stderr",
     "output_type": "stream",
     "text": [
      "/opt/homebrew/Caskroom/miniconda/base/envs/tf_m2/lib/python3.8/site-packages/sklearn/model_selection/_split.py:700: UserWarning: The least populated class in y has only 1 members, which is less than n_splits=5.\n",
      "  warnings.warn(\n",
      "\n"
     ]
    },
    {
     "name": "stdout",
     "output_type": "stream",
     "text": [
      "496.6914003725899                                                               \n",
      "495.0570546118565                                                               \n",
      "499.78537105890393                                                              \n",
      "496.2144699520933                                                               \n",
      "495.6129930103547                                                               \n",
      " 96%|█████████▌| 67/70 [14:35<00:46, 15.44s/trial, best loss: 496.6722578011597]"
     ]
    },
    {
     "name": "stderr",
     "output_type": "stream",
     "text": [
      "/opt/homebrew/Caskroom/miniconda/base/envs/tf_m2/lib/python3.8/site-packages/sklearn/model_selection/_split.py:700: UserWarning: The least populated class in y has only 1 members, which is less than n_splits=5.\n",
      "  warnings.warn(\n",
      "\n"
     ]
    },
    {
     "name": "stdout",
     "output_type": "stream",
     "text": [
      "496.7926320868462                                                               \n",
      "494.993450451428                                                                \n",
      "499.7950134272059                                                               \n",
      "496.09997118242546                                                              \n",
      "495.5275773436845                                                               \n",
      " 97%|██████████▋| 68/70 [14:53<00:32, 16.21s/trial, best loss: 496.641728898318]"
     ]
    },
    {
     "name": "stderr",
     "output_type": "stream",
     "text": [
      "/opt/homebrew/Caskroom/miniconda/base/envs/tf_m2/lib/python3.8/site-packages/sklearn/model_selection/_split.py:700: UserWarning: The least populated class in y has only 1 members, which is less than n_splits=5.\n",
      "  warnings.warn(\n",
      "\n"
     ]
    },
    {
     "name": "stdout",
     "output_type": "stream",
     "text": [
      "497.08574814941153                                                              \n",
      "494.9548844404095                                                               \n",
      "499.8081085679428                                                               \n",
      "496.1640344665686                                                               \n",
      "495.6906357437053                                                               \n",
      " 99%|██████████▊| 69/70 [15:09<00:16, 16.02s/trial, best loss: 496.641728898318]"
     ]
    },
    {
     "name": "stderr",
     "output_type": "stream",
     "text": [
      "/opt/homebrew/Caskroom/miniconda/base/envs/tf_m2/lib/python3.8/site-packages/sklearn/model_selection/_split.py:700: UserWarning: The least populated class in y has only 1 members, which is less than n_splits=5.\n",
      "  warnings.warn(\n",
      "\n"
     ]
    },
    {
     "name": "stdout",
     "output_type": "stream",
     "text": [
      "502.76054409570116                                                              \n",
      "499.7051180703492                                                               \n",
      "503.8988456116061                                                               \n",
      "500.69901729729156                                                              \n",
      "501.0198624378675                                                               \n",
      "100%|███████████| 70/70 [15:23<00:00, 13.19s/trial, best loss: 496.641728898318]\n",
      "Best Hyperparameters:\n",
      "{'learning_rate': 0.10268565955774255, 'max_depth': 2.0, 'min_child_weight': 6.056282936623473, 'n_estimators': 1373.0, 'reg_alpha': 0.3529186898516057, 'reg_lambda': 0.09435689906154542, 'subsample': 0.6655884350142894}\n"
     ]
    }
   ],
   "source": [
    "import xgboost as xgb\n",
    "from sklearn.model_selection import StratifiedKFold\n",
    "from sklearn.metrics import mean_squared_error\n",
    "import pandas as pd\n",
    "import numpy as np\n",
    "from hyperopt import fmin, tpe, hp, STATUS_OK, Trials,rand\n",
    "\n",
    "best_rmse = float(\"inf\")\n",
    "best_model = None\n",
    "\n",
    "def objective(params):\n",
    "    # Define the number of folds for cross-validation\n",
    "    num_folds = 5\n",
    "    kf = StratifiedKFold(n_splits=num_folds, shuffle=True, random_state=42)\n",
    "    rmse_values = []\n",
    "    \n",
    "    # Iterate through each fold\n",
    "    for train_index, test_index in kf.split(X.values, y.values):  # Convert DataFrame to NumPy array\n",
    "        X_train, X_test = X.values[train_index], X.values[test_index]  # Convert DataFrame to NumPy array\n",
    "        y_train, y_test = y.values[train_index], y.values[test_index]\n",
    "        \n",
    "        model = xgb.XGBRegressor(\n",
    "            n_estimators=int(\n",
    "                params['n_estimators']),\n",
    "            learning_rate=params['learning_rate'],\n",
    "            max_depth=int(params['max_depth']),\n",
    "            min_child_weight=params['min_child_weight'],\n",
    "            subsample=params['subsample'],\n",
    "            reg_lambda=params['reg_lambda'],\n",
    "            reg_alpha=params['reg_alpha'],\n",
    "            objective='reg:gamma'\n",
    "        ).fit(X_train, y_train)\n",
    "        \n",
    "        y_pred_test = model.predict(X_test)\n",
    "        rmse_fold = np.sqrt(mean_squared_error(y_test, y_pred_test))\n",
    "        print(rmse_fold)\n",
    "        rmse_values.append(rmse_fold)\n",
    "    # Calculate the mean RMSE over all folds\n",
    "    mean_rmse = np.mean(rmse_values)\n",
    "\n",
    "    global best_model\n",
    "    if best_model is None or mean_rmse < best_model['rmse']:\n",
    "        best_model = {\n",
    "            'model': model,  # Store the model itself\n",
    "            'rmse': mean_rmse\n",
    "        }\n",
    "    \n",
    "    return {'loss': best_model['rmse'], 'status': STATUS_OK}\n",
    "\n",
    "space = {\n",
    "    'n_estimators': hp.quniform('n_estimators', 100, 1500, 1),\n",
    "    'learning_rate': hp.loguniform('learning_rate', -3, 0),\n",
    "    'max_depth': hp.quniform('max_depth', 1, 10, 1),\n",
    "    'min_child_weight': hp.uniform('min_child_weight', 0, 10),\n",
    "    'subsample': hp.uniform('subsample', 0.1, 1),\n",
    "    'reg_lambda': hp.loguniform('reg_lambda', -3, 3),\n",
    "    'reg_alpha': hp.loguniform('reg_alpha', -3, 3),\n",
    "}\n",
    "\n",
    "# Create a trials object to keep track of the optimization process\n",
    "trials = Trials()\n",
    "\n",
    "# Run the hyperparameter optimization using the TPE algorithm\n",
    "best = fmin(fn=objective, space=space, algo=tpe.suggest, max_evals=70, trials=trials)\n",
    "best_model = best_model['model']\n",
    "# Print the best hyperparameters found by Hyperopt\n",
    "print(\"Best Hyperparameters:\")\n",
    "print(best)"
   ]
  },
  {
   "cell_type": "code",
   "execution_count": 158,
   "id": "28a12fc7",
   "metadata": {},
   "outputs": [
    {
     "name": "stdout",
     "output_type": "stream",
     "text": [
      "1.9599911192182962\n"
     ]
    },
    {
     "data": {
      "text/plain": [
       "974.2469056564809"
      ]
     },
     "execution_count": 158,
     "metadata": {},
     "output_type": "execute_result"
    }
   ],
   "source": [
    "from scipy.stats import t\n",
    "import numpy as np\n",
    "\n",
    "# Assuming your predictions are stored in the variable 'predictions'\n",
    "# Calculate the standard error of the model\n",
    "std_error = 497.067\n",
    "\n",
    "# Define the confidence level (e.g., 95%)\n",
    "confidence_level = 0.95\n",
    "\n",
    "# Calculate the degrees of freedom\n",
    "df = len(y_train) - 1\n",
    "\n",
    "# Calculate the critical value\n",
    "alpha = 1 - confidence_level\n",
    "critical_value = t.ppf(1 - alpha / 2, df)\n",
    "print(critical_value)\n",
    "# Calculate the margin of error\n",
    "margin_of_error = critical_value * std_error\n",
    "\n",
    "# Calculate the lower and upper bounds of the confidence interval\n",
    "#lower_bound = predictions - margin_of_error\n",
    "#upper_bound = predictions + margin_of_error\n",
    "margin_of_error"
   ]
  },
  {
   "cell_type": "code",
   "execution_count": 53,
   "id": "72588828",
   "metadata": {},
   "outputs": [
    {
     "data": {
      "text/html": [
       "<div>\n",
       "<style scoped>\n",
       "    .dataframe tbody tr th:only-of-type {\n",
       "        vertical-align: middle;\n",
       "    }\n",
       "\n",
       "    .dataframe tbody tr th {\n",
       "        vertical-align: top;\n",
       "    }\n",
       "\n",
       "    .dataframe thead th {\n",
       "        text-align: right;\n",
       "    }\n",
       "</style>\n",
       "<table border=\"1\" class=\"dataframe\">\n",
       "  <thead>\n",
       "    <tr style=\"text-align: right;\">\n",
       "      <th></th>\n",
       "      <th>Month</th>\n",
       "      <th>Year</th>\n",
       "      <th>Index</th>\n",
       "      <th>monthly_rent</th>\n",
       "      <th>flat_type_encoded</th>\n",
       "      <th>town_ANG MO KIO</th>\n",
       "      <th>town_BEDOK</th>\n",
       "      <th>town_BISHAN</th>\n",
       "      <th>town_BUKIT BATOK</th>\n",
       "      <th>town_BUKIT MERAH</th>\n",
       "      <th>...</th>\n",
       "      <th>town_PASIR RIS</th>\n",
       "      <th>town_PUNGGOL</th>\n",
       "      <th>town_QUEENSTOWN</th>\n",
       "      <th>town_SEMBAWANG</th>\n",
       "      <th>town_SENGKANG</th>\n",
       "      <th>town_SERANGOON</th>\n",
       "      <th>town_TAMPINES</th>\n",
       "      <th>town_TOA PAYOH</th>\n",
       "      <th>town_WOODLANDS</th>\n",
       "      <th>town_YISHUN</th>\n",
       "    </tr>\n",
       "  </thead>\n",
       "  <tbody>\n",
       "    <tr>\n",
       "      <th>0</th>\n",
       "      <td>12</td>\n",
       "      <td>2023</td>\n",
       "      <td>137.0</td>\n",
       "      <td>4200</td>\n",
       "      <td>4</td>\n",
       "      <td>0</td>\n",
       "      <td>0</td>\n",
       "      <td>0</td>\n",
       "      <td>0</td>\n",
       "      <td>0</td>\n",
       "      <td>...</td>\n",
       "      <td>0</td>\n",
       "      <td>0</td>\n",
       "      <td>0</td>\n",
       "      <td>0</td>\n",
       "      <td>0</td>\n",
       "      <td>0</td>\n",
       "      <td>0</td>\n",
       "      <td>0</td>\n",
       "      <td>0</td>\n",
       "      <td>0</td>\n",
       "    </tr>\n",
       "    <tr>\n",
       "      <th>1</th>\n",
       "      <td>12</td>\n",
       "      <td>2023</td>\n",
       "      <td>137.0</td>\n",
       "      <td>4500</td>\n",
       "      <td>4</td>\n",
       "      <td>0</td>\n",
       "      <td>0</td>\n",
       "      <td>0</td>\n",
       "      <td>0</td>\n",
       "      <td>0</td>\n",
       "      <td>...</td>\n",
       "      <td>0</td>\n",
       "      <td>0</td>\n",
       "      <td>0</td>\n",
       "      <td>0</td>\n",
       "      <td>0</td>\n",
       "      <td>0</td>\n",
       "      <td>0</td>\n",
       "      <td>0</td>\n",
       "      <td>0</td>\n",
       "      <td>0</td>\n",
       "    </tr>\n",
       "    <tr>\n",
       "      <th>2</th>\n",
       "      <td>12</td>\n",
       "      <td>2023</td>\n",
       "      <td>137.0</td>\n",
       "      <td>4200</td>\n",
       "      <td>4</td>\n",
       "      <td>0</td>\n",
       "      <td>0</td>\n",
       "      <td>0</td>\n",
       "      <td>0</td>\n",
       "      <td>1</td>\n",
       "      <td>...</td>\n",
       "      <td>0</td>\n",
       "      <td>0</td>\n",
       "      <td>0</td>\n",
       "      <td>0</td>\n",
       "      <td>0</td>\n",
       "      <td>0</td>\n",
       "      <td>0</td>\n",
       "      <td>0</td>\n",
       "      <td>0</td>\n",
       "      <td>0</td>\n",
       "    </tr>\n",
       "    <tr>\n",
       "      <th>3</th>\n",
       "      <td>12</td>\n",
       "      <td>2023</td>\n",
       "      <td>137.0</td>\n",
       "      <td>3500</td>\n",
       "      <td>3</td>\n",
       "      <td>0</td>\n",
       "      <td>0</td>\n",
       "      <td>0</td>\n",
       "      <td>0</td>\n",
       "      <td>0</td>\n",
       "      <td>...</td>\n",
       "      <td>0</td>\n",
       "      <td>0</td>\n",
       "      <td>1</td>\n",
       "      <td>0</td>\n",
       "      <td>0</td>\n",
       "      <td>0</td>\n",
       "      <td>0</td>\n",
       "      <td>0</td>\n",
       "      <td>0</td>\n",
       "      <td>0</td>\n",
       "    </tr>\n",
       "    <tr>\n",
       "      <th>4</th>\n",
       "      <td>12</td>\n",
       "      <td>2023</td>\n",
       "      <td>137.0</td>\n",
       "      <td>4550</td>\n",
       "      <td>4</td>\n",
       "      <td>0</td>\n",
       "      <td>0</td>\n",
       "      <td>0</td>\n",
       "      <td>0</td>\n",
       "      <td>0</td>\n",
       "      <td>...</td>\n",
       "      <td>0</td>\n",
       "      <td>0</td>\n",
       "      <td>0</td>\n",
       "      <td>0</td>\n",
       "      <td>0</td>\n",
       "      <td>0</td>\n",
       "      <td>0</td>\n",
       "      <td>0</td>\n",
       "      <td>0</td>\n",
       "      <td>0</td>\n",
       "    </tr>\n",
       "  </tbody>\n",
       "</table>\n",
       "<p>5 rows × 31 columns</p>\n",
       "</div>"
      ],
      "text/plain": [
       "   Month  Year  Index  monthly_rent  flat_type_encoded  town_ANG MO KIO  \\\n",
       "0     12  2023  137.0          4200                  4                0   \n",
       "1     12  2023  137.0          4500                  4                0   \n",
       "2     12  2023  137.0          4200                  4                0   \n",
       "3     12  2023  137.0          3500                  3                0   \n",
       "4     12  2023  137.0          4550                  4                0   \n",
       "\n",
       "   town_BEDOK  town_BISHAN  town_BUKIT BATOK  town_BUKIT MERAH  ...  \\\n",
       "0           0            0                 0                 0  ...   \n",
       "1           0            0                 0                 0  ...   \n",
       "2           0            0                 0                 1  ...   \n",
       "3           0            0                 0                 0  ...   \n",
       "4           0            0                 0                 0  ...   \n",
       "\n",
       "   town_PASIR RIS  town_PUNGGOL  town_QUEENSTOWN  town_SEMBAWANG  \\\n",
       "0               0             0                0               0   \n",
       "1               0             0                0               0   \n",
       "2               0             0                0               0   \n",
       "3               0             0                1               0   \n",
       "4               0             0                0               0   \n",
       "\n",
       "   town_SENGKANG  town_SERANGOON  town_TAMPINES  town_TOA PAYOH  \\\n",
       "0              0               0              0               0   \n",
       "1              0               0              0               0   \n",
       "2              0               0              0               0   \n",
       "3              0               0              0               0   \n",
       "4              0               0              0               0   \n",
       "\n",
       "   town_WOODLANDS  town_YISHUN  \n",
       "0               0            0  \n",
       "1               0            0  \n",
       "2               0            0  \n",
       "3               0            0  \n",
       "4               0            0  \n",
       "\n",
       "[5 rows x 31 columns]"
      ]
     },
     "execution_count": 53,
     "metadata": {},
     "output_type": "execute_result"
    }
   ],
   "source": [
    "rental.head()"
   ]
  },
  {
   "cell_type": "code",
   "execution_count": 116,
   "id": "0e3bb486",
   "metadata": {},
   "outputs": [
    {
     "data": {
      "text/plain": [
       "['ANG MO KIO',\n",
       " 'BEDOK',\n",
       " 'BISHAN',\n",
       " 'BUKIT BATOK',\n",
       " 'BUKIT MERAH',\n",
       " 'BUKIT PANJANG',\n",
       " 'BUKIT TIMAH',\n",
       " 'CENTRAL',\n",
       " 'CHOA CHU KANG',\n",
       " 'CLEMENTI',\n",
       " 'GEYLANG',\n",
       " 'HOUGANG',\n",
       " 'JURONG EAST',\n",
       " 'JURONG WEST',\n",
       " 'KALLANG/WHAMPOA',\n",
       " 'MARINE PARADE',\n",
       " 'PASIR RIS',\n",
       " 'PUNGGOL',\n",
       " 'QUEENSTOWN',\n",
       " 'SEMBAWANG',\n",
       " 'SENGKANG',\n",
       " 'SERANGOON',\n",
       " 'TAMPINES',\n",
       " 'TOA PAYOH',\n",
       " 'WOODLANDS',\n",
       " 'YISHUN']"
      ]
     },
     "execution_count": 116,
     "metadata": {},
     "output_type": "execute_result"
    }
   ],
   "source": [
    "sorted(rental['town'].unique())"
   ]
  },
  {
   "cell_type": "code",
   "execution_count": 117,
   "id": "4bd828bc",
   "metadata": {},
   "outputs": [
    {
     "data": {
      "text/plain": [
       "26"
      ]
     },
     "execution_count": 117,
     "metadata": {},
     "output_type": "execute_result"
    }
   ],
   "source": [
    "len(rental['town'].unique())"
   ]
  },
  {
   "cell_type": "code",
   "execution_count": 149,
   "id": "078011be",
   "metadata": {},
   "outputs": [
    {
     "name": "stdout",
     "output_type": "stream",
     "text": [
      "[2648.149]\n"
     ]
    }
   ],
   "source": [
    "import numpy as np\n",
    "\n",
    "data = {\n",
    "    'Month': 2,\n",
    "    'Year': 2024,\n",
    "    'Index': 190.7,\n",
    "    'flat_type_encoded': 3,\n",
    "    'town_ANG MO KIO': 1\n",
    "}\n",
    "\n",
    "# Convert the dictionary to a numpy array\n",
    "X_pred = np.array([[data['Month'], data['Year'], data['Index'], data['flat_type_encoded'], data['town_ANG MO KIO'],0,0,0,0,0,0,0,0,0,0,0,0,0,0,0,0,0,0,0,0,0,0,0,0,0]])\n",
    "\n",
    "# Make the prediction\n",
    "prediction = best_model.predict(X_pred)\n",
    "\n",
    "print(prediction)"
   ]
  },
  {
   "cell_type": "code",
   "execution_count": 160,
   "id": "94a0c0d4",
   "metadata": {},
   "outputs": [],
   "source": [
    "import pickle\n",
    "\n",
    "pickle.dump(best_model, open(\"rental.pickle.dat\", \"wb\"))"
   ]
  },
  {
   "cell_type": "code",
   "execution_count": 161,
   "id": "62f51ff2",
   "metadata": {},
   "outputs": [],
   "source": [
    "loaded_model = pickle.load(open(\"rental.pickle.dat\", \"rb\"))"
   ]
  },
  {
   "cell_type": "code",
   "execution_count": 152,
   "id": "d1b87875",
   "metadata": {},
   "outputs": [
    {
     "name": "stdout",
     "output_type": "stream",
     "text": [
      "1050.1494945595155\n"
     ]
    }
   ],
   "source": [
    "std_error = np.sqrt(mean_squared_error(y_test, best_model.predict(X_test)))\n",
    "print(std_error)"
   ]
  },
  {
   "cell_type": "code",
   "execution_count": 59,
   "id": "847ede09",
   "metadata": {},
   "outputs": [
    {
     "name": "stdout",
     "output_type": "stream",
     "text": [
      "[1799.5874]\n"
     ]
    }
   ],
   "source": [
    "# Convert the dictionary to a numpy array\n",
    "X_pred = np.array([[data['Month'], data['Year'], data['Index'], data['flat_type_encoded'], data['town_ANG MO KIO'],0,0,0,0,0,0,0,0,0,0,0,0,0,0,0,0,0,0,0,0,0,0,0,0,0]])\n",
    "\n",
    "# Make the prediction\n",
    "prediction = loaded_model.predict(X_pred)\n",
    "\n",
    "print(prediction)"
   ]
  },
  {
   "cell_type": "code",
   "execution_count": 128,
   "id": "7532d31d",
   "metadata": {},
   "outputs": [
    {
     "data": {
      "text/html": [
       "<div>\n",
       "<style scoped>\n",
       "    .dataframe tbody tr th:only-of-type {\n",
       "        vertical-align: middle;\n",
       "    }\n",
       "\n",
       "    .dataframe tbody tr th {\n",
       "        vertical-align: top;\n",
       "    }\n",
       "\n",
       "    .dataframe thead th {\n",
       "        text-align: right;\n",
       "    }\n",
       "</style>\n",
       "<table border=\"1\" class=\"dataframe\">\n",
       "  <thead>\n",
       "    <tr style=\"text-align: right;\">\n",
       "      <th></th>\n",
       "      <th>Month</th>\n",
       "      <th>Year</th>\n",
       "      <th>Index</th>\n",
       "      <th>town</th>\n",
       "      <th>flat_type</th>\n",
       "      <th>monthly_rent</th>\n",
       "    </tr>\n",
       "  </thead>\n",
       "  <tbody>\n",
       "    <tr>\n",
       "      <th>0</th>\n",
       "      <td>12</td>\n",
       "      <td>2023</td>\n",
       "      <td>137.0</td>\n",
       "      <td>GEYLANG</td>\n",
       "      <td>4-ROOM</td>\n",
       "      <td>4200</td>\n",
       "    </tr>\n",
       "    <tr>\n",
       "      <th>1</th>\n",
       "      <td>12</td>\n",
       "      <td>2023</td>\n",
       "      <td>137.0</td>\n",
       "      <td>CLEMENTI</td>\n",
       "      <td>4-ROOM</td>\n",
       "      <td>4500</td>\n",
       "    </tr>\n",
       "    <tr>\n",
       "      <th>2</th>\n",
       "      <td>12</td>\n",
       "      <td>2023</td>\n",
       "      <td>137.0</td>\n",
       "      <td>BUKIT MERAH</td>\n",
       "      <td>4-ROOM</td>\n",
       "      <td>4200</td>\n",
       "    </tr>\n",
       "    <tr>\n",
       "      <th>3</th>\n",
       "      <td>12</td>\n",
       "      <td>2023</td>\n",
       "      <td>137.0</td>\n",
       "      <td>QUEENSTOWN</td>\n",
       "      <td>3-ROOM</td>\n",
       "      <td>3500</td>\n",
       "    </tr>\n",
       "    <tr>\n",
       "      <th>4</th>\n",
       "      <td>12</td>\n",
       "      <td>2023</td>\n",
       "      <td>137.0</td>\n",
       "      <td>KALLANG/WHAMPOA</td>\n",
       "      <td>4-ROOM</td>\n",
       "      <td>4550</td>\n",
       "    </tr>\n",
       "  </tbody>\n",
       "</table>\n",
       "</div>"
      ],
      "text/plain": [
       "   Month  Year  Index             town flat_type  monthly_rent\n",
       "0     12  2023  137.0          GEYLANG    4-ROOM          4200\n",
       "1     12  2023  137.0         CLEMENTI    4-ROOM          4500\n",
       "2     12  2023  137.0      BUKIT MERAH    4-ROOM          4200\n",
       "3     12  2023  137.0       QUEENSTOWN    3-ROOM          3500\n",
       "4     12  2023  137.0  KALLANG/WHAMPOA    4-ROOM          4550"
      ]
     },
     "execution_count": 128,
     "metadata": {},
     "output_type": "execute_result"
    }
   ],
   "source": [
    "rental.head()"
   ]
  },
  {
   "cell_type": "code",
   "execution_count": 141,
   "id": "e280167e",
   "metadata": {},
   "outputs": [],
   "source": [
    "\n",
    "import numpy as np\n",
    "from sklearn.linear_model import LinearRegression\n",
    "from sklearn.metrics import mean_squared_error\n",
    "from scipy.stats import norm\n",
    "\n",
    "\n",
    "def calculate_confidence_interval(prediction, std_error, alpha=0.95):\n",
    "    z_score = norm.ppf(1 - (1 - alpha) / 2)\n",
    "    margin_of_error = z_score * std_error\n",
    "    lower_bound = prediction - margin_of_error\n",
    "    upper_bound = prediction + margin_of_error\n",
    "    return lower_bound, upper_bound\n",
    "\n",
    "# Function to make prediction and calculate confidence interval\n",
    "def predict_with_interval(model, X_pred, alpha=0.95):\n",
    "    prediction = model.predict(X_pred)\n",
    "    y_pred = prediction[0]\n",
    "    std_error = np.sqrt(mean_squared_error(y, model.predict(X)))\n",
    "    lower_bound, upper_bound = calculate_confidence_interval(y_pred, std_error, alpha)\n",
    "    return y_pred, lower_bound, upper_bound"
   ]
  },
  {
   "cell_type": "code",
   "execution_count": 137,
   "id": "7a36f46b",
   "metadata": {},
   "outputs": [
    {
     "data": {
      "text/plain": [
       "array([[1.000e+00, 2.021e+03, 9.070e+01, 3.000e+00, 1.000e+00, 0.000e+00,\n",
       "        0.000e+00, 0.000e+00, 0.000e+00, 0.000e+00, 0.000e+00, 0.000e+00,\n",
       "        0.000e+00, 0.000e+00, 0.000e+00, 0.000e+00, 0.000e+00, 0.000e+00,\n",
       "        0.000e+00, 0.000e+00, 0.000e+00, 0.000e+00, 0.000e+00, 0.000e+00,\n",
       "        0.000e+00, 0.000e+00, 0.000e+00, 0.000e+00, 0.000e+00, 0.000e+00]])"
      ]
     },
     "execution_count": 137,
     "metadata": {},
     "output_type": "execute_result"
    }
   ],
   "source": [
    "X_pred.reshape(1,-1)"
   ]
  },
  {
   "cell_type": "code",
   "execution_count": 142,
   "id": "06286dfd",
   "metadata": {},
   "outputs": [],
   "source": [
    "X_pred = np.array([[data['Month'], data['Year'], data['Index'], data['flat_type_encoded'], 1,0,0,0,0,0,0,0,0,0,0,0,0,0,0,0,0,0,0,0,0,0,0,0,0,0]])\n",
    "\n",
    "prediction, lower_bound, upper_bound = predict_with_interval(loaded_model, X_pred)"
   ]
  },
  {
   "cell_type": "code",
   "execution_count": 143,
   "id": "d08ace3e",
   "metadata": {},
   "outputs": [
    {
     "name": "stdout",
     "output_type": "stream",
     "text": [
      "1799.5874 -253.71043003614795 3852.885234723648\n"
     ]
    }
   ],
   "source": [
    "print(prediction,lower_bound,upper_bound)"
   ]
  },
  {
   "cell_type": "code",
   "execution_count": null,
   "id": "bcf9271f",
   "metadata": {},
   "outputs": [],
   "source": [
    "rental_cp.shape"
   ]
  },
  {
   "cell_type": "code",
   "execution_count": null,
   "id": "995d5e5f",
   "metadata": {},
   "outputs": [],
   "source": [
    "rental['flat_type_encoded'] = rental['flat_type_encoded'].astype('int')"
   ]
  },
  {
   "cell_type": "code",
   "execution_count": null,
   "id": "d50ffc4e",
   "metadata": {},
   "outputs": [],
   "source": [
    "rental_cp['flat_type_encoded']= rental_cp['flat_type_encoded'].astype('int')"
   ]
  },
  {
   "cell_type": "code",
   "execution_count": null,
   "id": "4820c804",
   "metadata": {},
   "outputs": [],
   "source": [
    "y = rental_cp['monthly_rent']\n",
    "\n",
    "X = rental_cp.drop(columns=['monthly_rent'])\n",
    "\n",
    "X_train, X_test, y_train, y_test = train_test_split(X, y, test_size=0.2, random_state=42)"
   ]
  },
  {
   "cell_type": "code",
   "execution_count": null,
   "id": "afc29da2",
   "metadata": {},
   "outputs": [],
   "source": [
    "import xgboost as xgb\n",
    "from sklearn.model_selection import cross_val_score\n",
    "from sklearn.metrics import mean_squared_error\n",
    "import numpy as np\n",
    "\n",
    "# Define the number of runs\n",
    "num_runs = 10\n",
    "rmse_values = []\n",
    "\n",
    "model = xgb.XGBRegressor()\n",
    "\n",
    "scores = cross_val_score(model, X, y, cv=10, scoring='neg_mean_squared_error')\n",
    "\n",
    "rmse = np.sqrt(-scores).mean()\n",
    "\n",
    "rmse_values.append(rmse)\n",
    "\n",
    "average_rmse = np.mean(rmse_values)\n",
    "\n",
    "print(\"Overall Average Root Mean Squared Error with xgb:\", average_rmse)"
   ]
  },
  {
   "cell_type": "code",
   "execution_count": 81,
   "id": "ff545b86",
   "metadata": {},
   "outputs": [
    {
     "data": {
      "text/html": [
       "<div>\n",
       "<style scoped>\n",
       "    .dataframe tbody tr th:only-of-type {\n",
       "        vertical-align: middle;\n",
       "    }\n",
       "\n",
       "    .dataframe tbody tr th {\n",
       "        vertical-align: top;\n",
       "    }\n",
       "\n",
       "    .dataframe thead th {\n",
       "        text-align: right;\n",
       "    }\n",
       "</style>\n",
       "<table border=\"1\" class=\"dataframe\">\n",
       "  <thead>\n",
       "    <tr style=\"text-align: right;\">\n",
       "      <th></th>\n",
       "      <th>Year</th>\n",
       "      <th>Month</th>\n",
       "      <th>rent_approval_date</th>\n",
       "      <th>town</th>\n",
       "      <th>block</th>\n",
       "      <th>street_name</th>\n",
       "      <th>flat_type</th>\n",
       "      <th>monthly_rent</th>\n",
       "      <th>latitude</th>\n",
       "      <th>longitude</th>\n",
       "    </tr>\n",
       "  </thead>\n",
       "  <tbody>\n",
       "    <tr>\n",
       "      <th>0</th>\n",
       "      <td>2021</td>\n",
       "      <td>1</td>\n",
       "      <td>2021-01-01</td>\n",
       "      <td>ANG MO KIO</td>\n",
       "      <td>105</td>\n",
       "      <td>ANG MO KIO AVE 4</td>\n",
       "      <td>4-ROOM</td>\n",
       "      <td>2000</td>\n",
       "      <td>1.369208</td>\n",
       "      <td>103.850399</td>\n",
       "    </tr>\n",
       "    <tr>\n",
       "      <th>1</th>\n",
       "      <td>2021</td>\n",
       "      <td>1</td>\n",
       "      <td>2021-01-01</td>\n",
       "      <td>ANG MO KIO</td>\n",
       "      <td>107</td>\n",
       "      <td>ANG MO KIO AVE 4</td>\n",
       "      <td>3-ROOM</td>\n",
       "      <td>1750</td>\n",
       "      <td>1.369208</td>\n",
       "      <td>103.850399</td>\n",
       "    </tr>\n",
       "    <tr>\n",
       "      <th>2</th>\n",
       "      <td>2021</td>\n",
       "      <td>1</td>\n",
       "      <td>2021-01-01</td>\n",
       "      <td>ANG MO KIO</td>\n",
       "      <td>108</td>\n",
       "      <td>ANG MO KIO AVE 4</td>\n",
       "      <td>3-ROOM</td>\n",
       "      <td>1750</td>\n",
       "      <td>1.369208</td>\n",
       "      <td>103.850399</td>\n",
       "    </tr>\n",
       "    <tr>\n",
       "      <th>3</th>\n",
       "      <td>2021</td>\n",
       "      <td>1</td>\n",
       "      <td>2021-01-01</td>\n",
       "      <td>ANG MO KIO</td>\n",
       "      <td>111</td>\n",
       "      <td>ANG MO KIO AVE 4</td>\n",
       "      <td>5-ROOM</td>\n",
       "      <td>2230</td>\n",
       "      <td>1.369208</td>\n",
       "      <td>103.850399</td>\n",
       "    </tr>\n",
       "    <tr>\n",
       "      <th>4</th>\n",
       "      <td>2021</td>\n",
       "      <td>1</td>\n",
       "      <td>2021-01-01</td>\n",
       "      <td>ANG MO KIO</td>\n",
       "      <td>111</td>\n",
       "      <td>ANG MO KIO AVE 4</td>\n",
       "      <td>5-ROOM</td>\n",
       "      <td>2450</td>\n",
       "      <td>1.369208</td>\n",
       "      <td>103.850399</td>\n",
       "    </tr>\n",
       "  </tbody>\n",
       "</table>\n",
       "</div>"
      ],
      "text/plain": [
       "   Year  Month rent_approval_date        town block       street_name  \\\n",
       "0  2021      1         2021-01-01  ANG MO KIO   105  ANG MO KIO AVE 4   \n",
       "1  2021      1         2021-01-01  ANG MO KIO   107  ANG MO KIO AVE 4   \n",
       "2  2021      1         2021-01-01  ANG MO KIO   108  ANG MO KIO AVE 4   \n",
       "3  2021      1         2021-01-01  ANG MO KIO   111  ANG MO KIO AVE 4   \n",
       "4  2021      1         2021-01-01  ANG MO KIO   111  ANG MO KIO AVE 4   \n",
       "\n",
       "  flat_type  monthly_rent  latitude   longitude  \n",
       "0    4-ROOM          2000  1.369208  103.850399  \n",
       "1    3-ROOM          1750  1.369208  103.850399  \n",
       "2    3-ROOM          1750  1.369208  103.850399  \n",
       "3    5-ROOM          2230  1.369208  103.850399  \n",
       "4    5-ROOM          2450  1.369208  103.850399  "
      ]
     },
     "execution_count": 81,
     "metadata": {},
     "output_type": "execute_result"
    }
   ],
   "source": [
    "h1 = pd.read_csv(\"geocoded_data_rental.csv\")\n",
    "h1.head()"
   ]
  },
  {
   "cell_type": "code",
   "execution_count": 82,
   "id": "4989ede8",
   "metadata": {},
   "outputs": [],
   "source": [
    "#h1.drop(columns=['rent_approval_date','latitude','longitude'],inplace=True)\n",
    "\n",
    "spi_rental = pd.read_csv(\"rental_spi.csv\")\n",
    "h1 = pd.merge(spi_rental, h1, on=['Year', 'Month'])"
   ]
  },
  {
   "cell_type": "code",
   "execution_count": 83,
   "id": "1735330d",
   "metadata": {},
   "outputs": [],
   "source": [
    "h1.drop(columns=['street_name','block'],inplace=True)"
   ]
  },
  {
   "cell_type": "code",
   "execution_count": 84,
   "id": "eeb5e2f4",
   "metadata": {},
   "outputs": [
    {
     "data": {
      "text/html": [
       "<div>\n",
       "<style scoped>\n",
       "    .dataframe tbody tr th:only-of-type {\n",
       "        vertical-align: middle;\n",
       "    }\n",
       "\n",
       "    .dataframe tbody tr th {\n",
       "        vertical-align: top;\n",
       "    }\n",
       "\n",
       "    .dataframe thead th {\n",
       "        text-align: right;\n",
       "    }\n",
       "</style>\n",
       "<table border=\"1\" class=\"dataframe\">\n",
       "  <thead>\n",
       "    <tr style=\"text-align: right;\">\n",
       "      <th></th>\n",
       "      <th>Month</th>\n",
       "      <th>Year</th>\n",
       "      <th>Index</th>\n",
       "      <th>Q</th>\n",
       "      <th>rent_approval_date</th>\n",
       "      <th>town</th>\n",
       "      <th>flat_type</th>\n",
       "      <th>monthly_rent</th>\n",
       "      <th>latitude</th>\n",
       "      <th>longitude</th>\n",
       "    </tr>\n",
       "  </thead>\n",
       "  <tbody>\n",
       "    <tr>\n",
       "      <th>0</th>\n",
       "      <td>12</td>\n",
       "      <td>2023</td>\n",
       "      <td>137.0</td>\n",
       "      <td>1.0</td>\n",
       "      <td>2023-12-01</td>\n",
       "      <td>GEYLANG</td>\n",
       "      <td>4-ROOM</td>\n",
       "      <td>4200</td>\n",
       "      <td>1.318186</td>\n",
       "      <td>103.887056</td>\n",
       "    </tr>\n",
       "    <tr>\n",
       "      <th>1</th>\n",
       "      <td>12</td>\n",
       "      <td>2023</td>\n",
       "      <td>137.0</td>\n",
       "      <td>1.0</td>\n",
       "      <td>2023-12-01</td>\n",
       "      <td>CLEMENTI</td>\n",
       "      <td>4-ROOM</td>\n",
       "      <td>4500</td>\n",
       "      <td>1.316825</td>\n",
       "      <td>103.766040</td>\n",
       "    </tr>\n",
       "    <tr>\n",
       "      <th>2</th>\n",
       "      <td>12</td>\n",
       "      <td>2023</td>\n",
       "      <td>137.0</td>\n",
       "      <td>1.0</td>\n",
       "      <td>2023-12-01</td>\n",
       "      <td>BUKIT MERAH</td>\n",
       "      <td>4-ROOM</td>\n",
       "      <td>4200</td>\n",
       "      <td>1.283736</td>\n",
       "      <td>103.820100</td>\n",
       "    </tr>\n",
       "    <tr>\n",
       "      <th>3</th>\n",
       "      <td>12</td>\n",
       "      <td>2023</td>\n",
       "      <td>137.0</td>\n",
       "      <td>1.0</td>\n",
       "      <td>2023-12-01</td>\n",
       "      <td>QUEENSTOWN</td>\n",
       "      <td>3-ROOM</td>\n",
       "      <td>3500</td>\n",
       "      <td>1.294623</td>\n",
       "      <td>103.806037</td>\n",
       "    </tr>\n",
       "    <tr>\n",
       "      <th>4</th>\n",
       "      <td>12</td>\n",
       "      <td>2023</td>\n",
       "      <td>137.0</td>\n",
       "      <td>1.0</td>\n",
       "      <td>2023-12-01</td>\n",
       "      <td>KALLANG/WHAMPOA</td>\n",
       "      <td>4-ROOM</td>\n",
       "      <td>4550</td>\n",
       "      <td>1.331646</td>\n",
       "      <td>103.838905</td>\n",
       "    </tr>\n",
       "  </tbody>\n",
       "</table>\n",
       "</div>"
      ],
      "text/plain": [
       "   Month  Year  Index    Q rent_approval_date             town flat_type  \\\n",
       "0     12  2023  137.0  1.0         2023-12-01          GEYLANG    4-ROOM   \n",
       "1     12  2023  137.0  1.0         2023-12-01         CLEMENTI    4-ROOM   \n",
       "2     12  2023  137.0  1.0         2023-12-01      BUKIT MERAH    4-ROOM   \n",
       "3     12  2023  137.0  1.0         2023-12-01       QUEENSTOWN    3-ROOM   \n",
       "4     12  2023  137.0  1.0         2023-12-01  KALLANG/WHAMPOA    4-ROOM   \n",
       "\n",
       "   monthly_rent  latitude   longitude  \n",
       "0          4200  1.318186  103.887056  \n",
       "1          4500  1.316825  103.766040  \n",
       "2          4200  1.283736  103.820100  \n",
       "3          3500  1.294623  103.806037  \n",
       "4          4550  1.331646  103.838905  "
      ]
     },
     "execution_count": 84,
     "metadata": {},
     "output_type": "execute_result"
    }
   ],
   "source": [
    "h1.head()"
   ]
  },
  {
   "cell_type": "code",
   "execution_count": 95,
   "id": "1b59f969",
   "metadata": {},
   "outputs": [],
   "source": [
    "h1.drop(columns=['rent_approval_date','latitude','longitude'],inplace=True)"
   ]
  },
  {
   "cell_type": "code",
   "execution_count": 85,
   "id": "ed5f09b1",
   "metadata": {},
   "outputs": [],
   "source": [
    "h1.drop(columns=['Q'],inplace=True)"
   ]
  },
  {
   "cell_type": "code",
   "execution_count": 96,
   "id": "2313df3d",
   "metadata": {},
   "outputs": [],
   "source": [
    "#h1['town'] = h1['town'].astype('category')\n",
    "#h1['flat_type'] = h1['flat_type'].astype('category')\n",
    "#h1['block'] = h1['block'].astype('category')\n",
    "#h1['street_name'] = h1['street_name'].astype('category')\n",
    "\n",
    "y = h1['monthly_rent']\n",
    "\n",
    "X = h1.drop(columns=['monthly_rent'])\n",
    "\n",
    "X_train, X_test, y_train, y_test = train_test_split(X, y, test_size=0.2, random_state=42)\n",
    "\n",
    "h1['town'] = h1['town'].astype('category')\n",
    "h1['flat_type'] = h1['flat_type'].astype('category')\n",
    "\n",
    "feature_importance_scores = []\n",
    "model = xgb.XGBRegressor(enable_categorical=True)\n",
    "model.fit(X_train, y_train)\n",
    "\n",
    "\n",
    "importance_scores = model.feature_importances_\n",
    "\n",
    "\n",
    "sorted_indices = np.argsort(importance_scores)[::-1]\n",
    "\n",
    "\n",
    "sorted_importance_scores = importance_scores[sorted_indices]\n",
    "sorted_feature_names = X.columns[sorted_indices]\n",
    "\n",
    "\n",
    "feature_importance_scores.append(sorted_importance_scores)"
   ]
  },
  {
   "cell_type": "code",
   "execution_count": 102,
   "id": "6387cb47",
   "metadata": {},
   "outputs": [
    {
     "data": {
      "image/png": "[encoded data removed]",
      "text/plain": [
       "<Figure size 800x500 with 1 Axes>"
      ]
     },
     "metadata": {},
     "output_type": "display_data"
    }
   ],
   "source": [
    "sorted_importance_scores_reverse = sorted_importance_scores[::-1]\n",
    "sorted_feature_names_reverse = sorted_feature_names[::-1]\n",
    "\n",
    "plt.figure(figsize=(8, 5))\n",
    "plt.barh(range(len(sorted_importance_scores_reverse)), sorted_importance_scores_reverse, tick_label=sorted_feature_names_reverse)\n",
    "plt.xlabel('Feature Importance scores')\n",
    "plt.ylabel('Features')\n",
    "plt.title('Rental Feature Importance Scores')\n",
    "plt.show()"
   ]
  },
  {
   "cell_type": "code",
   "execution_count": null,
   "id": "ed3b3883",
   "metadata": {},
   "outputs": [],
   "source": [
    "h1.head()"
   ]
  },
  {
   "cell_type": "code",
   "execution_count": null,
   "id": "38935d4c",
   "metadata": {},
   "outputs": [],
   "source": [
    "h1['flat_type'].unique()"
   ]
  },
  {
   "cell_type": "code",
   "execution_count": null,
   "id": "26ac9a91",
   "metadata": {},
   "outputs": [],
   "source": [
    "h2=h1\n",
    "\n",
    "\n",
    "flat_type_mapping = {\n",
    "    '1-ROOM': 1,\n",
    "    '2-ROOM': 2,\n",
    "    '3-ROOM': 3,\n",
    "    '4-ROOM': 4,\n",
    "    '5-ROOM': 5,\n",
    "    'EXECUTIVE': 6\n",
    "}\n",
    "\n",
    "\n",
    "h2['flat_type_encoded'] = h2['flat_type'].map(flat_type_mapping)\n",
    "\n",
    "town_encoded = pd.get_dummies(h2['town'], prefix='town')\n",
    "\n",
    "h2 = pd.concat([h2, town_encoded], axis=1)"
   ]
  },
  {
   "cell_type": "code",
   "execution_count": null,
   "id": "30181f38",
   "metadata": {},
   "outputs": [],
   "source": [
    "h2.drop(columns=['town','flat_type'],inplace=True)"
   ]
  },
  {
   "cell_type": "code",
   "execution_count": null,
   "id": "aa473a10",
   "metadata": {},
   "outputs": [],
   "source": [
    "h2.head()"
   ]
  },
  {
   "cell_type": "code",
   "execution_count": null,
   "id": "caa45637",
   "metadata": {},
   "outputs": [],
   "source": [
    "y = h2['monthly_rent']\n",
    "\n",
    "X = h2.drop(columns=['monthly_rent'])\n",
    "\n",
    "X_train, X_test, y_train, y_test = train_test_split(X, y, test_size=0.2, random_state=42)"
   ]
  },
  {
   "cell_type": "code",
   "execution_count": null,
   "id": "ce811791",
   "metadata": {},
   "outputs": [],
   "source": [
    "from sklearn.model_selection import cross_val_score, KFold\n",
    "from sklearn.metrics import mean_squared_error\n",
    "\n",
    "# Define XGBoost model with desired hyperparameters\n",
    "model = RandomForestRegressor()\n",
    "\n",
    "# Perform cross-validation\n",
    "kf = KFold(n_splits=5, shuffle=True, random_state=42)  # Define number of folds\n",
    "cross_val_scores = []\n",
    "for train_index, val_index in kf.split(X_train):\n",
    "    X_train_fold, X_val_fold = X_train.iloc[train_index], X_train.iloc[val_index]\n",
    "    y_train_fold, y_val_fold = y_train.iloc[train_index], y_train.iloc[val_index]\n",
    "    \n",
    "    model.fit(X_train_fold, y_train_fold)\n",
    "    y_pred_val = model.predict(X_val_fold)\n",
    "    rmse = np.sqrt(mean_squared_error(y_val_fold, y_pred_val))\n",
    "    cross_val_scores.append(rmse)\n",
    "\n",
    "# Pick the fold with the best score\n",
    "best_fold_idx = np.argmin(cross_val_scores)\n",
    "print(\"Best Fold Index:\", best_fold_idx)\n",
    "best_fold_score = cross_val_scores[best_fold_idx]\n",
    "print(\"Best Fold RMSE:\", best_fold_score)\n",
    "\n",
    "# Retrain the model using the entire training dataset\n",
    "model.fit(X_train, y_train)\n",
    "\n",
    "# Make predictions on the test dataset\n",
    "y_pred_test = model.predict(X_test)\n",
    "test_rmse = np.sqrt(mean_squared_error(y_test, y_pred_test))\n",
    "print(\"Test RMSE:\", test_rmse)"
   ]
  },
  {
   "cell_type": "code",
   "execution_count": null,
   "id": "20f8ffbb",
   "metadata": {},
   "outputs": [],
   "source": [
    "###Wiht encoding the features\n",
    "\n",
    "from sklearn.model_selection import cross_val_score, KFold\n",
    "from sklearn.metrics import mean_squared_error\n",
    "\n",
    "# Define XGBoost model with desired hyperparameters\n",
    "model = xgb.XGBRegressor(enable_categorical=True)\n",
    "\n",
    "# Perform cross-validation\n",
    "kf = KFold(n_splits=10, shuffle=True, random_state=42)  # Define number of folds\n",
    "cross_val_scores = []\n",
    "for train_index, val_index in kf.split(X_train):\n",
    "    X_train_fold, X_val_fold = X_train.iloc[train_index], X_train.iloc[val_index]\n",
    "    y_train_fold, y_val_fold = y_train.iloc[train_index], y_train.iloc[val_index]\n",
    "    \n",
    "    model.fit(X_train_fold, y_train_fold)\n",
    "    y_pred_val = model.predict(X_val_fold)\n",
    "    rmse = np.sqrt(mean_squared_error(y_val_fold, y_pred_val))\n",
    "    cross_val_scores.append(rmse)\n",
    "\n",
    "# Pick the fold with the best score\n",
    "best_fold_idx = np.argmin(cross_val_scores)\n",
    "print(\"Best Fold Index:\", best_fold_idx)\n",
    "best_fold_score = cross_val_scores[best_fold_idx]\n",
    "print(\"Best Fold RMSE:\", best_fold_score)\n",
    "\n",
    "# Retrain the model using the entire training dataset\n",
    "model.fit(X_train, y_train)\n",
    "\n",
    "# Make predictions on the test dataset\n",
    "y_pred_test = model.predict(X_test)\n",
    "test_rmse = np.sqrt(mean_squared_error(y_test, y_pred_test))\n",
    "print(\"Test RMSE:\", test_rmse)"
   ]
  },
  {
   "cell_type": "code",
   "execution_count": null,
   "id": "377ee9fa",
   "metadata": {
    "scrolled": false
   },
   "outputs": [],
   "source": [
    "&&\n",
    "from sklearn.model_selection import GridSearchCV\n",
    "\n",
    "# Define XGBoost model\n",
    "model = xgb.XGBRegressor(enable_categorical=True)\n",
    "\n",
    "# Define parameter grid\n",
    "param_grid = {\n",
    "    'learning_rate': [0.1, 0.01, 0.001],\n",
    "    'max_depth': [3, 5, 7],\n",
    "    'n_estimators': [100, 200, 300],\n",
    "}\n",
    "\n",
    "\n",
    "# Perform grid search with cross-validation\n",
    "grid_search = GridSearchCV(model, param_grid, cv=5, scoring='neg_mean_squared_error')\n",
    "grid_search.fit(X_train, y_train)\n",
    "\n",
    "# Get the best hyperparameters\n",
    "best_params = grid_search.best_params_\n",
    "print(\"Best Hyperparameters:\", best_params)\n",
    "\n",
    "# Retrain the model using the best hyperparameters\n",
    "best_model = xgb.XGBRegressor(**best_params, enable_categorical=True)\n",
    "best_model.fit(X_train, y_train)\n",
    "\n",
    "# Make predictions on the test dataset\n",
    "y_pred_test = best_model.predict(X_test)\n",
    "test_rmse = np.sqrt(mean_squared_error(y_test, y_pred_test))\n",
    "print(\"Test RMSE with Best Model:\", test_rmse)\n"
   ]
  },
  {
   "cell_type": "code",
   "execution_count": null,
   "id": "ebdf6848",
   "metadata": {},
   "outputs": [],
   "source": [
    "import numpy as np\n",
    "from scipy.stats import uniform, randint\n",
    "from sklearn.model_selection import RandomizedSearchCV\n",
    "import xgboost as xgb\n",
    "\n",
    "# Define the parameter grid\n",
    "param_grid = {\n",
    "    'learning_rate': uniform(0.01, 0.1),  # Uniform distribution between 0.01 and 0.1\n",
    "    'max_depth': randint(3, 10),           # Discrete uniform distribution between 3 and 10\n",
    "    'n_estimators': randint(50, 200),      # Discrete uniform distribution between 50 and 200\n",
    "    'subsample': uniform(0.6, 0.4),        # Uniform distribution between 0.6 and 1.0\n",
    "    'colsample_bytree': uniform(0.6, 0.4), # Uniform distribution between 0.6 and 1.0\n",
    "}\n",
    "\n",
    "# Initialize XGBoost regressor\n",
    "model = xgb.XGBRegressor(enable_categorical=True)\n",
    "\n",
    "# Initialize RandomizedSearchCV\n",
    "random_search = RandomizedSearchCV(\n",
    "    estimator=model,\n",
    "    param_distributions=param_grid,\n",
    "    n_iter=100,          # Number of parameter settings that are sampled\n",
    "    scoring='neg_mean_squared_error',  # Use negative mean squared error as the scoring metric\n",
    "    cv=5,               # 5-fold cross-validation\n",
    "    verbose=1,\n",
    "    random_state=42,    # Set random state for reproducibility\n",
    "    n_jobs=-1           # Use all available CPU cores\n",
    ")\n",
    "\n",
    "# Fit RandomizedSearchCV to the data\n",
    "random_search.fit(X_train, y_train)\n",
    "\n",
    "# Print the best hyperparameters found\n",
    "print(\"Best Hyperparameters:\", random_search.best_params_)\n",
    "\n",
    "# Get the best model\n",
    "best_model = random_search.best_estimator_\n",
    "\n",
    "# Evaluate the best model on the test data\n",
    "test_rmse = np.sqrt(-random_search.best_score_)\n",
    "print(\"Test RMSE:\", test_rmse)\n"
   ]
  },
  {
   "cell_type": "code",
   "execution_count": null,
   "id": "55f97e67",
   "metadata": {},
   "outputs": [],
   "source": [
    "import xgboost as xgb\n",
    "from sklearn.model_selection import KFold\n",
    "from sklearn.metrics import mean_squared_error\n",
    "import pandas as pd\n",
    "import numpy as np\n",
    "from hyperopt import fmin, tpe, hp, STATUS_OK, Trials,rand\n",
    "\n",
    "best_rmse = float(\"inf\")\n",
    "best_model = None\n",
    "\n",
    "def objective(params):\n",
    "    # Define the number of folds for cross-validation\n",
    "    num_folds = 10\n",
    "    kf = KFold(n_splits=num_folds, shuffle=True, random_state=42)\n",
    "    rmse_values = []\n",
    "    \n",
    "    # Iterate through each fold\n",
    "    for train_index, test_index in kf.split(X.values, y.values):  # Convert DataFrame to NumPy array\n",
    "        X_train, X_test = X.values[train_index], X.values[test_index]  # Convert DataFrame to NumPy array\n",
    "        y_train, y_test = y.values[train_index], y.values[test_index]\n",
    "        \n",
    "        model = xgb.XGBRegressor(\n",
    "            n_estimators=int(\n",
    "                params['n_estimators']),\n",
    "            learning_rate=params['learning_rate'],\n",
    "            max_depth=int(params['max_depth']),\n",
    "            min_child_weight=params['min_child_weight'],\n",
    "            subsample=params['subsample'],\n",
    "            reg_lambda=params['reg_lambda'],\n",
    "            reg_alpha=params['reg_alpha'],\n",
    "            objective='reg:gamma'\n",
    "        ).fit(X_train, y_train)\n",
    "        \n",
    "        y_pred_test = model.predict(X_test)\n",
    "        rmse_fold = np.sqrt(mean_squared_error(y_test, y_pred_test))\n",
    "        print(rmse_fold)\n",
    "        rmse_values.append(rmse_fold)\n",
    "    # Calculate the mean RMSE over all folds\n",
    "    mean_rmse = np.mean(rmse_values)\n",
    "\n",
    "    global best_model\n",
    "    if best_model is None or mean_rmse < best_model['rmse']:\n",
    "        best_model = {\n",
    "            'model': model,  # Store the model itself\n",
    "            'rmse': mean_rmse\n",
    "        }\n",
    "    \n",
    "    return {'loss': best_model['rmse'], 'status': STATUS_OK}\n",
    "\n",
    "space = {\n",
    "    'n_estimators': hp.quniform('n_estimators', 100, 1500, 1),\n",
    "    'learning_rate': hp.loguniform('learning_rate', -3, 0),\n",
    "    'max_depth': hp.quniform('max_depth', 1, 10, 1),\n",
    "    'min_child_weight': hp.uniform('min_child_weight', 0, 10),\n",
    "    'subsample': hp.uniform('subsample', 0.1, 1),\n",
    "    'reg_lambda': hp.loguniform('reg_lambda', -3, 3),\n",
    "    'reg_alpha': hp.loguniform('reg_alpha', -3, 3),\n",
    "}\n",
    "\n",
    "# Create a trials object to keep track of the optimization process\n",
    "trials = Trials()\n",
    "\n",
    "# Run the hyperparameter optimization using the TPE algorithm\n",
    "best = fmin(fn=objective, space=space, algo=tpe.suggest, max_evals=200, trials=trials)\n",
    "best_model = best_model['model']\n",
    "# Print the best hyperparameters found by Hyperopt\n",
    "print(\"Best Hyperparameters:\")\n",
    "print(best)"
   ]
  },
  {
   "cell_type": "code",
   "execution_count": null,
   "id": "751c5baa",
   "metadata": {},
   "outputs": [],
   "source": [
    "f = open(\"rmse_values.txt\", \"a\")\n",
    "f.write(rmse_values)\n",
    "f.close()"
   ]
  },
  {
   "cell_type": "code",
   "execution_count": null,
   "id": "e757049f",
   "metadata": {},
   "outputs": [],
   "source": [
    "import pickle\n",
    "\n",
    "pickle.dump(best_model, open(\"rental.pickle.dat\", \"wb\"))"
   ]
  },
  {
   "cell_type": "code",
   "execution_count": null,
   "id": "dc40582d",
   "metadata": {},
   "outputs": [],
   "source": [
    "loaded_model = pickle.load(open(\"pima.pickle.dat\", \"rb\"))"
   ]
  },
  {
   "cell_type": "code",
   "execution_count": null,
   "id": "67326086",
   "metadata": {},
   "outputs": [],
   "source": [
    "from sklearn.neighbors import KNeighborsRegressor\n",
    "from sklearn.metrics import mean_squared_error\n",
    "\n",
    "# 1. Data Preprocessing (assuming X_train, X_test, y_train, y_test are available)\n",
    "\n",
    "# 2. Choose Distance Metric (default is Euclidean distance)\n",
    "\n",
    "# 3. Choose K\n",
    "k = 20  # Example value of k\n",
    "\n",
    "# 4. Fit the Model\n",
    "model = KNeighborsRegressor(n_neighbors=k)\n",
    "model.fit(X_train, y_train)\n",
    "\n",
    "# 5. Make Predictions\n",
    "y_pred = model.predict(X_test)\n",
    "\n",
    "# 6. Evaluate Performance\n",
    "mse = mean_squared_error(y_test, y_pred)\n",
    "print(\"Mean Squared Error:\", np.sqrt(mse))\n"
   ]
  },
  {
   "cell_type": "code",
   "execution_count": null,
   "id": "ea715a61",
   "metadata": {},
   "outputs": [],
   "source": [
    "import numpy as np\n",
    "import matplotlib.pyplot as plt\n",
    "from sklearn.neighbors import KNeighborsRegressor\n",
    "from sklearn.metrics import mean_squared_error\n",
    "\n",
    "k_values = range(1, 21)\n",
    "\n",
    "# Calculate mean squared error for each k\n",
    "mse_values = []\n",
    "for k in k_values:\n",
    "    knn = KNeighborsRegressor(n_neighbors=k)\n",
    "    knn.fit(X_train, y_train)\n",
    "    y_pred = knn.predict(X_test)\n",
    "    mse = mean_squared_error(y_test, y_pred)\n",
    "    mse_values.append(mse)\n",
    "\n",
    "# Plot the MSE values against k\n",
    "plt.plot(k_values, mse_values, marker='o')\n",
    "plt.title('Elbow Method for Optimal k')\n",
    "plt.xlabel('k')\n",
    "plt.ylabel('Mean Squared Error')\n",
    "plt.xticks(k_values)\n",
    "plt.grid(True)\n",
    "plt.show()\n",
    "\n"
   ]
  },
  {
   "cell_type": "code",
   "execution_count": null,
   "id": "7411f906",
   "metadata": {},
   "outputs": [],
   "source": [
    "###Wihtout encoding the features\n",
    "\n",
    "from sklearn.model_selection import cross_val_score, KFold\n",
    "from sklearn.metrics import mean_squared_error\n",
    "\n",
    "# Define XGBoost model with desired hyperparameters\n",
    "model = xgb.XGBRegressor(enable_categorical=True)\n",
    "\n",
    "# Perform cross-validation\n",
    "kf = KFold(n_splits=10, shuffle=True, random_state=42)  # Define number of folds\n",
    "cross_val_scores = []\n",
    "for train_index, val_index in kf.split(X_train):\n",
    "    X_train_fold, X_val_fold = X_train.iloc[train_index], X_train.iloc[val_index]\n",
    "    y_train_fold, y_val_fold = y_train.iloc[train_index], y_train.iloc[val_index]\n",
    "    \n",
    "    model.fit(X_train_fold, y_train_fold)\n",
    "    y_pred_val = model.predict(X_val_fold)\n",
    "    rmse = np.sqrt(mean_squared_error(y_val_fold, y_pred_val))\n",
    "    cross_val_scores.append(rmse)\n",
    "\n",
    "# Pick the fold with the best score\n",
    "best_fold_idx = np.argmin(cross_val_scores)\n",
    "print(\"Best Fold Index:\", best_fold_idx)\n",
    "best_fold_score = cross_val_scores[best_fold_idx]\n",
    "print(\"Best Fold RMSE:\", best_fold_score)\n",
    "\n",
    "# Retrain the model using the entire training dataset\n",
    "model.fit(X_train, y_train)\n",
    "\n",
    "# Make predictions on the test dataset\n",
    "y_pred_test = model.predict(X_test)\n",
    "test_rmse = np.sqrt(mean_squared_error(y_test, y_pred_test))\n",
    "print(\"Test RMSE:\", test_rmse)\n"
   ]
  },
  {
   "cell_type": "code",
   "execution_count": null,
   "id": "1e90374d",
   "metadata": {},
   "outputs": [],
   "source": [
    "sorted_importance_scores_reverse = sorted_importance_scores[::-1]\n",
    "sorted_feature_names_reverse = sorted_feature_names[::-1]\n",
    "\n",
    "plt.figure(figsize=(10, 6))\n",
    "plt.barh(range(len(sorted_importance_scores_reverse)), sorted_importance_scores_reverse, tick_label=sorted_feature_names_reverse)\n",
    "plt.xlabel('Rental Feature Importance plot')\n",
    "plt.ylabel('Features')\n",
    "plt.title('Feature Importance Scores')\n",
    "plt.show()"
   ]
  },
  {
   "cell_type": "code",
   "execution_count": null,
   "id": "e1cfa621",
   "metadata": {},
   "outputs": [],
   "source": [
    "y_pred = model.predict(X_test)\n",
    "\n",
    "rmse = mean_squared_error(y_test, y_pred, squared=False)\n",
    "\n",
    "print(\"Root Mean Squared Error:\", rmse)"
   ]
  },
  {
   "cell_type": "code",
   "execution_count": null,
   "id": "dd999bd0",
   "metadata": {},
   "outputs": [],
   "source": [
    "importances = tree_clf.feature_importances_\n",
    "\n",
    "indices = np.argsort(importances)[::-1]\n",
    "\n",
    "sorted_feature_names = [mycols[i] for i in indices]\n",
    "\n",
    "\n",
    "plt.figure(figsize=(10, 6))\n",
    "plt.bar(range(X_train.shape[1]), importances[indices], align=\"center\")\n",
    "plt.xticks(range(X_train.shape[1]), sorted_feature_names, rotation=45, ha='right')\n",
    "plt.xlabel(\"Feature\")\n",
    "plt.ylabel(\"Importance\")\n",
    "plt.title(\"Feature Importances\")\n",
    "plt.tight_layout()\n",
    "plt.show()"
   ]
  },
  {
   "cell_type": "code",
   "execution_count": null,
   "id": "79b7b933",
   "metadata": {},
   "outputs": [],
   "source": [
    "import xgboost as xgb\n",
    "from sklearn.model_selection import GridSearchCV\n",
    "\n",
    "# Define the parameter grid\n",
    "param_grid = {\n",
    "    'n_estimators': [100, 500, 1000],  # Number of boosting rounds\n",
    "    'learning_rate': [0.01, 0.1, 0.3],  # Learning rate\n",
    "    'max_depth': [3, 5, 7],             # Maximum tree depth\n",
    "    'min_child_weight': [1, 3, 5],      # Minimum sum of instance weight needed in a child\n",
    "    'subsample': [0.8, 0.9, 1.0],       # Subsample ratio of the training instances\n",
    "    'reg_lambda': [0.1, 1.0, 10.0],     # L2 regularization term on weights\n",
    "    'reg_alpha': [0.1, 0.5, 1.0]         # L1 regularization term on weights\n",
    "}\n",
    "\n",
    "# Create an XGBoost regressor\n",
    "xgb_regressor = xgb.XGBRegressor(objective='reg:squarederror')  # Use 'reg:squarederror' for regression task\n",
    "\n",
    "# Instantiate GridSearchCV\n",
    "grid_search = GridSearchCV(estimator=xgb_regressor, param_grid=param_grid, cv=10, scoring='neg_mean_squared_error', verbose=1)\n",
    "\n",
    "# Fit the grid search to the data\n",
    "grid_search.fit(X_train, y_train)\n",
    "\n",
    "# Get the best parameters and best score\n",
    "best_params = grid_search.best_params_\n",
    "best_score = grid_search.best_score_\n",
    "\n",
    "best_model = grid_search.best_estimator_\n",
    "\n",
    "y_pred = best_model.predict(X_test)\n",
    "\n",
    "rmse = mean_squared_error(y_test, y_pred, squared=False)\n",
    "print(\"Root Mean Squared Error:\", rmse)\n",
    "\n",
    "#print(\"Best Parameters:\", best_params)\n",
    "#print(\"Best Score (negative mean squared error):\", best_score)\n"
   ]
  },
  {
   "cell_type": "code",
   "execution_count": null,
   "id": "3b78bed3",
   "metadata": {},
   "outputs": [],
   "source": [
    "import xgboost as xgb\n",
    "from sklearn.model_selection import KFold\n",
    "from sklearn.metrics import mean_squared_error\n",
    "from hyperopt import hp, fmin, tpe, Trials, STATUS_OK, rand\n",
    "import numpy as np\n",
    "\n",
    "# Define search space for hyperparameters\n",
    "space = {\n",
    "    'n_estimators': hp.quniform('n_estimators', 100, 1500, 1),\n",
    "    'learning_rate': hp.loguniform('learning_rate', -3, 0),\n",
    "    'max_depth': hp.quniform('max_depth', 1, 10, 1),\n",
    "    'min_child_weight': hp.uniform('min_child_weight', 0, 10),\n",
    "    'subsample': hp.uniform('subsample', 0.1, 1),\n",
    "    'reg_lambda': hp.loguniform('reg_lambda', -3, 3),\n",
    "    'reg_alpha': hp.loguniform('reg_alpha', -3, 3),\n",
    "}\n",
    "\n",
    "# Define categorical features\n",
    "categorical_features = ['town', 'flat_type']\n",
    "\n",
    "def objective(params):\n",
    "    # Initialize params dictionary\n",
    "    params = {\n",
    "        'objective': 'reg:squarederror',  # Set the objective function\n",
    "        'eval_metric': 'rmse',            # Set the evaluation metric\n",
    "        'n_estimators': int(params['n_estimators']),  # Number of boosting rounds\n",
    "        'learning_rate': params['learning_rate'],     # Learning rate\n",
    "        'max_depth': int(params['max_depth']),        # Maximum tree depth\n",
    "        'min_child_weight': params['min_child_weight'],   # Minimum sum of instance weight needed in a child\n",
    "        'subsample': params['subsample'],                # Subsample ratio of the training instances\n",
    "        'reg_lambda': params['reg_lambda'],              # L2 regularization term on weights\n",
    "        'reg_alpha': params['reg_alpha'],                # L1 regularization term on weights\n",
    "    }\n",
    "    \n",
    "    # Perform stratified k-fold cross-validation\n",
    "    skf = KFold(n_splits=5, shuffle=True, random_state=42)\n",
    "    rmse_scores = []\n",
    "    for train_index, test_index in skf.split(X, y):\n",
    "        X_train, X_test = X.iloc[train_index], X.iloc[test_index]\n",
    "        y_train, y_test = y.iloc[train_index], y.iloc[test_index]\n",
    "\n",
    "        # Convert categorical columns to category dtype\n",
    "        for col in categorical_features:\n",
    "            X_train[col] = X_train[col].astype('category')\n",
    "            X_test[col] = X_test[col].astype('category')\n",
    "\n",
    "        # Create DMatrix\n",
    "        dtrain = xgb.DMatrix(X_train, label=y_train, feature_names=X_train.columns.tolist(), enable_categorical=True)\n",
    "        dtest = xgb.DMatrix(X_test, label=y_test, feature_names=X_test.columns.tolist(), enable_categorical=True)\n",
    "        \n",
    "        # Train XGBoost model\n",
    "        model = xgb.train(params, dtrain, num_boost_round=params['n_estimators'], evals=[(dtest, 'test')],\n",
    "                          early_stopping_rounds=10)\n",
    "    \n",
    "\n",
    "        # Make predictions\n",
    "        y_pred = model.predict(dtest)\n",
    "\n",
    "        # Calculate RMSE\n",
    "        rmse = mean_squared_error(y_test, y_pred, squared=False)\n",
    "        rmse_scores.append(rmse)\n",
    "    \n",
    "    mean_rmse = np.mean(rmse_scores)\n",
    "\n",
    "    global best_model\n",
    "    if best_model is None or mean_rmse < best_model['rmse']:\n",
    "        best_model = {\n",
    "            'model': model,  # Store the model itself\n",
    "            'rmse': mean_rmse\n",
    "        }\n",
    "    \n",
    "    return {'loss': mean_rmse, 'status': STATUS_OK}\n",
    "\n",
    "# Initialize best_model\n",
    "best_model = None\n",
    "\n",
    "# Use TPE algorithm to find the best hyperparameters\n",
    "trials = Trials()\n",
    "best = fmin(objective, space, algo=tpe.suggest, max_evals=10, trials=trials)\n",
    "\n",
    "# Retrieve the best model\n",
    "best_model = best_model['model']\n",
    "\n",
    "# Print the best hyperparameters\n",
    "print(\"Best Hyperparameters:\", best)\n"
   ]
  },
  {
   "cell_type": "code",
   "execution_count": null,
   "id": "7e66ccf5",
   "metadata": {},
   "outputs": [],
   "source": [
    "rental.head()"
   ]
  },
  {
   "cell_type": "code",
   "execution_count": 167,
   "id": "7c3586e9",
   "metadata": {},
   "outputs": [
    {
     "data": {
      "text/html": [
       "<div>\n",
       "<style scoped>\n",
       "    .dataframe tbody tr th:only-of-type {\n",
       "        vertical-align: middle;\n",
       "    }\n",
       "\n",
       "    .dataframe tbody tr th {\n",
       "        vertical-align: top;\n",
       "    }\n",
       "\n",
       "    .dataframe thead th {\n",
       "        text-align: right;\n",
       "    }\n",
       "</style>\n",
       "<table border=\"1\" class=\"dataframe\">\n",
       "  <thead>\n",
       "    <tr style=\"text-align: right;\">\n",
       "      <th></th>\n",
       "      <th>Month</th>\n",
       "      <th>Year</th>\n",
       "      <th>Index</th>\n",
       "      <th>Q</th>\n",
       "    </tr>\n",
       "  </thead>\n",
       "  <tbody>\n",
       "    <tr>\n",
       "      <th>0</th>\n",
       "      <td>1</td>\n",
       "      <td>2019</td>\n",
       "      <td>86.8</td>\n",
       "      <td>0.3</td>\n",
       "    </tr>\n",
       "    <tr>\n",
       "      <th>1</th>\n",
       "      <td>2</td>\n",
       "      <td>2019</td>\n",
       "      <td>86.6</td>\n",
       "      <td>0.6</td>\n",
       "    </tr>\n",
       "    <tr>\n",
       "      <th>2</th>\n",
       "      <td>3</td>\n",
       "      <td>2019</td>\n",
       "      <td>86.1</td>\n",
       "      <td>-0.7</td>\n",
       "    </tr>\n",
       "    <tr>\n",
       "      <th>3</th>\n",
       "      <td>4</td>\n",
       "      <td>2019</td>\n",
       "      <td>86.7</td>\n",
       "      <td>0.2</td>\n",
       "    </tr>\n",
       "    <tr>\n",
       "      <th>4</th>\n",
       "      <td>5</td>\n",
       "      <td>2019</td>\n",
       "      <td>86.5</td>\n",
       "      <td>-0.2</td>\n",
       "    </tr>\n",
       "  </tbody>\n",
       "</table>\n",
       "</div>"
      ],
      "text/plain": [
       "   Month  Year  Index    Q\n",
       "0      1  2019   86.8  0.3\n",
       "1      2  2019   86.6  0.6\n",
       "2      3  2019   86.1 -0.7\n",
       "3      4  2019   86.7  0.2\n",
       "4      5  2019   86.5 -0.2"
      ]
     },
     "execution_count": 167,
     "metadata": {},
     "output_type": "execute_result"
    }
   ],
   "source": [
    "spi = pd.read_csv(\"rental_index.csv\")\n",
    "spi.head()"
   ]
  },
  {
   "cell_type": "code",
   "execution_count": 168,
   "id": "8cacf04c",
   "metadata": {},
   "outputs": [],
   "source": [
    "y = spi['Index']\n",
    "\n",
    "X = spi.drop(columns=['Index','Q'])"
   ]
  },
  {
   "cell_type": "code",
   "execution_count": 169,
   "id": "c0237b01",
   "metadata": {},
   "outputs": [],
   "source": [
    "X_train,X_test,y_train,y_test = train_test_split(X,y,test_size=0.2,random_state=42)"
   ]
  },
  {
   "cell_type": "code",
   "execution_count": 211,
   "id": "0ac9262a",
   "metadata": {},
   "outputs": [
    {
     "name": "stdout",
     "output_type": "stream",
     "text": [
      "1.3904773882764148\n"
     ]
    }
   ],
   "source": [
    "from sklearn.svm import SVC\n",
    "\n",
    "svc = xgb.XGBRegressor()\n",
    "svc.fit(X_train,y_train)\n",
    "y_pred = svc.predict(X_test)\n",
    "print(np.sqrt(mean_squared_error(y_test,y_pred)))"
   ]
  },
  {
   "cell_type": "code",
   "execution_count": 212,
   "id": "5a328286",
   "metadata": {},
   "outputs": [
    {
     "data": {
      "text/html": [
       "<div>\n",
       "<style scoped>\n",
       "    .dataframe tbody tr th:only-of-type {\n",
       "        vertical-align: middle;\n",
       "    }\n",
       "\n",
       "    .dataframe tbody tr th {\n",
       "        vertical-align: top;\n",
       "    }\n",
       "\n",
       "    .dataframe thead th {\n",
       "        text-align: right;\n",
       "    }\n",
       "</style>\n",
       "<table border=\"1\" class=\"dataframe\">\n",
       "  <thead>\n",
       "    <tr style=\"text-align: right;\">\n",
       "      <th></th>\n",
       "      <th>Month</th>\n",
       "      <th>Year</th>\n",
       "    </tr>\n",
       "  </thead>\n",
       "  <tbody>\n",
       "    <tr>\n",
       "      <th>0</th>\n",
       "      <td>1</td>\n",
       "      <td>2019</td>\n",
       "    </tr>\n",
       "    <tr>\n",
       "      <th>1</th>\n",
       "      <td>2</td>\n",
       "      <td>2019</td>\n",
       "    </tr>\n",
       "    <tr>\n",
       "      <th>2</th>\n",
       "      <td>3</td>\n",
       "      <td>2019</td>\n",
       "    </tr>\n",
       "    <tr>\n",
       "      <th>3</th>\n",
       "      <td>4</td>\n",
       "      <td>2019</td>\n",
       "    </tr>\n",
       "    <tr>\n",
       "      <th>4</th>\n",
       "      <td>5</td>\n",
       "      <td>2019</td>\n",
       "    </tr>\n",
       "  </tbody>\n",
       "</table>\n",
       "</div>"
      ],
      "text/plain": [
       "   Month  Year\n",
       "0      1  2019\n",
       "1      2  2019\n",
       "2      3  2019\n",
       "3      4  2019\n",
       "4      5  2019"
      ]
     },
     "execution_count": 212,
     "metadata": {},
     "output_type": "execute_result"
    }
   ],
   "source": [
    "X.head()"
   ]
  },
  {
   "cell_type": "code",
   "execution_count": 230,
   "id": "81780be9",
   "metadata": {},
   "outputs": [
    {
     "name": "stdout",
     "output_type": "stream",
     "text": [
      "135.41576\n",
      "135.4204\n",
      "134.82086\n",
      "134.82599\n",
      "132.02582\n",
      "130.33408\n",
      "127.05162\n",
      "127.04671\n",
      "127.049835\n",
      "127.05638\n"
     ]
    }
   ],
   "source": [
    "pred = []\n",
    "for i in range(3,13):\n",
    "    X_pred = np.array([[i,2024]])\n",
    "    X_pred.reshape(1,-1)\n",
    "    print(svc.predict(X_pred)[0])\n",
    "    "
   ]
  },
  {
   "cell_type": "code",
   "execution_count": 228,
   "id": "7412d062",
   "metadata": {},
   "outputs": [
    {
     "data": {
      "text/plain": [
       "[array([135.41576], dtype=float32),\n",
       " array([135.4204], dtype=float32),\n",
       " array([134.82086], dtype=float32),\n",
       " array([134.82599], dtype=float32),\n",
       " array([132.02582], dtype=float32),\n",
       " array([130.33408], dtype=float32),\n",
       " array([127.05162], dtype=float32),\n",
       " array([127.04671], dtype=float32),\n",
       " array([127.049835], dtype=float32),\n",
       " array([127.05638], dtype=float32)]"
      ]
     },
     "execution_count": 228,
     "metadata": {},
     "output_type": "execute_result"
    }
   ],
   "source": [
    "pred"
   ]
  },
  {
   "cell_type": "code",
   "execution_count": null,
   "id": "a7da2377",
   "metadata": {},
   "outputs": [],
   "source": []
  }
 ],
 "metadata": {
  "kernelspec": {
   "display_name": "Python 3 (ipykernel)",
   "language": "python",
   "name": "python3"
  },
  "language_info": {
   "codemirror_mode": {
    "name": "ipython",
    "version": 3
   },
   "file_extension": ".py",
   "mimetype": "text/x-python",
   "name": "python",
   "nbconvert_exporter": "python",
   "pygments_lexer": "ipython3",
   "version": "3.8.16"
  }
 },
 "nbformat": 4,
 "nbformat_minor": 5
}
